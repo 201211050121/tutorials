{
 "metadata": {
  "name": "",
  "signature": "sha256:924f59cee69dd73fdaf14d215a8af283e656d9d18694e45eda9b1b83858dee40"
 },
 "nbformat": 3,
 "nbformat_minor": 0,
 "worksheets": [
  {
   "cells": [
    {
     "cell_type": "heading",
     "level": 1,
     "metadata": {},
     "source": [
      "Scipy - Optimization"
     ]
    },
    {
     "cell_type": "markdown",
     "metadata": {},
     "source": [
      "* [1 Brief Introduction to Optimization](#1-Brief-Introduction-to-Optimization)\n",
      "    * [1.1 Dimensionality of the problem](#1.1-Dimensionality-of-the-problem)\n",
      "    * [1.2 Convex versus non-convex optimization](#1.2-Convex-versus-non-convex-optimization)\n",
      "    * [1.3 Smooth and non-smooth problems](#1.3-Smooth-and-non-smooth-problems)\n",
      "* [2 A Simpe Optimization Example](#2-A-Simpe-Optimization-Example)\n",
      "* [3 Finding the roots of a scalar function](#3-Finding-the-roots-of-a-scalar-function)\n",
      "* [4 Curve Fitting](#4-Curve-Fitting)\n",
      "* [5 Optimizing with Box-Bound Constraints](#5-Optimizing-with-Box-Bound-Constraints)\n"
     ]
    },
    {
     "cell_type": "code",
     "collapsed": false,
     "input": [
      "from addutils import css_notebook\n",
      "css_notebook()"
     ],
     "language": "python",
     "metadata": {},
     "outputs": [
      {
       "html": [
        "<style>\n",
        "    @font-face {\n",
        "        font-family: \"Computer Modern\";\n",
        "        src: url('http://mirrors.ctan.org/fonts/cm-unicode/fonts/otf/cmunss.otf');\n",
        "    }\n",
        "    div.cell{\n",
        "        width:900px;\n",
        "        margin-left:0% !important;\n",
        "        margin-right:0%;\n",
        "    }\n",
        "\n",
        "\tcode{\n",
        "\t\tfont-size:10pt\n",
        "\t}\n",
        "\n",
        "    h1 {\n",
        "        font-family: Tahoma, sans-serif;\n",
        "\t\tcolor: rgb( 10, 88, 126 );\n",
        "\t\tfont-size:28pt;\n",
        "    }\n",
        "\th2 {\n",
        "        font-family: Tahoma, sans-serif;\n",
        "\t\tcolor: rgb( 10, 88, 126 );\n",
        "\t\tfont-size:24pt;\n",
        "    }\n",
        "\th3 {\n",
        "        font-family: Tahoma, sans-serif;\n",
        "\t\tcolor: rgb( 10, 88, 126 );\n",
        "\t\tfont-size:20pt;\n",
        "    }\n",
        "    h4 {\n",
        "\t\tfont-family: Tahoma, sans-serif;\n",
        "\t\tcolor: rgb( 10, 88, 126 );\n",
        "\t\tfont-size:18pt;\n",
        "        margin-top:12px;\n",
        "        margin-bottom: 3px;\n",
        "       }\n",
        "\n",
        "\tul {\n",
        "\t\tfont-family: Tahoma, sans-serif;\n",
        "\t\tcolor: rgb( 90, 90, 90 );\n",
        "\t\tfont-size:11pt;\n",
        "\t\tline-height: 185%;\n",
        "\t\t}\n",
        "\n",
        "\tp {\n",
        "\t\tfont-family: Tahoma, sans-serif;\n",
        "\t\tcolor: rgb( 90, 90, 90 );\n",
        "\t\tfont-size:11pt;\n",
        "\t\t}\n",
        "\n",
        "\tstrong {\n",
        "\t\tfont-family: Tahoma, sans-serif;\n",
        "\t\tcolor: rgb( 30, 30, 30 );\n",
        "\t\tfont-size:11pt;\n",
        "\t\t}\n",
        "\n",
        "\ta:link {\n",
        "\t\tfont-family: Tahoma, sans-serif;\n",
        "\t\tcolor: rgb( 10, 88, 126 );\n",
        "\t\tfont-size:11pt;\n",
        "\t\t}\n",
        "\n",
        "\ta:visited {\n",
        "\t\tcolor:rgb( 10, 88, 126 );\n",
        "\t}\n",
        "\n",
        "    div.text_cell_render{\n",
        "        font-family: Helvetica, Courier, Computer Modern, \"Helvetica Neue\", Arial, Geneva, sans-serif;\n",
        "\t\tcolor: rgb( 84, 84, 84 );\n",
        "\t\tfont-size:11pt;\n",
        "        line-height: 125%;\n",
        "        font-size: 100%;\n",
        "        width:800px;\n",
        "        margin-left:auto;\n",
        "        margin-right:auto;\n",
        "    }\n",
        "    .CodeMirror{\n",
        "            font-family: Courier, \"Source Code Pro\", source-code-pro,Consolas, monospace;\n",
        "    }\n",
        "\n",
        "    .text_cell_render h5 {\n",
        "        font-weight: 300;\n",
        "        font-size: 11pt;\n",
        "        color: rgb( 48, 48, 48 );\n",
        "        font-style: italic;\n",
        "        margin-bottom: .5em;\n",
        "        margin-top: 0.5em;\n",
        "        display: block;\n",
        "    }\n",
        "\n",
        "    .warning{\n",
        "        color: rgb( 240, 20, 20 )\n",
        "        }\n",
        ".rendered_html td\n",
        "{\n",
        "text-align: right;\n",
        "}\n",
        "\n",
        "</style>\n",
        "<script>\n",
        "    MathJax.Hub.Config({\n",
        "                        TeX: {\n",
        "                           extensions: [\"AMSmath.js\"]\n",
        "                           },\n",
        "                displayAlign: 'center', // Change this to 'center' to center equations.\n",
        "                \"HTML-CSS\": {\n",
        "                    styles: {'.MathJax_Display': {\"margin\": 4}}\n",
        "                }\n",
        "        });\n",
        "</script>\n"
       ],
       "metadata": {},
       "output_type": "pyout",
       "prompt_number": 1,
       "text": [
        "<IPython.core.display.HTML at 0x36562b0>"
       ]
      }
     ],
     "prompt_number": 1
    },
    {
     "cell_type": "heading",
     "level": 2,
     "metadata": {},
     "source": [
      "1 Brief Introduction to Optimization"
     ]
    },
    {
     "cell_type": "heading",
     "level": 3,
     "metadata": {},
     "source": [
      "1.1 Dimensionality of the problem"
     ]
    },
    {
     "cell_type": "markdown",
     "metadata": {},
     "source": [
      "The scale of an optimization problem is pretty much set by the dimensionality of the problem, i.e. the number of scalar variables on which the search is performed."
     ]
    },
    {
     "cell_type": "heading",
     "level": 3,
     "metadata": {},
     "source": [
      "1.2 Convex versus non-convex optimization"
     ]
    },
    {
     "cell_type": "markdown",
     "metadata": {},
     "source": [
      "Convex functions can be optimized easily with gradient-descend algorithms. Non-convex functions optimization problems are much more difficult, expecially for higher dimensionality problems. This second class of optimization problems are not analyzed in this brief tutorial but are part of a specialised course."
     ]
    },
    {
     "cell_type": "markdown",
     "metadata": {},
     "source": [
      "<div style=\"float:left;\"><img src=\"files/utilities/convex_function.png\"><br />Convex function</div>\n",
      "<div><img src=\"files/utilities/non_convex_function.png\"><br />Non Convex Function</div>"
     ]
    },
    {
     "cell_type": "heading",
     "level": 3,
     "metadata": {},
     "source": [
      "1.3 Smooth and non-smooth problems"
     ]
    },
    {
     "cell_type": "markdown",
     "metadata": {},
     "source": [
      "In a smooth problem the gradient is defined everywhere: this helps in speeding-up the optimization algorithms."
     ]
    },
    {
     "cell_type": "markdown",
     "metadata": {},
     "source": [
      "<div style=\"float:left;\"><img src=\"files/utilities/smooth_function.png\"><br />Smooth function</div>\n",
      "<div><img src=\"files/utilities/non_smooth_function.png\"><br />Non Smooth Function</div>"
     ]
    },
    {
     "cell_type": "heading",
     "level": 2,
     "metadata": {},
     "source": [
      "2 A Simpe Optimization Example"
     ]
    },
    {
     "cell_type": "markdown",
     "metadata": {},
     "source": [
      "The `scipy.optimize` module provides useful algorithms for function minimization (scalar or multi-dimensional), curve fitting and root finding.\n",
      "\n",
      "Let's find the minimum of this simple smooth non-convex function:"
     ]
    },
    {
     "cell_type": "code",
     "collapsed": false,
     "input": [
      "%matplotlib inline\n",
      "import matplotlib.pyplot as plt\n",
      "import numpy as np"
     ],
     "language": "python",
     "metadata": {},
     "outputs": [],
     "prompt_number": 2
    },
    {
     "cell_type": "code",
     "collapsed": false,
     "input": [
      "from scipy import optimize\n",
      "#import numpy as np --> not needed in this case since included in %pylab inline command\n",
      "\n",
      "def f(x):\n",
      "    return x**2 + 10*np.sin(x)\n",
      "\n",
      "x = np.arange(-10, 10, 0.1)\n",
      "plt.plot(x, f(x)) \n",
      "plt.show() "
     ],
     "language": "python",
     "metadata": {},
     "outputs": [
      {
       "metadata": {},
       "output_type": "display_data",
       "png": "[encoded data removed]",
       "text": [
        "<matplotlib.figure.Figure at 0xbdbdef0>"
       ]
      }
     ],
     "prompt_number": 3
    },
    {
     "cell_type": "markdown",
     "metadata": {},
     "source": [
      "This function has a global minimum around -1.3 and a local minimum around 3.8.\n",
      "\n",
      "The general and efficient way to find a minimum for this function is to conduct a gradient descent starting from a given initial point. The [BFGS](http://docs.scipy.org/doc/scipy/reference/generated/scipy.optimize.fmin_bfgs.html?highlight=bfgs#scipy.optimize.fmin_bfgs) (quasi-Newton method of Broyden, Fletcher, Goldfarb, and Shanno) algorithm is a good way of doing this:"
     ]
    },
    {
     "cell_type": "code",
     "collapsed": false,
     "input": [
      "optimize.fmin_bfgs(f, 0)"
     ],
     "language": "python",
     "metadata": {},
     "outputs": [
      {
       "output_type": "stream",
       "stream": "stdout",
       "text": [
        "Optimization terminated successfully.\n",
        "         Current function value: -7.945823\n",
        "         Iterations: 5\n",
        "         Function evaluations: 24\n",
        "         Gradient evaluations: 8\n"
       ]
      },
      {
       "metadata": {},
       "output_type": "pyout",
       "prompt_number": 4,
       "text": [
        "array([-1.30644003])"
       ]
      }
     ],
     "prompt_number": 4
    },
    {
     "cell_type": "markdown",
     "metadata": {},
     "source": [
      "A possible issue with this approach is that, if the function has local minima, the algorithm may find these local minima instead of the global minimum. `scipy.optimize.anneal()` provides an alternative, using simulated annealing. More efficient algorithms for different classes of global optimization problems exist, but this is out of the scope of scipy. Some useful packages for global optimization are [OpenOpt](http://openopt.org/Welcome), [PyGMO](http://pagmo.sourceforge.net/pygmo/index.html) and [PyEvolve](http://pyevolve.sourceforge.net/)."
     ]
    },
    {
     "cell_type": "heading",
     "level": 2,
     "metadata": {},
     "source": [
      "3 Finding the roots of a scalar function"
     ]
    },
    {
     "cell_type": "markdown",
     "metadata": {},
     "source": [
      "To find a root, i.e. a point where `f(x) = 0`, of the function f above we can use for example `scipy.optimize.fsolve()`:"
     ]
    },
    {
     "cell_type": "code",
     "collapsed": false,
     "input": [
      "root = optimize.fsolve(f, 1)\n",
      "root"
     ],
     "language": "python",
     "metadata": {},
     "outputs": [
      {
       "metadata": {},
       "output_type": "pyout",
       "prompt_number": 5,
       "text": [
        "array([ 0.])"
       ]
      }
     ],
     "prompt_number": 5
    },
    {
     "cell_type": "markdown",
     "metadata": {},
     "source": [
      "Note that only one root is found. Inspecting the plot of f reveals that there is a second root around -2.5. We find the exact value of it by adjusting our initial guess:"
     ]
    },
    {
     "cell_type": "code",
     "collapsed": false,
     "input": [
      "root2 = optimize.fsolve(f, -2.5)\n",
      "root2"
     ],
     "language": "python",
     "metadata": {},
     "outputs": [
      {
       "metadata": {},
       "output_type": "pyout",
       "prompt_number": 6,
       "text": [
        "array([-2.47948183])"
       ]
      }
     ],
     "prompt_number": 6
    },
    {
     "cell_type": "heading",
     "level": 2,
     "metadata": {},
     "source": [
      "4 Curve Fitting"
     ]
    },
    {
     "cell_type": "markdown",
     "metadata": {},
     "source": [
      "Suppose we have data sampled from `f` with some noise:"
     ]
    },
    {
     "cell_type": "code",
     "collapsed": false,
     "input": [
      "xdata = np.linspace(-10, 10, num=20)\n",
      "ydata = f(xdata) + np.random.randn(xdata.size)"
     ],
     "language": "python",
     "metadata": {},
     "outputs": [],
     "prompt_number": 7
    },
    {
     "cell_type": "markdown",
     "metadata": {},
     "source": [
      "Now if we know the functional form of the function from which the samples were drawn (`x^2 + sin(x)` in this case) but not the amplitudes of the terms, we can find those by least squares curve fitting. First we have to define the function to fit:"
     ]
    },
    {
     "cell_type": "code",
     "collapsed": false,
     "input": [
      "def f2(x, a, b):\n",
      "    return a*x**2 + b*np.sin(x)"
     ],
     "language": "python",
     "metadata": {},
     "outputs": [],
     "prompt_number": 8
    },
    {
     "cell_type": "markdown",
     "metadata": {},
     "source": [
      "Then we can use `scipy.optimize.curve_fit()` to find `a` and `b`:"
     ]
    },
    {
     "cell_type": "code",
     "collapsed": false,
     "input": [
      "guess = [2, 2]\n",
      "params, params_covariance = optimize.curve_fit(f2, xdata, ydata, guess)\n",
      "\n",
      "grid = (-10, 10, 0.1)\n",
      "xmin_global = optimize.brute(f, (grid,))\n",
      "xmin_local = optimize.fminbound(f, 0, 10)\n",
      "\n",
      "fig = plt.figure()\n",
      "ax = fig.add_subplot(111)\n",
      "ax.plot(x, f(x), 'b-', label=\"f(x)\")\n",
      "ax.plot(x, f2(x, *params), 'r--', label=\"Curve fit result\")\n",
      "xmins = np.array([xmin_global[0], xmin_local])\n",
      "ax.plot(xmins, f(xmins), 'go', label=\"Minima\")\n",
      "roots = np.array([root, root2])\n",
      "ax.plot(roots, f(roots), 'kv', label=\"Roots\")\n",
      "ax.legend()\n",
      "ax.set_xlabel('x')\n",
      "ax.set_ylabel('f(x)')\n"
     ],
     "language": "python",
     "metadata": {},
     "outputs": [
      {
       "metadata": {},
       "output_type": "pyout",
       "prompt_number": 9,
       "text": [
        "<matplotlib.text.Text at 0xc28ce48>"
       ]
      },
      {
       "metadata": {},
       "output_type": "display_data",
       "png": "[encoded data removed]",
       "text": [
        "<matplotlib.figure.Figure at 0xc1f7c88>"
       ]
      }
     ],
     "prompt_number": 9
    },
    {
     "cell_type": "heading",
     "level": 2,
     "metadata": {},
     "source": [
      "5 Optimizing with Box-Bound Constraints"
     ]
    },
    {
     "cell_type": "markdown",
     "metadata": {},
     "source": [
      "Box bounds correspond to limiting each of the individual parameters of the optimization. Note that some problems that are not originally written as box bounds can be rewritten as such be a change of variables.\n",
      "\n",
      "* `scipy.optimize.fminbound()` for 1D-optimization\n",
      "* `scipy.optimize.fmin_l_bfgs_b()` a quasi-Newton method with bound constraints"
     ]
    },
    {
     "cell_type": "code",
     "collapsed": false,
     "input": [
      "x, y = np.mgrid[-2.9:5.8:.05, -2.5:5:.05]\n",
      "x = x.T\n",
      "y = y.T\n",
      "\n",
      "for i in (1, 2):\n",
      "    # Create 2 figure: only the second one will have the optimization\n",
      "    # path\n",
      "    plt.figure(i, figsize=(3, 2.5))\n",
      "    plt.clf()\n",
      "    plt.axes([0, 0, 1, 1])\n",
      "\n",
      "    contours = plt.contour(np.sqrt((x - 3)**2 + (y - 2)**2),\n",
      "                           extent=[-3, 6, -2.5, 5], cmap=plt.cm.gnuplot)\n",
      "    plt.clabel(contours, inline=1, fmt='%1.1f', fontsize=14)\n",
      "    plt.plot([-1.5, -1.5,  1.5,  1.5, -1.5],\n",
      "             [-1.5,  1.5,  1.5, -1.5, -1.5], 'k', linewidth=2)\n",
      "    plt.fill_between([ -1.5,  1.5],\n",
      "                     [ -1.5, -1.5],\n",
      "                     [  1.5,  1.5],\n",
      "                     color='.8')\n",
      "    plt.axvline(0, color='k')\n",
      "    plt.axhline(0, color='k')\n",
      "\n",
      "    plt.text(-.9, 4.4, '$x_2$', size=20)\n",
      "    plt.text(5.6, -.6, '$x_1$', size=20)\n",
      "    plt.axis('equal')\n",
      "    plt.axis('off')\n",
      "\n",
      "# And now plot the optimization path\n",
      "accumulator = list()\n",
      "\n",
      "def f(x):\n",
      "    # Store the list of function calls\n",
      "    accumulator.append(x)\n",
      "    return np.sqrt((x[0] - 3)**2 + (x[1] - 2)**2)\n",
      "\n",
      "# We don't use the gradient, as with the gradient, L-BFGS is too fast,\n",
      "# and finds the optimum without showing us a pretty path\n",
      "def f_prime(x):\n",
      "    r = np.sqrt((x[0] - 3)**2 + (x[0] - 2)**2)\n",
      "    return np.array(((x[0] - 3)/r, (x[0] - 2)/r))\n",
      "\n",
      "optimize.fmin_l_bfgs_b(f, np.array([0, 0]), approx_grad=1,\n",
      "                       bounds=((-1.5, 1.5), (-1.5, 1.5)))\n",
      "\n",
      "accumulated = np.array(accumulator)\n",
      "plt.plot(accumulated[:, 0], accumulated[:, 1])\n",
      "\n",
      "plt.show()"
     ],
     "language": "python",
     "metadata": {},
     "outputs": [
      {
       "output_type": "stream",
       "stream": "stderr",
       "text": [
        "C:\\Users\\Cristina\\Anaconda\\lib\\site-packages\\matplotlib\\text.py:52: UnicodeWarning: Unicode equal comparison failed to convert both arguments to Unicode - interpreting them as being unequal\n",
        "  if rotation in ('horizontal', None):\n",
        "C:\\Users\\Cristina\\Anaconda\\lib\\site-packages\\matplotlib\\text.py:54: UnicodeWarning: Unicode equal comparison failed to convert both arguments to Unicode - interpreting them as being unequal\n",
        "  elif rotation == 'vertical':\n"
       ]
      },
      {
       "metadata": {},
       "output_type": "display_data",
       "png": "[encoded data removed]",
       "text": [
        "<matplotlib.figure.Figure at 0xc2b1b70>"
       ]
      },
      {
       "metadata": {},
       "output_type": "display_data",
       "png": "[encoded data removed]",
       "text": [
        "<matplotlib.figure.Figure at 0xc7708d0>"
       ]
      }
     ],
     "prompt_number": 10
    },
    {
     "cell_type": "markdown",
     "metadata": {},
     "source": [
      "---\n",
      "\n",
      "Email **training [at ]add-for [dot] com** for more information and custom training programs."
     ]
    }
   ],
   "metadata": {}
  }
 ]
}