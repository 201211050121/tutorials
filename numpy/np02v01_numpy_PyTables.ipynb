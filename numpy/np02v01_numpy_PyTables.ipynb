{
 "metadata": {
  "name": "",
  "signature": "sha256:2b994ebd4f125de409a4cfb77e1db705f7ca890d970ab7f7a2765f1fa1b51eba"
 },
 "nbformat": 3,
 "nbformat_minor": 0,
 "worksheets": [
  {
   "cells": [
    {
     "cell_type": "heading",
     "level": 1,
     "metadata": {},
     "source": [
      "PyTables"
     ]
    },
    {
     "cell_type": "markdown",
     "metadata": {},
     "source": [
      "* [1 The Array Object](#1-The-Array-Object)\n",
      "* [2 The CArray Object](#2-The-CArray-Object)\n",
      "* [3 The Table Object](#3-The-Table-Object)\n",
      "* [4 The EArray Object](#4-The-EArray-Object)\n"
     ]
    },
    {
     "cell_type": "markdown",
     "metadata": {},
     "source": [
      "PyTables is an high-performance, on-disk data container, query engine and computation kernel, with an easy-to-use interface, developed by Francesc Alted since 2002."
     ]
    },
    {
     "cell_type": "code",
     "collapsed": false,
     "input": [
      "from addutils import css_notebook\n",
      "css_notebook()"
     ],
     "language": "python",
     "metadata": {},
     "outputs": [
      {
       "html": [
        "<style>\n",
        "    @font-face {\n",
        "        font-family: \"Computer Modern\";\n",
        "        src: url('http://mirrors.ctan.org/fonts/cm-unicode/fonts/otf/cmunss.otf');\n",
        "    }\n",
        "    div.cell{\n",
        "        width:900px;\n",
        "        margin-left:0% !important;\n",
        "        margin-right:0%;\n",
        "    }\n",
        "\n",
        "\tcode{\n",
        "\t\tfont-size:10pt\n",
        "\t}\n",
        "\n",
        "    h1 {\n",
        "        font-family: Tahoma, sans-serif;\n",
        "\t\tcolor: rgb( 10, 88, 126 );\n",
        "\t\tfont-size:28pt;\n",
        "    }\n",
        "\th2 {\n",
        "        font-family: Tahoma, sans-serif;\n",
        "\t\tcolor: rgb( 10, 88, 126 );\n",
        "\t\tfont-size:24pt;\n",
        "    }\n",
        "\th3 {\n",
        "        font-family: Tahoma, sans-serif;\n",
        "\t\tcolor: rgb( 10, 88, 126 );\n",
        "\t\tfont-size:20pt;\n",
        "    }\n",
        "    h4 {\n",
        "\t\tfont-family: Tahoma, sans-serif;\n",
        "\t\tcolor: rgb( 10, 88, 126 );\n",
        "\t\tfont-size:18pt;\n",
        "        margin-top:12px;\n",
        "        margin-bottom: 3px;\n",
        "       }\n",
        "\n",
        "\tul {\n",
        "\t\tfont-family: Tahoma, sans-serif;\n",
        "\t\tcolor: rgb( 90, 90, 90 );\n",
        "\t\tfont-size:11pt;\n",
        "\t\tline-height: 185%;\n",
        "\t\t}\n",
        "\n",
        "\tp {\n",
        "\t\tfont-family: Tahoma, sans-serif;\n",
        "\t\tcolor: rgb( 90, 90, 90 );\n",
        "\t\tfont-size:11pt;\n",
        "\t\t}\n",
        "\n",
        "\tstrong {\n",
        "\t\tfont-family: Tahoma, sans-serif;\n",
        "\t\tcolor: rgb( 30, 30, 30 );\n",
        "\t\tfont-size:11pt;\n",
        "\t\t}\n",
        "\n",
        "\ta:link {\n",
        "\t\tfont-family: Tahoma, sans-serif;\n",
        "\t\tcolor: rgb( 10, 88, 126 );\n",
        "\t\tfont-size:11pt;\n",
        "\t\t}\n",
        "\n",
        "\ta:visited {\n",
        "\t\tcolor:rgb( 10, 88, 126 );\n",
        "\t}\n",
        "\n",
        "    div.text_cell_render{\n",
        "        font-family: Helvetica, Courier, Computer Modern, \"Helvetica Neue\", Arial, Geneva, sans-serif;\n",
        "\t\tcolor: rgb( 84, 84, 84 );\n",
        "\t\tfont-size:11pt;\n",
        "        line-height: 125%;\n",
        "        font-size: 100%;\n",
        "        width:800px;\n",
        "        margin-left:auto;\n",
        "        margin-right:auto;\n",
        "    }\n",
        "    .CodeMirror{\n",
        "            font-family: Courier, \"Source Code Pro\", source-code-pro,Consolas, monospace;\n",
        "    }\n",
        "\n",
        "    .text_cell_render h5 {\n",
        "        font-weight: 300;\n",
        "        font-size: 11pt;\n",
        "        color: rgb( 48, 48, 48 );\n",
        "        font-style: italic;\n",
        "        margin-bottom: .5em;\n",
        "        margin-top: 0.5em;\n",
        "        display: block;\n",
        "    }\n",
        "\n",
        "    .warning{\n",
        "        color: rgb( 240, 20, 20 )\n",
        "        }\n",
        ".rendered_html td\n",
        "{\n",
        "text-align: right;\n",
        "}\n",
        "\n",
        "</style>\n",
        "<script>\n",
        "    MathJax.Hub.Config({\n",
        "                        TeX: {\n",
        "                           extensions: [\"AMSmath.js\"]\n",
        "                           },\n",
        "                displayAlign: 'center', // Change this to 'center' to center equations.\n",
        "                \"HTML-CSS\": {\n",
        "                    styles: {'.MathJax_Display': {\"margin\": 4}}\n",
        "                }\n",
        "        });\n",
        "</script>\n"
       ],
       "metadata": {},
       "output_type": "pyout",
       "prompt_number": 1,
       "text": [
        "<IPython.core.display.HTML at 0x36162b0>"
       ]
      }
     ],
     "prompt_number": 1
    },
    {
     "cell_type": "markdown",
     "metadata": {},
     "source": [
      "**PyTables - What is it?**\n",
      "\n",
      "PyTables is a Python package wich allows dealing with HDF5 tables and:\n",
      "\n",
      "* a binary data container for on-disk, structured data\n",
      "* with support for data compression: Zlib, bzip2, LZO and Blosc\n",
      "* with powerful query and indexing capabilities\n",
      "* can perform out-of-core (data on-disk) operations very efficiently\n",
      "* based on the standard de-facto [HDF5](http://www.hdfgroup.org/HDF5/) format\n",
      "* free software ([BSD license](http://opensource.org/licenses/BSD-2-Clause))"
     ]
    },
    {
     "cell_type": "markdown",
     "metadata": {},
     "source": [
      "**PyTables - What is not**\n",
      "\n",
      "* NOT a relational database replacement\n",
      "* not a distributed database\n",
      "* not extremely secure of safe (it's more about speed)\n",
      "* not a mere HDF5  wrapper"
     ]
    },
    {
     "cell_type": "heading",
     "level": 2,
     "metadata": {},
     "source": [
      "1 The Array Object"
     ]
    },
    {
     "cell_type": "markdown",
     "metadata": {},
     "source": [
      "---\n",
      "\n",
      "<a name=\"arrayobject\"><img src=\"files/utilities/arrayobject.jpg\"  style=\"max-width: 100%\"/>"
     ]
    },
    {
     "cell_type": "code",
     "collapsed": false,
     "input": [
      "import numpy as np\n",
      "import tables as tb"
     ],
     "language": "python",
     "metadata": {},
     "outputs": [],
     "prompt_number": 3
    },
    {
     "cell_type": "code",
     "collapsed": false,
     "input": [
      "import os.path\n",
      "atest = os.path.join(os.path.curdir, \"temp\", \"atest.h5\")\n",
      "f = tb.openFile(atest, 'w')  # Create a new file in \"write\" mode\n",
      "a = np.arange(50).reshape(5,10)        # Create a NumPy array\n",
      "f.createArray(f.root, 'my_array1', a)     # Save the array"
     ],
     "language": "python",
     "metadata": {},
     "outputs": [
      {
       "metadata": {},
       "output_type": "pyout",
       "prompt_number": 4,
       "text": [
        "/my_array1 (Array(5L, 10L)) ''\n",
        "  atom := Int32Atom(shape=(), dflt=0)\n",
        "  maindim := 0\n",
        "  flavor := 'numpy'\n",
        "  byteorder := 'little'\n",
        "  chunkshape := None"
       ]
      }
     ],
     "prompt_number": 4
    },
    {
     "cell_type": "markdown",
     "metadata": {},
     "source": [
      "The `createArray` method returns a handler of the array **on disk**. This handler reports that we are working with an array called `my_array1` made of 32 bit integers. 'Flavor' indicates that this array has been created by numpy.\n",
      "\n",
      "Now we can retrieve the data from disk by using the indexing notation:"
     ]
    },
    {
     "cell_type": "code",
     "collapsed": false,
     "input": [
      "f.root.my_array1[:]"
     ],
     "language": "python",
     "metadata": {},
     "outputs": [
      {
       "metadata": {},
       "output_type": "pyout",
       "prompt_number": 5,
       "text": [
        "array([[ 0,  1,  2,  3,  4,  5,  6,  7,  8,  9],\n",
        "       [10, 11, 12, 13, 14, 15, 16, 17, 18, 19],\n",
        "       [20, 21, 22, 23, 24, 25, 26, 27, 28, 29],\n",
        "       [30, 31, 32, 33, 34, 35, 36, 37, 38, 39],\n",
        "       [40, 41, 42, 43, 44, 45, 46, 47, 48, 49]])"
       ]
      }
     ],
     "prompt_number": 5
    },
    {
     "cell_type": "markdown",
     "metadata": {},
     "source": [
      "We can also select sub-arrays. In this case, just the data related to the sub-array are actually read from disk:"
     ]
    },
    {
     "cell_type": "code",
     "collapsed": false,
     "input": [
      "f.root.my_array1[1:5:2,0:5]"
     ],
     "language": "python",
     "metadata": {},
     "outputs": [
      {
       "metadata": {},
       "output_type": "pyout",
       "prompt_number": 6,
       "text": [
        "array([[10, 11, 12, 13, 14],\n",
        "       [30, 31, 32, 33, 34]])"
       ]
      }
     ],
     "prompt_number": 6
    },
    {
     "cell_type": "markdown",
     "metadata": {},
     "source": [
      "Using `np.allclose` we can check that the data read from disk are equal to the corresponding data in RAM:"
     ]
    },
    {
     "cell_type": "code",
     "collapsed": false,
     "input": [
      "np.allclose(f.root.my_array1[1:5:2,0:5], a[1:5:2,0:5])"
     ],
     "language": "python",
     "metadata": {},
     "outputs": [
      {
       "metadata": {},
       "output_type": "pyout",
       "prompt_number": 7,
       "text": [
        "True"
       ]
      }
     ],
     "prompt_number": 7
    },
    {
     "cell_type": "markdown",
     "metadata": {},
     "source": [
      "HDF5 files have a hierarchical structure. We have now a `atest.h5` file that contains an Array named `'my_array1'`. We can create a second array in the same file called `'my_array2'`:"
     ]
    },
    {
     "cell_type": "code",
     "collapsed": false,
     "input": [
      "f.createArray(f.root, 'my_array2', np.arange(10))\n",
      "f.root"
     ],
     "language": "python",
     "metadata": {},
     "outputs": [
      {
       "metadata": {},
       "output_type": "pyout",
       "prompt_number": 8,
       "text": [
        "/ (RootGroup) u''\n",
        "  children := ['my_array1' (Array), 'my_array2' (Array)]"
       ]
      }
     ],
     "prompt_number": 8
    },
    {
     "cell_type": "markdown",
     "metadata": {},
     "source": [
      "... And we can attach to these arrays additional information in form of attributes (metadata):"
     ]
    },
    {
     "cell_type": "code",
     "collapsed": false,
     "input": [
      "f.root.my_array1.attrs"
     ],
     "language": "python",
     "metadata": {},
     "outputs": [
      {
       "metadata": {},
       "output_type": "pyout",
       "prompt_number": 9,
       "text": [
        "/my_array1._v_attrs (AttributeSet), 4 attributes:\n",
        "   [CLASS := 'ARRAY',\n",
        "    FLAVOR := 'numpy',\n",
        "    TITLE := '',\n",
        "    VERSION := '2.4']"
       ]
      }
     ],
     "prompt_number": 9
    },
    {
     "cell_type": "code",
     "collapsed": false,
     "input": [
      "f.root.my_array1.attrs.MY_ATTRIBUTE = \"This is a metadata I can attach to any array\"\n",
      "f.root.my_array1.attrs"
     ],
     "language": "python",
     "metadata": {},
     "outputs": [
      {
       "metadata": {},
       "output_type": "pyout",
       "prompt_number": 10,
       "text": [
        "/my_array1._v_attrs (AttributeSet), 5 attributes:\n",
        "   [CLASS := 'ARRAY',\n",
        "    FLAVOR := 'numpy',\n",
        "    MY_ATTRIBUTE := 'This is a metadata I can attach to any array',\n",
        "    TITLE := '',\n",
        "    VERSION := '2.4']"
       ]
      }
     ],
     "prompt_number": 10
    },
    {
     "cell_type": "markdown",
     "metadata": {},
     "source": [
      "Now check the `temp/atest.h5` filesize: it's zero! This is because PyTables is highly optimized and keeps the data in RAM (bufferize IO) until the file is closed or there is not available RAM or when you explicitly call a `flush()` method."
     ]
    },
    {
     "cell_type": "code",
     "collapsed": false,
     "input": [
      "# Flush data to the file (very important to keep all your data safe!)\n",
      "f.flush()"
     ],
     "language": "python",
     "metadata": {},
     "outputs": [],
     "prompt_number": 11
    },
    {
     "cell_type": "markdown",
     "metadata": {},
     "source": [
      "Check again the `atest.h5` filesize: now the data has been flushed and the file got a size different from zero."
     ]
    },
    {
     "cell_type": "code",
     "collapsed": false,
     "input": [
      "f.close()  # close access to file"
     ],
     "language": "python",
     "metadata": {},
     "outputs": [],
     "prompt_number": 12
    },
    {
     "cell_type": "heading",
     "level": 2,
     "metadata": {},
     "source": [
      "2 The CArray Object"
     ]
    },
    {
     "cell_type": "markdown",
     "metadata": {},
     "source": [
      "---\n",
      "\n",
      "<a name=\"carrayobject\"><img src=\"files/utilities/carrayobject.jpg\"  style=\"max-width: 100%\"/>"
     ]
    },
    {
     "cell_type": "markdown",
     "metadata": {},
     "source": [
      "When creating a new CArray (Compressible Array), type and shape must be passed to the constructor:"
     ]
    },
    {
     "cell_type": "code",
     "collapsed": false,
     "input": [
      "ctest = os.path.join(os.path.curdir, \"temp\", \"ctest.h5\")\n",
      "f = tb.openFile(ctest, 'w')\n",
      "f.createCArray(f.root, 'my_carray1', tb.Float64Atom(), (10000,1000))"
     ],
     "language": "python",
     "metadata": {},
     "outputs": [
      {
       "metadata": {},
       "output_type": "pyout",
       "prompt_number": 13,
       "text": [
        "/my_carray1 (CArray(10000, 1000)) ''\n",
        "  atom := Float64Atom(shape=(), dflt=0.0)\n",
        "  maindim := 0\n",
        "  flavor := 'numpy'\n",
        "  byteorder := 'little'\n",
        "  chunkshape := (16, 1000)"
       ]
      }
     ],
     "prompt_number": 13
    },
    {
     "cell_type": "code",
     "collapsed": false,
     "input": [
      "f.flush()"
     ],
     "language": "python",
     "metadata": {},
     "outputs": [],
     "prompt_number": 14
    },
    {
     "cell_type": "markdown",
     "metadata": {},
     "source": [
      "Now check the `temp/ctest.h5` filesize: it's 1KB even if the array is Float64 10000x1000. This is because PyTables just stored the CArray metadata. Now we'll push some data in the CArray container. For simplicity we define a new name for the carray handle: `ca = f.root.my_carray1`"
     ]
    },
    {
     "cell_type": "code",
     "collapsed": false,
     "input": [
      "ca = f.root.my_carray1\n",
      "na = np.linspace(0, 1, 1e7).reshape(10000,1000)\n",
      "%time ca[:] = na"
     ],
     "language": "python",
     "metadata": {},
     "outputs": [
      {
       "output_type": "stream",
       "stream": "stdout",
       "text": [
        "Wall time: 50 ms\n"
       ]
      }
     ],
     "prompt_number": 15
    },
    {
     "cell_type": "code",
     "collapsed": false,
     "input": [
      "f.close()"
     ],
     "language": "python",
     "metadata": {},
     "outputs": [],
     "prompt_number": 16
    },
    {
     "cell_type": "markdown",
     "metadata": {},
     "source": [
      "Now check the `temp/catest.h5` filesize: it's 76MB whis is exactly the uncompressed space required by a 64bit 10000x1000 matrix.\n",
      "\n",
      "CArray allows for data compression: lets try to use a `blosc` compressor with `complevel=5`: filesize must be reduced to 8.7MB!"
     ]
    },
    {
     "cell_type": "code",
     "collapsed": false,
     "input": [
      "f = tb.openFile(ctest, 'w')\n",
      "f.createCArray(f.root, 'my_carray1', tb.Float64Atom(), (10000,1000),\n",
      "               filters=tb.Filters(complevel=5, complib='blosc'))\n",
      "%time f.root.my_carray1[:] = na\n",
      "f.close()"
     ],
     "language": "python",
     "metadata": {},
     "outputs": [
      {
       "output_type": "stream",
       "stream": "stdout",
       "text": [
        "Wall time: 402 ms\n"
       ]
      }
     ],
     "prompt_number": 17
    },
    {
     "cell_type": "markdown",
     "metadata": {},
     "source": [
      "***Try by yourself*** the following compression options:\n",
      "    \n",
      "    (complevel=9, complib='blosc')\n",
      "    (complevel=5, complib='zlib')\n",
      "    (complevel=9, complib='lzo')\n",
      "    (complevel=5, complib='bzip2')"
     ]
    },
    {
     "cell_type": "code",
     "collapsed": false,
     "input": [],
     "language": "python",
     "metadata": {},
     "outputs": []
    },
    {
     "cell_type": "markdown",
     "metadata": {},
     "source": [
      "We can now check how much do it takes to read a small, non-contiguous sub-array by using the `%timeit` magic function: the read operation will be run multiple times to better measure the execution time:"
     ]
    },
    {
     "cell_type": "code",
     "collapsed": false,
     "input": [
      "f = tb.openFile(ctest, 'r')\n",
      "%timeit f.root.my_carray1[:4,::100]\n",
      "f.close()"
     ],
     "language": "python",
     "metadata": {},
     "outputs": [
      {
       "output_type": "stream",
       "stream": "stdout",
       "text": [
        "10000 loops, best of 3: 66 \u00b5s per loop\n"
       ]
      }
     ],
     "prompt_number": 18
    },
    {
     "cell_type": "heading",
     "level": 2,
     "metadata": {},
     "source": [
      "3 The Table Object"
     ]
    },
    {
     "cell_type": "markdown",
     "metadata": {},
     "source": [
      "---\n",
      "<a name=\"tableobject\"><img src=\"files/utilities/tableobject.jpg\"  style=\"max-width: 100%\"/>"
     ]
    },
    {
     "cell_type": "markdown",
     "metadata": {},
     "source": [
      "To create a new Table Object we must first describe the fields:"
     ]
    },
    {
     "cell_type": "code",
     "collapsed": false,
     "input": [
      "class TabularData(tb.IsDescription):\n",
      "    col1 = tb.StringCol(200)\n",
      "    col2 = tb.IntCol()\n",
      "    col3 = tb.Float32Col(10)"
     ],
     "language": "python",
     "metadata": {},
     "outputs": [],
     "prompt_number": 19
    },
    {
     "cell_type": "code",
     "collapsed": false,
     "input": [
      "# Open a file and create the Table container\n",
      "atable = os.path.join(os.path.curdir, \"temp\", \"atable.h5\")\n",
      "f = tb.openFile(atable, 'w')\n",
      "t = f.createTable(f.root, 'my_table1', TabularData, 'Table Title',\n",
      "                  filters=tb.Filters(complevel=5, complib='blosc'))"
     ],
     "language": "python",
     "metadata": {},
     "outputs": [],
     "prompt_number": 20
    },
    {
     "cell_type": "code",
     "collapsed": false,
     "input": [
      "t"
     ],
     "language": "python",
     "metadata": {},
     "outputs": [
      {
       "metadata": {},
       "output_type": "pyout",
       "prompt_number": 21,
       "text": [
        "/my_table1 (Table(0,), shuffle, blosc(5)) 'Table Title'\n",
        "  description := {\n",
        "  \"col1\": StringCol(itemsize=200, shape=(), dflt='', pos=0),\n",
        "  \"col2\": Int32Col(shape=(), dflt=0, pos=1),\n",
        "  \"col3\": Float32Col(shape=(10,), dflt=0.0, pos=2)}\n",
        "  byteorder := 'little'\n",
        "  chunkshape := (268,)"
       ]
      }
     ],
     "prompt_number": 21
    },
    {
     "cell_type": "code",
     "collapsed": false,
     "input": [
      "#  Fill the table with some 1 million rows\n",
      "from time import time\n",
      "t0 = time()\n",
      "r = t.row\n",
      "for i in xrange(1000*1000):\n",
      "    r['col1'] = str(i)\n",
      "    r['col2'] = i+1\n",
      "    r['col3'] = np.arange(10, dtype=np.float32)+i\n",
      "    r.append()\n",
      "t.flush()\n",
      "print \"Insert time: {:.3f}s\".format(time()-t0,)"
     ],
     "language": "python",
     "metadata": {},
     "outputs": [
      {
       "output_type": "stream",
       "stream": "stdout",
       "text": [
        "Insert time: 7.381s\n"
       ]
      }
     ],
     "prompt_number": 22
    },
    {
     "cell_type": "code",
     "collapsed": false,
     "input": [
      "t"
     ],
     "language": "python",
     "metadata": {},
     "outputs": [
      {
       "metadata": {},
       "output_type": "pyout",
       "prompt_number": 23,
       "text": [
        "/my_table1 (Table(1000000,), shuffle, blosc(5)) 'Table Title'\n",
        "  description := {\n",
        "  \"col1\": StringCol(itemsize=200, shape=(), dflt='', pos=0),\n",
        "  \"col2\": Int32Col(shape=(), dflt=0, pos=1),\n",
        "  \"col3\": Float32Col(shape=(10,), dflt=0.0, pos=2)}\n",
        "  byteorder := 'little'\n",
        "  chunkshape := (268,)"
       ]
      }
     ],
     "prompt_number": 23
    },
    {
     "cell_type": "markdown",
     "metadata": {},
     "source": [
      "`chunkshape := (268,)` means that every 268 rows a datachunk is created, compressed and saved on disk.\n",
      "\n",
      "The uncompressed size of the dataset can be calculated by multiplying the number of rows `t.shape[0]` by the size of each row `t.dtype.itemsize`. In this example the size of each row is 244 bytes: 200 bytes for the string field, 4 for the Int field and 40 for the ten Float32. If you check the filesize on disk you will see that since we used a blosc compression algorithm, we managed to reduce the **filesize from 232MB to 3.6MB**!"
     ]
    },
    {
     "cell_type": "code",
     "collapsed": false,
     "input": [
      "t.shape[0]*t.dtype.itemsize/2**20."
     ],
     "language": "python",
     "metadata": {},
     "outputs": [
      {
       "metadata": {},
       "output_type": "pyout",
       "prompt_number": 24,
       "text": [
        "232.696533203125"
       ]
      }
     ],
     "prompt_number": 24
    },
    {
     "cell_type": "markdown",
     "metadata": {},
     "source": [
      "With Tables we can do queries. For example here we extract values of `col1` where `col2 < 10`: in **less than one second we query 1.000.000 records**."
     ]
    },
    {
     "cell_type": "code",
     "collapsed": false,
     "input": [
      "%time [r['col1'] for r in t if r['col2'] < 10]"
     ],
     "language": "python",
     "metadata": {},
     "outputs": [
      {
       "output_type": "stream",
       "stream": "stdout",
       "text": [
        "Wall time: 459 ms\n"
       ]
      },
      {
       "metadata": {},
       "output_type": "pyout",
       "prompt_number": 25,
       "text": [
        "['0', '1', '2', '3', '4', '5', '6', '7', '8']"
       ]
      }
     ],
     "prompt_number": 25
    },
    {
     "cell_type": "markdown",
     "metadata": {},
     "source": [
      "We can be even faster by using **in-kernel methods** instead of using the regular Python condition. Condition defined as a string with the `where` method are evaluated. [numexpr](http://code.google.com/p/numexpr/) is a package that accepts the expression as a string, analyzes it, rewrites it more efficiently, and compiles it on the fly into code suitable to its internal virtual machine (VM). Due to its integrated just-in-time (JIT) compiler, it does not require a compiler at runtime:"
     ]
    },
    {
     "cell_type": "code",
     "collapsed": false,
     "input": [
      "# Repeat the query, but using in-kernel method\n",
      "%time [r['col1'] for r in t.where('col2 < 10')]"
     ],
     "language": "python",
     "metadata": {},
     "outputs": [
      {
       "output_type": "stream",
       "stream": "stdout",
       "text": [
        "Wall time: 333 ms\n"
       ]
      },
      {
       "metadata": {},
       "output_type": "pyout",
       "prompt_number": 26,
       "text": [
        "['0', '1', '2', '3', '4', '5', '6', '7', '8']"
       ]
      }
     ],
     "prompt_number": 26
    },
    {
     "cell_type": "markdown",
     "metadata": {},
     "source": [
      "Alternatively, to reach even greater performances, the Table Object support indexing for every column. We can index the colum two:"
     ]
    },
    {
     "cell_type": "code",
     "collapsed": false,
     "input": [
      "%time t.cols.col2.createCSIndex()"
     ],
     "language": "python",
     "metadata": {},
     "outputs": [
      {
       "output_type": "stream",
       "stream": "stdout",
       "text": [
        "Wall time: 771 ms\n"
       ]
      },
      {
       "metadata": {},
       "output_type": "pyout",
       "prompt_number": 27,
       "text": [
        "1000000"
       ]
      }
     ],
     "prompt_number": 27
    },
    {
     "cell_type": "markdown",
     "metadata": {},
     "source": [
      "From now on, any query involving col2 will be sped-up many times. In this case we query the whole 1.000.000 records in less than 200us (0.0002s):"
     ]
    },
    {
     "cell_type": "code",
     "collapsed": false,
     "input": [
      "%timeit [r['col1'] for r in t.where('col2 < 10')]"
     ],
     "language": "python",
     "metadata": {},
     "outputs": [
      {
       "output_type": "stream",
       "stream": "stdout",
       "text": [
        "10000 loops, best of 3: 110 \u00b5s per loop\n"
       ]
      }
     ],
     "prompt_number": 28
    },
    {
     "cell_type": "markdown",
     "metadata": {},
     "source": [
      "Queries can involve both indexed and non-indexed colums, in this case the speed-up will be less noticeable. here we do the query in few seconds because `col3` is not indexed:"
     ]
    },
    {
     "cell_type": "code",
     "collapsed": false,
     "input": [
      "# Performing complex conditions (regular query)\n",
      "%time [r['col1'] for r in t if r['col2'] > 10 and r['col3'][0] < 20]"
     ],
     "language": "python",
     "metadata": {},
     "outputs": [
      {
       "output_type": "stream",
       "stream": "stdout",
       "text": [
        "Wall time: 4.68 s\n"
       ]
      },
      {
       "metadata": {},
       "output_type": "pyout",
       "prompt_number": 29,
       "text": [
        "['10', '11', '12', '13', '14', '15', '16', '17', '18', '19']"
       ]
      }
     ],
     "prompt_number": 29
    },
    {
     "cell_type": "code",
     "collapsed": false,
     "input": [
      "f.close()"
     ],
     "language": "python",
     "metadata": {},
     "outputs": [],
     "prompt_number": 30
    },
    {
     "cell_type": "heading",
     "level": 2,
     "metadata": {},
     "source": [
      "4 The EArray Object"
     ]
    },
    {
     "cell_type": "markdown",
     "metadata": {},
     "source": [
      "---\n",
      "\n",
      "<a name=\"earrayobject\"><img src=\"files/utilities/earrayobject.jpg\"  style=\"max-width: 100%\"/>"
     ]
    },
    {
     "cell_type": "markdown",
     "metadata": {},
     "source": [
      "We will illustrate how to use the PyTables EArray (Extensible Array) Object by performing an Out-of-Core calculation. PyTables leverages [numexpr](http://code.google.com/p/numexpr/) to perform computations with arrays that are on disk and not in memory (Out-of-Core). `Numexpr` performs the computation on large arrays by splitting the arrays in smaller blocks of data, those blocks are then uploaded to the CPU cache memory and the computations are done without macking data copies on RAM"
     ]
    },
    {
     "cell_type": "code",
     "collapsed": false,
     "input": [
      "import numpy as np\n",
      "import tables as tb"
     ],
     "language": "python",
     "metadata": {},
     "outputs": [],
     "prompt_number": 31
    },
    {
     "cell_type": "code",
     "collapsed": false,
     "input": [
      "poly1 = os.path.join(os.path.curdir, \"temp\", \"poly1.h5\")\n",
      "f = tb.openFile(poly1, 'w')"
     ],
     "language": "python",
     "metadata": {},
     "outputs": [],
     "prompt_number": 32
    },
    {
     "cell_type": "markdown",
     "metadata": {},
     "source": [
      "Create an empty EArray then populate it with 10 chuncks of 1.000.000 values, we'll have an array with 1 Column and 10.000.000 Rows. In the `createEArray` method we define the dimension along which the EArray can be expanded. For example, in this case whe define by using `(0,)` that the array will be expanded along the row dimension. Similarly, if we wanted to expand it by columns, we would use `(,0)`."
     ]
    },
    {
     "cell_type": "code",
     "collapsed": false,
     "input": [
      "ea = f.createEArray(f.root, 'my_earray1', tb.Float64Atom(), (0,),\n",
      "                    filters=tb.Filters(complevel=5, complib='blosc'))\n",
      "for s in range(10):\n",
      "    ea.append(np.linspace(s, s+1, 1e6))\n",
      "ea.flush()"
     ],
     "language": "python",
     "metadata": {},
     "outputs": [],
     "prompt_number": 33
    },
    {
     "cell_type": "markdown",
     "metadata": {},
     "source": [
      "Create the expression to compute: this expression must be defined as a string. Basically, for each row the polynomial will be calculated:"
     ]
    },
    {
     "cell_type": "code",
     "collapsed": false,
     "input": [
      "expr = tb.Expr('0.25*ea**3 + 0.75*ea**2 + 1.5*ea - 2')"
     ],
     "language": "python",
     "metadata": {},
     "outputs": [],
     "prompt_number": 34
    },
    {
     "cell_type": "markdown",
     "metadata": {},
     "source": [
      "Now we have to create an array to store the resulting values, in this case we can decide to use a Compressed Array (CArray) with the same lenght of the EArray: 10.000.000 rows"
     ]
    },
    {
     "cell_type": "code",
     "collapsed": false,
     "input": [
      "if hasattr(f.root, 'output_values'):\n",
      "    f.removeNode(f.root.y)\n",
      "y = f.createCArray(f.root, 'output_values', tb.Float64Atom(), (len(ea),),\n",
      "                   filters=tb.Filters(complevel=5, complib='blosc'))"
     ],
     "language": "python",
     "metadata": {},
     "outputs": [],
     "prompt_number": 35
    },
    {
     "cell_type": "markdown",
     "metadata": {},
     "source": [
      "Specify that the ouput of the expression has to go to **y** on disk"
     ]
    },
    {
     "cell_type": "code",
     "collapsed": false,
     "input": [
      "expr.setOutput(y)"
     ],
     "language": "python",
     "metadata": {},
     "outputs": [],
     "prompt_number": 36
    },
    {
     "cell_type": "markdown",
     "metadata": {},
     "source": [
      "On a standard PC this will take less than a second. This time is significant if you think that data are loaded and stored directly on disk while doing calculation:"
     ]
    },
    {
     "cell_type": "code",
     "collapsed": false,
     "input": [
      "%time expr.eval()"
     ],
     "language": "python",
     "metadata": {},
     "outputs": [
      {
       "output_type": "stream",
       "stream": "stdout",
       "text": [
        "Wall time: 409 ms\n"
       ]
      },
      {
       "metadata": {},
       "output_type": "pyout",
       "prompt_number": 37,
       "text": [
        "/output_values (CArray(10000000,), shuffle, blosc(5)) ''\n",
        "  atom := Float64Atom(shape=(), dflt=0.0)\n",
        "  maindim := 0\n",
        "  flavor := 'numpy'\n",
        "  byteorder := 'little'\n",
        "  chunkshape := (16384,)"
       ]
      }
     ],
     "prompt_number": 37
    },
    {
     "cell_type": "code",
     "collapsed": false,
     "input": [
      "f.flush()"
     ],
     "language": "python",
     "metadata": {},
     "outputs": [],
     "prompt_number": 38
    },
    {
     "cell_type": "markdown",
     "metadata": {},
     "source": [
      "---\n",
      "\n",
      "Email **training [at ]add-for [dot] com** for more information and custom training programs."
     ]
    }
   ],
   "metadata": {}
  }
 ]
}