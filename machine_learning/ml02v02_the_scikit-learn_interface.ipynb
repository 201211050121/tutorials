{
 "metadata": {
  "name": "",
  "signature": "sha256:7737ea22a9ce9c428a61d8447cafc864956d57af49bf02601cffc11e0127bf1a"
 },
 "nbformat": 3,
 "nbformat_minor": 0,
 "worksheets": [
  {
   "cells": [
    {
     "cell_type": "heading",
     "level": 1,
     "metadata": {},
     "source": [
      "The scikit-learn interface"
     ]
    },
    {
     "cell_type": "markdown",
     "metadata": {},
     "source": [
      "* [1 Defining the estimator object](#1-Defining-the-estimator-object)\n",
      "* [2 Simple estimator example: fit a linear regression model](#2-Simple-estimator-example:-fit-a-linear-regression-model)\n",
      "* [3 Separate Training and Validation Sets](#3-Separate-Training-and-Validation-Sets)\n",
      "    * [3.1 Example: Do a Regression Analysis on MATLAB<sup>&reg;</sup> data](#3.1-Example:-Do-a-Regression-Analysis-on-MATLAB<sup>&reg;</sup>-data)\n",
      "    * [3.2 Example: Training and a Validation Sets on a Classification Problem](#3.2-Example:-Training-and-a-Validation-Sets-on-a-Classification-Problem)\n",
      "* [4 Cross Validation (CV)](#4-Cross-Validation-(CV))\n",
      "    * [4.1 Cross Validation: test many estimators on the same dataset:](#4.1-Cross-Validation:-test-many-estimators-on-the-same-dataset:)\n",
      "    * [4.2 Cross Validation: test many hyperparamaters and estimators on the same dataset:](#4.2-Cross-Validation:-test-many-hyperparamaters-and-estimators-on-the-same-dataset:)\n",
      "    * [4.3 Model specific Cross Validation:](#4.3-Model-specific-Cross-Validation:)\n",
      "    * [4.4 Cross-validation iterators](#4.4-Cross-validation-iterators)\n",
      "* [5 Grid Search: Searching for estimator hyperparameters](#5-Grid-Search:-Searching-for-estimator-hyperparameters)\n",
      "    * [5.1 Exhaustive Grid Search](#5.1-Exhaustive-Grid-Search)\n",
      "    * [5.2 Randomized Parameter Optimization](#5.2-Randomized-Parameter-Optimization)\n"
     ]
    },
    {
     "cell_type": "code",
     "collapsed": false,
     "input": [
      "import scipy.io\n",
      "import numpy as np\n",
      "import pandas as pd\n",
      "from addutils import css_notebook\n",
      "css_notebook()"
     ],
     "language": "python",
     "metadata": {},
     "outputs": [
      {
       "html": [
        "<style>\n",
        "    @font-face {\n",
        "        font-family: \"Computer Modern\";\n",
        "        src: url('http://mirrors.ctan.org/fonts/cm-unicode/fonts/otf/cmunss.otf');\n",
        "    }\n",
        "    div.cell{\n",
        "        width:900px;\n",
        "        margin-left:0% !important;\n",
        "        margin-right:0%;\n",
        "    }\n",
        "\n",
        "\tcode{\n",
        "\t\tfont-size:10pt\n",
        "\t}\n",
        "\n",
        "    h1 {\n",
        "        font-family: Tahoma, sans-serif;\n",
        "\t\tcolor: rgb( 10, 88, 126 );\n",
        "\t\tfont-size:28pt;\n",
        "    }\n",
        "\th2 {\n",
        "        font-family: Tahoma, sans-serif;\n",
        "\t\tcolor: rgb( 10, 88, 126 );\n",
        "\t\tfont-size:24pt;\n",
        "    }\n",
        "\th3 {\n",
        "        font-family: Tahoma, sans-serif;\n",
        "\t\tcolor: rgb( 10, 88, 126 );\n",
        "\t\tfont-size:20pt;\n",
        "    }\n",
        "    h4 {\n",
        "\t\tfont-family: Tahoma, sans-serif;\n",
        "\t\tcolor: rgb( 10, 88, 126 );\n",
        "\t\tfont-size:18pt;\n",
        "        margin-top:12px;\n",
        "        margin-bottom: 3px;\n",
        "       }\n",
        "\n",
        "\tul {\n",
        "\t\tfont-family: Tahoma, sans-serif;\n",
        "\t\tcolor: rgb( 90, 90, 90 );\n",
        "\t\tfont-size:11pt;\n",
        "\t\tline-height: 185%;\n",
        "\t\t}\n",
        "\n",
        "\tp {\n",
        "\t\tfont-family: Tahoma, sans-serif;\n",
        "\t\tcolor: rgb( 90, 90, 90 );\n",
        "\t\tfont-size:11pt;\n",
        "\t\t}\n",
        "\n",
        "\tstrong {\n",
        "\t\tfont-family: Tahoma, sans-serif;\n",
        "\t\tcolor: rgb( 30, 30, 30 );\n",
        "\t\tfont-size:11pt;\n",
        "\t\t}\n",
        "\n",
        "\ta:link {\n",
        "\t\tfont-family: Tahoma, sans-serif;\n",
        "\t\tcolor: rgb( 10, 88, 126 );\n",
        "\t\tfont-size:11pt;\n",
        "\t\t}\n",
        "\n",
        "\ta:visited {\n",
        "\t\tcolor:rgb( 10, 88, 126 );\n",
        "\t}\n",
        "\n",
        "    div.text_cell_render{\n",
        "        font-family: Helvetica, Courier, Computer Modern, \"Helvetica Neue\", Arial, Geneva, sans-serif;\n",
        "\t\tcolor: rgb( 84, 84, 84 );\n",
        "\t\tfont-size:11pt;\n",
        "        line-height: 125%;\n",
        "        font-size: 100%;\n",
        "        width:800px;\n",
        "        margin-left:auto;\n",
        "        margin-right:auto;\n",
        "    }\n",
        "    .CodeMirror{\n",
        "            font-family: Courier, \"Source Code Pro\", source-code-pro,Consolas, monospace;\n",
        "    }\n",
        "\n",
        "    .text_cell_render h5 {\n",
        "        font-weight: 300;\n",
        "        font-size: 11pt;\n",
        "        color: rgb( 48, 48, 48 );\n",
        "        font-style: italic;\n",
        "        margin-bottom: .5em;\n",
        "        margin-top: 0.5em;\n",
        "        display: block;\n",
        "    }\n",
        "\n",
        "    .warning{\n",
        "        color: rgb( 240, 20, 20 )\n",
        "        }\n",
        ".rendered_html td\n",
        "{\n",
        "text-align: right;\n",
        "}\n",
        "\n",
        "</style>\n",
        "<script>\n",
        "    MathJax.Hub.Config({\n",
        "                        TeX: {\n",
        "                           extensions: [\"AMSmath.js\"]\n",
        "                           },\n",
        "                displayAlign: 'center', // Change this to 'center' to center equations.\n",
        "                \"HTML-CSS\": {\n",
        "                    styles: {'.MathJax_Display': {\"margin\": 4}}\n",
        "                }\n",
        "        });\n",
        "</script>\n"
       ],
       "metadata": {},
       "output_type": "pyout",
       "prompt_number": 1,
       "text": [
        "<IPython.core.display.HTML at 0x10a063a10>"
       ]
      }
     ],
     "prompt_number": 1
    },
    {
     "cell_type": "heading",
     "level": 2,
     "metadata": {},
     "source": [
      "1 Defining the estimator object"
     ]
    },
    {
     "cell_type": "markdown",
     "metadata": {},
     "source": [
      "In scikit-learn, almost all operations are done through an **estimator object**. For example, a linear regression estimator can be instantiated as follows:"
     ]
    },
    {
     "cell_type": "code",
     "collapsed": false,
     "input": [
      "from sklearn import linear_model\n",
      "model = linear_model.LinearRegression(fit_intercept=True, normalize=True)\n",
      "print model"
     ],
     "language": "python",
     "metadata": {},
     "outputs": [
      {
       "output_type": "stream",
       "stream": "stdout",
       "text": [
        "LinearRegression(copy_X=True, fit_intercept=True, normalize=True)\n"
       ]
      }
     ],
     "prompt_number": 2
    },
    {
     "cell_type": "markdown",
     "metadata": {},
     "source": [
      "In brackets are displayed the current values for the \u201chyperparameters\u201d of the estimator. To learn about the specific \u201chyperparameters\u201d check the documentation:"
     ]
    },
    {
     "cell_type": "code",
     "collapsed": false,
     "input": [
      "# Try: model?"
     ],
     "language": "python",
     "metadata": {},
     "outputs": [],
     "prompt_number": 3
    },
    {
     "cell_type": "markdown",
     "metadata": {},
     "source": [
      "Meta parameters can be changed after the model has been created:"
     ]
    },
    {
     "cell_type": "code",
     "collapsed": false,
     "input": [
      "model.fit_intercept = False\n",
      "print model"
     ],
     "language": "python",
     "metadata": {},
     "outputs": [
      {
       "output_type": "stream",
       "stream": "stdout",
       "text": [
        "LinearRegression(copy_X=True, fit_intercept=False, normalize=True)\n"
       ]
      }
     ],
     "prompt_number": 4
    },
    {
     "cell_type": "markdown",
     "metadata": {},
     "source": [
      "Given a scikit-learn *estimator* object named `model`, the following methods are available:\n",
      "\n",
      "* *Available in all Estimators*\n",
      "  * `model.fit()` : fit training data.\n",
      "      * For supervised learning, this accepts two arguments: `model.fit(X, y)`.\n",
      "      * For unsupervised learning, this accepts only a single argument `model.fit(X)`.\n",
      "* *Available in supervised estimators*\n",
      "  * `model.predict()` : predict the label of a new set of data. This accepts one argument `model.predict(X_new)`).\n",
      "  * `model.predict_proba()`: Returns the probability of a categorical label. The label itself is returned by `model.predict()`.\n",
      "  * `model.score()`: Scores are between 0 and 1, with a larger score indicating a better fit.\n",
      "* *Available in unsupervised estimators*\n",
      "  * `model.transform()`: Transform new data into the new basis. This accepts one argument `X_new`, and returns the new representation of the data.\n",
      "  * `model.fit_transform()`: some estimators implement this method, which more efficiently performs a fit and a transform on the same input data."
     ]
    },
    {
     "cell_type": "heading",
     "level": 2,
     "metadata": {},
     "source": [
      "2 Simple estimator example: fit a linear regression model"
     ]
    },
    {
     "cell_type": "code",
     "collapsed": false,
     "input": [
      "%matplotlib inline\n",
      "import matplotlib.pyplot as plt"
     ],
     "language": "python",
     "metadata": {},
     "outputs": [],
     "prompt_number": 5
    },
    {
     "cell_type": "code",
     "collapsed": false,
     "input": [
      "def set_graph(title='', x_label='', y_label='', fig_size=(6,4)):\n",
      "    fig = plt.figure(figsize=fig_size)\n",
      "    ax = fig.add_subplot(111)\n",
      "    ax.set_title(title)\n",
      "    ax.set_xlabel(x_label)\n",
      "    ax.set_ylabel(y_label)\n",
      "    return ax"
     ],
     "language": "python",
     "metadata": {},
     "outputs": [],
     "prompt_number": 6
    },
    {
     "cell_type": "code",
     "collapsed": false,
     "input": [
      "from sklearn import datasets, preprocessing, metrics\n",
      "X, y = datasets.samples_generator.make_regression(n_samples=70,\n",
      "                                                  n_features=1, n_informative=1,\n",
      "                                                  random_state=0, noise=5)\n",
      "scaler = preprocessing.MinMaxScaler()\n",
      "X_sc = scaler.fit_transform(X)\n",
      "\n",
      "lin = linear_model.LinearRegression(fit_intercept=True)\n",
      "lin.fit(X_sc, y)\n",
      "\n",
      "print lin\n",
      "print \"Model coefficient: %.5f, and intercept: %.5f\" % (lin.coef_, lin.intercept_)\n",
      "err = metrics.mean_squared_error(lin.predict(X_sc), y)\n",
      "print (\"Mean Squared Error: %.2f\" % err)\n",
      "\n",
      "# Plot the data and the model prediction\n",
      "X_p = np.linspace(0, 1, 2)[:, np.newaxis]\n",
      "y_p = lin.predict(X_p)\n",
      "ax = set_graph(title='Simple Regression', x_label='X scaled', y_label='y', fig_size=(12,6))\n",
      "plt.plot(X_sc.squeeze(), y, 'og', alpha=0.5, label='Measured Data')\n",
      "plt.plot(X_p.ravel(), y_p, 'b', label='Predicted Values')\n",
      "plt.legend(loc='lower right')\n",
      "plt.show()"
     ],
     "language": "python",
     "metadata": {},
     "outputs": [
      {
       "output_type": "stream",
       "stream": "stdout",
       "text": [
        "LinearRegression(copy_X=True, fit_intercept=True, normalize=False)\n",
        "Model coefficient: 275.99550, and intercept: -145.41186\n",
        "Mean Squared Error: 23.04\n"
       ]
      },
      {
       "metadata": {},
       "output_type": "display_data",
       "png": "[encoded data removed]",
       "text": [
        "<matplotlib.figure.Figure at 0x1088bc890>"
       ]
      }
     ],
     "prompt_number": 7
    },
    {
     "cell_type": "heading",
     "level": 2,
     "metadata": {},
     "source": [
      "3 Separate Training and Validation Sets"
     ]
    },
    {
     "cell_type": "markdown",
     "metadata": {},
     "source": [
      "**Fitting a model and testing it on the same data is a methodological mistake:** a model could have a perfect score but would fail to predict anything useful on yet-unseen data. This situation is called <font color=\"Red\">overfitting</font>. To avoid it, it is common practice to hold out part of the available data as a **Validation  Set** `X_valid, y_valid`.\n",
      "\n",
      "In scikit-learn a random split into **Training** and **Validation** sets can be quickly computed with the `train_test_split` helper function:"
     ]
    },
    {
     "cell_type": "code",
     "collapsed": false,
     "input": [
      "from sklearn import cross_validation\n",
      "X_tr, X_valid, y_tr, y_valid = cross_validation.train_test_split(X_sc, y,\n",
      "                                                                 test_size=0.30, random_state=0)\n",
      "lin.fit(X_tr, y_tr)\n",
      "MSE = metrics.mean_squared_error(lin.predict(X_valid), y_valid)\n",
      "print (\"Mean Squared Error: %.2f\" % MSE)\n",
      "print \"Model coefficient: %.5f, and intercept: %.5f\" % (lin.coef_, lin.intercept_)\n",
      "\n",
      "X_predicted = np.linspace(0, 1, 2)[:, np.newaxis]\n",
      "y_predicted = lin.predict(X_predicted)\n",
      "ax = set_graph(title='Training and Validation Sets', fig_size=(12,6))\n",
      "ax.plot(X_tr.squeeze(), y_tr, 'og', alpha=0.8, label='Training Set')\n",
      "ax.plot(X_valid.squeeze(), y_valid, 'or', alpha=0.4, label='Validation Set')\n",
      "ax.plot(X_predicted.ravel(), y_predicted, 'b', label='Linear Regression')\n",
      "ax.legend(loc='lower right')\n",
      "plt.show()"
     ],
     "language": "python",
     "metadata": {},
     "outputs": [
      {
       "output_type": "stream",
       "stream": "stdout",
       "text": [
        "Mean Squared Error: 23.34\n",
        "Model coefficient: 273.00288, and intercept: -143.70277\n"
       ]
      },
      {
       "metadata": {},
       "output_type": "display_data",
       "png": "[encoded data removed]",
       "text": [
        "<matplotlib.figure.Figure at 0x10bbf50d0>"
       ]
      }
     ],
     "prompt_number": 8
    },
    {
     "cell_type": "heading",
     "level": 3,
     "metadata": {},
     "source": [
      "3.1 Example: Do a Regression Analysis on MATLAB<sup>&reg;</sup> data"
     ]
    },
    {
     "cell_type": "markdown",
     "metadata": {},
     "source": [
      "The data are generated with the following MATLAB code:\n",
      "\n",
      "    % Generate Regression Test Data 02 ----------------------------------------\n",
      "    samples = 100; features = 5;\n",
      "    \n",
      "    X = rand(samples, features)\n",
      "    for i = 1:samples\n",
      "        X(i,:) = (X(i,:)*i)+i+0.1;\n",
      "    end\n",
      "    % Calculate y as a linear combination of features with coeff. 1.5, 2.5, ...\n",
      "    % and add some noise\n",
      "    noise = 0.1;\n",
      "    lin_comb = (1:features) + 0.5\n",
      "    y = (X+rand(samples, features)*noise)*lin_comb'\n",
      "    % Define feature names as 'F001', ... , 'Fnnn' up to 9999 features\n",
      "    feat_names = sprintf('F%04i',1);\n",
      "    for i = 2:features\n",
      "        feat_names = strvcat(feat_names, sprintf('F%04i',i));\n",
      "    end\n",
      "    \n",
      "    save ('matlab_test_data_02', 'X','y', 'feat_names')"
     ]
    },
    {
     "cell_type": "code",
     "collapsed": false,
     "input": [
      "from sklearn import preprocessing, cross_validation, linear_model\n",
      "mat = scipy.io.loadmat('example_data/matlab_test_data_02.mat')\n",
      "col = [s.strip() for s in list(mat['feat_names'])]"
     ],
     "language": "python",
     "metadata": {},
     "outputs": [],
     "prompt_number": 10
    },
    {
     "cell_type": "code",
     "collapsed": false,
     "input": [
      "Xt,Xv,yt,yv = cross_validation.train_test_split(mat['X'], mat['y'],test_size=0.30,\n",
      "                                                random_state=0)\n",
      "Xt = pd.DataFrame(Xt, columns=col)\n",
      "Xv = pd.DataFrame(Xv, columns=col)\n",
      "yt = pd.DataFrame(yt, columns=['measured'])\n",
      "yv = pd.DataFrame(yv, columns=['measured'])"
     ],
     "language": "python",
     "metadata": {},
     "outputs": [],
     "prompt_number": 11
    },
    {
     "cell_type": "code",
     "collapsed": false,
     "input": [
      "Xt.head(3)"
     ],
     "language": "python",
     "metadata": {},
     "outputs": [
      {
       "html": [
        "<div style=\"max-height:1000px;max-width:1500px;overflow:auto;\">\n",
        "<table border=\"1\" class=\"dataframe\">\n",
        "  <thead>\n",
        "    <tr style=\"text-align: right;\">\n",
        "      <th></th>\n",
        "      <th>F0001</th>\n",
        "      <th>F0002</th>\n",
        "      <th>F0003</th>\n",
        "      <th>F0004</th>\n",
        "      <th>F0005</th>\n",
        "      <th>F0006</th>\n",
        "    </tr>\n",
        "  </thead>\n",
        "  <tbody>\n",
        "    <tr>\n",
        "      <th>0</th>\n",
        "      <td> 131.391611</td>\n",
        "      <td> 178.588071</td>\n",
        "      <td> 191.836028</td>\n",
        "      <td> 206.928031</td>\n",
        "      <td> 188.601869</td>\n",
        "      <td> 195.879822</td>\n",
        "    </tr>\n",
        "    <tr>\n",
        "      <th>1</th>\n",
        "      <td> 137.771630</td>\n",
        "      <td>  91.462643</td>\n",
        "      <td>  76.438656</td>\n",
        "      <td> 104.585583</td>\n",
        "      <td> 123.265090</td>\n",
        "      <td>  73.587835</td>\n",
        "    </tr>\n",
        "    <tr>\n",
        "      <th>2</th>\n",
        "      <td> 789.737369</td>\n",
        "      <td> 671.934539</td>\n",
        "      <td> 835.830887</td>\n",
        "      <td> 515.921167</td>\n",
        "      <td> 901.167154</td>\n",
        "      <td> 813.659391</td>\n",
        "    </tr>\n",
        "  </tbody>\n",
        "</table>\n",
        "</div>"
       ],
       "metadata": {},
       "output_type": "pyout",
       "prompt_number": 12,
       "text": [
        "        F0001       F0002       F0003       F0004       F0005       F0006\n",
        "0  131.391611  178.588071  191.836028  206.928031  188.601869  195.879822\n",
        "1  137.771630   91.462643   76.438656  104.585583  123.265090   73.587835\n",
        "2  789.737369  671.934539  835.830887  515.921167  901.167154  813.659391"
       ]
      }
     ],
     "prompt_number": 12
    },
    {
     "cell_type": "code",
     "collapsed": false,
     "input": [
      "# Scaler is fitted only on training data\n",
      "Xts = Xt.copy()\n",
      "Xvs = Xv.copy()\n",
      "scaler = preprocessing.StandardScaler(copy=False, with_mean=True, with_std=True).fit(Xt)\n",
      "scaler.transform(Xts)\n",
      "scaler.transform(Xv);"
     ],
     "language": "python",
     "metadata": {},
     "outputs": [],
     "prompt_number": 13
    },
    {
     "cell_type": "code",
     "collapsed": false,
     "input": [
      "Xts.head(3)"
     ],
     "language": "python",
     "metadata": {},
     "outputs": [
      {
       "html": [
        "<div style=\"max-height:1000px;max-width:1500px;overflow:auto;\">\n",
        "<table border=\"1\" class=\"dataframe\">\n",
        "  <thead>\n",
        "    <tr style=\"text-align: right;\">\n",
        "      <th></th>\n",
        "      <th>F0001</th>\n",
        "      <th>F0002</th>\n",
        "      <th>F0003</th>\n",
        "      <th>F0004</th>\n",
        "      <th>F0005</th>\n",
        "      <th>F0006</th>\n",
        "    </tr>\n",
        "  </thead>\n",
        "  <tbody>\n",
        "    <tr>\n",
        "      <th>0</th>\n",
        "      <td>-1.294851</td>\n",
        "      <td>-1.210162</td>\n",
        "      <td>-1.171325</td>\n",
        "      <td>-1.148142</td>\n",
        "      <td>-1.198971</td>\n",
        "      <td>-1.160278</td>\n",
        "    </tr>\n",
        "    <tr>\n",
        "      <th>1</th>\n",
        "      <td>-1.281377</td>\n",
        "      <td>-1.399557</td>\n",
        "      <td>-1.416333</td>\n",
        "      <td>-1.371187</td>\n",
        "      <td>-1.344097</td>\n",
        "      <td>-1.424161</td>\n",
        "    </tr>\n",
        "    <tr>\n",
        "      <th>2</th>\n",
        "      <td> 0.095500</td>\n",
        "      <td>-0.137716</td>\n",
        "      <td> 0.195982</td>\n",
        "      <td>-0.474723</td>\n",
        "      <td> 0.383782</td>\n",
        "      <td> 0.172776</td>\n",
        "    </tr>\n",
        "  </tbody>\n",
        "</table>\n",
        "</div>"
       ],
       "metadata": {},
       "output_type": "pyout",
       "prompt_number": 14,
       "text": [
        "      F0001     F0002     F0003     F0004     F0005     F0006\n",
        "0 -1.294851 -1.210162 -1.171325 -1.148142 -1.198971 -1.160278\n",
        "1 -1.281377 -1.399557 -1.416333 -1.371187 -1.344097 -1.424161\n",
        "2  0.095500 -0.137716  0.195982 -0.474723  0.383782  0.172776"
       ]
      }
     ],
     "prompt_number": 14
    },
    {
     "cell_type": "code",
     "collapsed": false,
     "input": [
      "model = linear_model.LinearRegression(fit_intercept=True, normalize=True)\n",
      "model.fit(Xts, yt)\n",
      "# NOTICE: coefficients are much different from 1.5, 2.5, ... when fitting on scaled data\n",
      "print model.coef_\n",
      "print model.intercept_"
     ],
     "language": "python",
     "metadata": {},
     "outputs": [
      {
       "output_type": "stream",
       "stream": "stdout",
       "text": [
        "[[  708.82319504  1153.80993668  1647.24008556  2066.72663569\n",
        "   2474.24236679  3011.70541794]]\n",
        "[ 17692.80536173]\n"
       ]
      }
     ],
     "prompt_number": 15
    },
    {
     "cell_type": "code",
     "collapsed": false,
     "input": [
      "# Plot the data and the model prediction\n",
      "yp = model.predict(Xvs)\n",
      "set_graph(title='Measured Values VS Predicted Values',\n",
      "          x_label='y val', y_label='y pred', fig_size=(12,6))\n",
      "plt.plot(yv, yp, 'ob', alpha=0.5)\n",
      "plt.show()"
     ],
     "language": "python",
     "metadata": {},
     "outputs": [
      {
       "metadata": {},
       "output_type": "display_data",
       "png": "[encoded data removed]",
       "text": [
        "<matplotlib.figure.Figure at 0x10c34e590>"
       ]
      }
     ],
     "prompt_number": 16
    },
    {
     "cell_type": "heading",
     "level": 3,
     "metadata": {},
     "source": [
      "3.2 Example: Training and a Validation Sets on a Classification Problem"
     ]
    },
    {
     "cell_type": "markdown",
     "metadata": {},
     "source": [
      "The K-neighbors is an instance-based classifier that predicts the label of an unknown point based on the labels of the *K* nearest points in the parameter space:"
     ]
    },
    {
     "cell_type": "code",
     "collapsed": false,
     "input": [
      "from sklearn import neighbors\n",
      "digits = datasets.load_digits()\n",
      "X, y = digits.data, digits.target\n",
      "\n",
      "clf = neighbors.KNeighborsClassifier(n_neighbors=1)\n",
      "clf.fit(X, y)\n",
      "y_pred = clf.predict(X)\n",
      "print metrics.confusion_matrix(y_pred, y)\n",
      "print '\\nF1 Score:  ', metrics.f1_score(y_pred, y)"
     ],
     "language": "python",
     "metadata": {},
     "outputs": [
      {
       "output_type": "stream",
       "stream": "stdout",
       "text": [
        "[[178   0   0   0   0   0   0   0   0   0]\n",
        " [  0 182   0   0   0   0   0   0   0   0]\n",
        " [  0   0 177   0   0   0   0   0   0   0]\n",
        " [  0   0   0 183   0   0   0   0   0   0]\n",
        " [  0   0   0   0 181   0   0   0   0   0]\n",
        " [  0   0   0   0   0 182   0   0   0   0]\n",
        " [  0   0   0   0   0   0 181   0   0   0]\n",
        " [  0   0   0   0   0   0   0 179   0   0]\n",
        " [  0   0   0   0   0   0   0   0 174   0]\n",
        " [  0   0   0   0   0   0   0   0   0 180]]\n",
        "\n",
        "F1 Score:   1.0\n"
       ]
      }
     ],
     "prompt_number": 17
    },
    {
     "cell_type": "markdown",
     "metadata": {},
     "source": [
      "Apparently, we've found a perfect classifier!  But this is misleading for the reasons we saw before: the classifier essentially \"memorizes\" all the samples it has already seen.  To really test how well this algorithm does, we need to try some samples it *hasn't* yet seen.\n",
      "\n",
      "Here we split the original data in **Training** and **Validation** sets and run again the previous algorithm. In this case we see that we still have a good classifier but the precision is reduced:"
     ]
    },
    {
     "cell_type": "code",
     "collapsed": false,
     "input": [
      "X_tr, X_valid, y_tr, y_valid = cross_validation.train_test_split(X, y,\n",
      "                                                                 test_size=0.40, random_state=0)\n",
      "clf = neighbors.KNeighborsClassifier(n_neighbors=1).fit(X_tr, y_tr)\n",
      "y_pred = clf.predict(X_valid)\n",
      "print metrics.confusion_matrix(y_valid, y_pred)\n",
      "print '\\nF1 Score:  ', metrics.f1_score(y_valid, y_pred)"
     ],
     "language": "python",
     "metadata": {},
     "outputs": [
      {
       "output_type": "stream",
       "stream": "stdout",
       "text": [
        "[[60  0  0  0  0  0  0  0  0  0]\n",
        " [ 0 73  0  0  0  0  0  0  0  0]\n",
        " [ 0  0 71  0  0  0  0  0  0  0]\n",
        " [ 0  0  0 70  0  0  0  0  0  0]\n",
        " [ 0  0  0  0 63  0  0  0  0  0]\n",
        " [ 0  0  0  0  0 87  1  0  0  1]\n",
        " [ 0  0  0  0  0  0 76  0  0  0]\n",
        " [ 0  0  0  0  0  0  0 65  0  0]\n",
        " [ 0  2  0  1  0  0  0  0 74  1]\n",
        " [ 0  0  0  2  0  1  0  0  0 71]]\n",
        "\n",
        "F1 Score:   0.987441080752\n"
       ]
      }
     ],
     "prompt_number": 18
    },
    {
     "cell_type": "heading",
     "level": 2,
     "metadata": {},
     "source": [
      "4 Cross Validation (CV)"
     ]
    },
    {
     "cell_type": "markdown",
     "metadata": {},
     "source": [
      "By partitioning the available data into **Training** and **Validation** sets, we reduce the number of samples which can be used for learning the model.\n",
      "\n",
      "By using cross-validation **(CV)** the *validation set is defined automatically by the CV algoritm. * The training set is split into k smaller sets and:\n",
      "\n",
      "* A model is trained using k-1 of the folds as training data\n",
      "* The resulting model is validated on the remaining part of the data\n",
      "\n",
      "In this example we first calculate the Mean Squared Error on the Test DatasetSet (which is a methodological error) and then we calculate again the same MSE using a KFold CV. The MSE calculated with Cv is much larger:"
     ]
    },
    {
     "cell_type": "code",
     "collapsed": false,
     "input": [
      "X, y = datasets.samples_generator.make_regression(n_samples=7,\n",
      "                                                  n_features=1, n_informative=1,\n",
      "                                                  random_state=0, noise=5)\n",
      "lin = linear_model.LinearRegression(fit_intercept=True)\n",
      "lin.fit(X, y)\n",
      "MSE = metrics.mean_squared_error(lin.predict(X), y)\n",
      "print 'MSE Calculated on the Training Set:   ', MSE\n",
      "MSE_CV = cross_validation.cross_val_score(lin, X, y, cv=5, scoring='mean_squared_error')\n",
      "print(\"MSE Calculated with Cross Validation: %0.2f (+/- %0.2f)\"\n",
      "      % (MSE_CV.mean(), MSE_CV.std() * 2))"
     ],
     "language": "python",
     "metadata": {},
     "outputs": [
      {
       "output_type": "stream",
       "stream": "stdout",
       "text": [
        "MSE Calculated on the Training Set:    19.5876545263\n",
        "MSE Calculated with Cross Validation: -49.85 (+/- 80.06)\n"
       ]
      }
     ],
     "prompt_number": 19
    },
    {
     "cell_type": "markdown",
     "metadata": {},
     "source": [
      "When the `cv` argument is an integer like `cv=10`, `cross_val_score` uses the `KFold` or `StratifiedKFold` strategies. It is also possible to use other cross validation strategies by passing a cross validation iterator instead, for instance we can use `cross_validation.ShuffleSplit` where `n_iter` is the number of re-shuffling and splitting operations:"
     ]
    },
    {
     "cell_type": "code",
     "collapsed": false,
     "input": [
      "n_samples = X.shape[0]\n",
      "cv_iter = cross_validation.ShuffleSplit(n_samples, n_iter=6, test_size=0.2, random_state=0)\n",
      "MSE_CV = cross_validation.cross_val_score(lin, X, y, cv=cv_iter, scoring='mean_squared_error')\n",
      "print(\"MSE Calculated with Cross Validation: %0.2f (+/- %0.2f)\"\n",
      "      % (MSE_CV.mean(), MSE_CV.std() * 2))"
     ],
     "language": "python",
     "metadata": {},
     "outputs": [
      {
       "output_type": "stream",
       "stream": "stdout",
       "text": [
        "MSE Calculated with Cross Validation: -33.84 (+/- 36.87)\n"
       ]
      }
     ],
     "prompt_number": 20
    },
    {
     "cell_type": "heading",
     "level": 3,
     "metadata": {},
     "source": [
      "4.1 Cross Validation: test many estimators on the same dataset:"
     ]
    },
    {
     "cell_type": "markdown",
     "metadata": {},
     "source": [
      "In this example *we use the \"diabetes\" dataset* to fit tree different linear models. For each model the default CV score is calculated and displayed:"
     ]
    },
    {
     "cell_type": "code",
     "collapsed": false,
     "input": [
      "data = datasets.load_diabetes()\n",
      "X, y = data.data, data.target\n",
      "\n",
      "for Model in [linear_model.LinearRegression,\n",
      "              linear_model.Ridge,\n",
      "              linear_model.Lasso]:\n",
      "    model = Model()\n",
      "    print Model.__name__, ': ', cross_validation.cross_val_score(model, X, y).mean()"
     ],
     "language": "python",
     "metadata": {},
     "outputs": [
      {
       "output_type": "stream",
       "stream": "stdout",
       "text": [
        "LinearRegression :  0.488702767247\n",
        "Ridge :  0.409427438303\n",
        "Lasso :  0.353800083299\n"
       ]
      }
     ],
     "prompt_number": 21
    },
    {
     "cell_type": "heading",
     "level": 3,
     "metadata": {},
     "source": [
      "4.2 Cross Validation: test many hyperparamaters and estimators on the same dataset:"
     ]
    },
    {
     "cell_type": "markdown",
     "metadata": {},
     "source": [
      "`Lasso` and `Ridge` accept a regularization parameter `alpha`. Here we plot the CV Score for different values of alpha"
     ]
    },
    {
     "cell_type": "code",
     "collapsed": false,
     "input": [
      "alphas = np.logspace(-4, -1, 200)\n",
      "ax = set_graph(title='Alpha sensitiveness on different models', fig_size=(12,6))\n",
      "for Model in [linear_model.Ridge, linear_model.Lasso]:\n",
      "    scores = [cross_validation.cross_val_score(Model(alpha=a), X, y, cv=5).mean()\n",
      "              for a in alphas]\n",
      "    ax.plot(alphas, scores, label=Model.__name__)\n",
      "ax.legend(loc='lower left')\n",
      "ax.set_xscale('log')\n",
      "ax.grid(axis='both')\n",
      "plt.show()"
     ],
     "language": "python",
     "metadata": {},
     "outputs": [
      {
       "metadata": {},
       "output_type": "display_data",
       "png": "[encoded data removed]",
       "text": [
        "<matplotlib.figure.Figure at 0x10c542910>"
       ]
      }
     ],
     "prompt_number": 22
    },
    {
     "cell_type": "heading",
     "level": 3,
     "metadata": {},
     "source": [
      "4.3 Model specific Cross Validation:"
     ]
    },
    {
     "cell_type": "markdown",
     "metadata": {},
     "source": [
      "Some models can fit data for a range of parameters almost as efficiently as fitting for a single parameter. The most common parameter amenable to this strategy is the strength of the regularizer. In this case we say that we compute the regularization path of the estimator.\n",
      "\n",
      "This is a particular case of what we are going to see in the next paragraph: **Grid Search**.\n",
      "\n",
      "Model Specific Cross Validation is supported by the following models:\n",
      "\n",
      "* **RidgeCV**\n",
      "* **RidgeClassifierCV**\n",
      "* **LarsCV**\n",
      "* **LassoLarsCV**\n",
      "* **LassoCV**\n",
      "* **ElasticNetCV**"
     ]
    },
    {
     "cell_type": "code",
     "collapsed": false,
     "input": [
      "for Model in [linear_model.RidgeCV, linear_model.LassoCV]:\n",
      "    model = Model(alphas=alphas, cv=5).fit(X, y)\n",
      "    print Model.__name__, ': ', model.alpha_"
     ],
     "language": "python",
     "metadata": {},
     "outputs": [
      {
       "output_type": "stream",
       "stream": "stdout",
       "text": [
        "RidgeCV :  0.000373993730248\n",
        "LassoCV"
       ]
      },
      {
       "output_type": "stream",
       "stream": "stdout",
       "text": [
        " :  0.00382749447852\n"
       ]
      }
     ],
     "prompt_number": 23
    },
    {
     "cell_type": "heading",
     "level": 3,
     "metadata": {},
     "source": [
      "4.4 Cross-validation iterators"
     ]
    },
    {
     "cell_type": "markdown",
     "metadata": {},
     "source": [
      "* **K-fold** - divide all samples in *K* groups, if *K=n* it is equivalent to leave-one-out.\n",
      "* **Statified K-fold** - each set contains the same prercentage of the target classes as the whole set\n",
      "* **Leave-One-Out (LOO)** - all samples except one\n",
      "* **Leave-P-Out (LPO)** - create all possible training sets by removing *p* samples from the whole set\n",
      "* **Leave-One-Label-Out (LOLO)** - holds out the samples according to a third-party provided label\n",
      "* **ShuffleSplit** - shuffles than split data in train and test sets\n",
      "* **StratifiedShuffleSplit** - ShuffleSplits by preserving percentage\n",
      "* **Bootstrap** - generate independent splits and then resample with replacement each split"
     ]
    },
    {
     "cell_type": "code",
     "collapsed": false,
     "input": [
      "X = np.arange(20).reshape(10,2)\n",
      "y = np.arange(10)"
     ],
     "language": "python",
     "metadata": {},
     "outputs": [],
     "prompt_number": 24
    },
    {
     "cell_type": "markdown",
     "metadata": {},
     "source": [
      "**KFold** split dataset into k consecutive folds (without shuffling):"
     ]
    },
    {
     "cell_type": "code",
     "collapsed": false,
     "input": [
      "kf = cross_validation.KFold(len(y), n_folds=5)\n",
      "for train, test in kf:\n",
      "    print train, test"
     ],
     "language": "python",
     "metadata": {},
     "outputs": [
      {
       "output_type": "stream",
       "stream": "stdout",
       "text": [
        "[2 3 4 5 6 7 8 9] [0 1]\n",
        "[0 1 4 5 6 7 8 9] [2 3]\n",
        "[0 1 2 3 6 7 8 9] [4 5]\n",
        "[0 1 2 3 4 5 8 9] [6 7]\n",
        "[0 1 2 3 4 5 6 7] [8 9]\n"
       ]
      }
     ],
     "prompt_number": 25
    },
    {
     "cell_type": "markdown",
     "metadata": {},
     "source": [
      "**ShuffleSplit** do not guarantee that all folds will be different:"
     ]
    },
    {
     "cell_type": "code",
     "collapsed": false,
     "input": [
      "ss = cross_validation.ShuffleSplit(len(y), n_iter=5, test_size=0.2)\n",
      "for train, test in ss:\n",
      "    print train, test"
     ],
     "language": "python",
     "metadata": {},
     "outputs": [
      {
       "output_type": "stream",
       "stream": "stdout",
       "text": [
        "[9 7 8 2 5 4 1 3] [0 6]\n",
        "[1 9 8 2 7 0 3 5] [4 6]\n",
        "[0 8 6 9 4 5 1 2] [7 3]\n",
        "[6 2 9 4 8 0 5 1] [3 7]\n",
        "[5 2 0 3 7 6 8 4] [1 9]\n"
       ]
      }
     ],
     "prompt_number": 26
    },
    {
     "cell_type": "markdown",
     "metadata": {},
     "source": [
      "**Bootstrap** example:"
     ]
    },
    {
     "cell_type": "code",
     "collapsed": false,
     "input": [
      "bs = cross_validation.LeaveOneLabelOut(range(len(y)))\n",
      "for train, test in bs:\n",
      "    print train, test"
     ],
     "language": "python",
     "metadata": {},
     "outputs": [
      {
       "output_type": "stream",
       "stream": "stdout",
       "text": [
        "[1 2 3 4 5 6 7 8 9] [0]\n",
        "[0 2 3 4 5 6 7 8 9] [1]\n",
        "[0 1 3 4 5 6 7 8 9] [2]\n",
        "[0 1 2 4 5 6 7 8 9] [3]\n",
        "[0 1 2 3 5 6 7 8 9] [4]\n",
        "[0 1 2 3 4 6 7 8 9] [5]\n",
        "[0 1 2 3 4 5 7 8 9] [6]\n",
        "[0 1 2 3 4 5 6 8 9] [7]\n",
        "[0 1 2 3 4 5 6 7 9] [8]\n",
        "[0 1 2 3 4 5 6 7 8] [9]\n"
       ]
      }
     ],
     "prompt_number": 27
    },
    {
     "cell_type": "heading",
     "level": 2,
     "metadata": {},
     "source": [
      "5 Grid Search: Searching for estimator hyperparameters"
     ]
    },
    {
     "cell_type": "markdown",
     "metadata": {},
     "source": [
      "`GridSearchCV` can optimize any parameter provided by `estimator.get_params()` by exhaustively fitting the model with any parameter combination.\n",
      "\n",
      "When evaluating different settings (\u201chyperparameters\u201d) for estimators.\n",
      "\n",
      "`GridSearchCV` will optimize the hyperparameters on the **TRAINING set** (whereas the **VALIDATION set** is generated by CV). After the optimization has been done, the performances of the estimator can be evaluated on a third set called **TEST set**:"
     ]
    },
    {
     "cell_type": "heading",
     "level": 3,
     "metadata": {},
     "source": [
      "5.1 Exhaustive Grid Search"
     ]
    },
    {
     "cell_type": "markdown",
     "metadata": {},
     "source": [
      "We'll pass to `GridSearchCV` a dictionary of parameters containing a list of hyperparameters to be searched. In this case we set `verbose=2` to see an output about all the searches done by the algorithm:"
     ]
    },
    {
     "cell_type": "code",
     "collapsed": false,
     "input": [
      "from sklearn import svm, grid_search\n",
      "# Standardize the data\n",
      "iris = datasets.load_iris()\n",
      "scaler = preprocessing.StandardScaler(copy=True, with_mean=True, with_std=True)\n",
      "X = scaler.fit_transform(iris.data)\n",
      "# Keep out the Test Set\n",
      "X_tr, X_test, y_tr, y_test = cross_validation.train_test_split(X, iris.target,\n",
      "                                                               test_size=0.30, random_state=0)\n",
      "# Define the Search Grid\n",
      "param_grid = [{'C': [1, 10], 'kernel': ['linear']},\n",
      "              {'C': [2], 'gamma': [0.1, 0.01], 'kernel': ['rbf']}]\n",
      "# GridSearchCV\n",
      "clf = grid_search.GridSearchCV(svm.SVC(), param_grid, cv=2, n_jobs=-1, verbose=2)\n",
      "clf.fit(X_tr, y_tr)"
     ],
     "language": "python",
     "metadata": {},
     "outputs": [
      {
       "output_type": "stream",
       "stream": "stdout",
       "text": [
        "Fitting 2 folds for each of 4 candidates, totalling 8 fits\n"
       ]
      },
      {
       "output_type": "stream",
       "stream": "stdout",
       "text": [
        "[CV] kernel=linear, C=1 ..............................................\n",
        "[CV] kernel=linear, C=1 ..............................................\n",
        "[CV] kernel=linear, C=10 .............................................\n",
        "[CV] kernel=linear, C=10 .............................................\n",
        "[CV] kernel=rbf, C=2, gamma=0.1 ......................................\n",
        "[CV] kernel=rbf, C=2, gamma=0.1 ......................................\n",
        "[CV] kernel=rbf, C=2, gamma=0.01 .....................................\n",
        "[CV] kernel=rbf, C=2, gamma=0.01 .....................................\n",
        "[CV] ..................................... kernel=linear, C=1 -   0.0s\n",
        "[CV] ..................................... kernel=linear, C=1 -   0.0s\n",
        "[CV] .................................... kernel=linear, C=10 -   0.0s\n",
        "[CV] .................................... kernel=linear, C=10 -   0.0s\n",
        "[CV] ............................. kernel=rbf, C=2, gamma=0.1 -   0.0s\n",
        "[CV] ............................. kernel=rbf, C=2, gamma=0.1 -   0.0s\n",
        "[CV] ............................ kernel=rbf, C=2, gamma=0.01 -   0.0s\n",
        "[CV] ............................ kernel=rbf, C=2, gamma=0.01 -   0.0s\n"
       ]
      },
      {
       "output_type": "stream",
       "stream": "stderr",
       "text": [
        "[Parallel(n_jobs=-1)]: Done   1 out of   8 | elapsed:    0.0s remaining:    0.2s\n",
        "[Parallel(n_jobs=-1)]: Done   4 out of   8 | elapsed:    0.0s remaining:    0.0s\n",
        "[Parallel(n_jobs=-1)]: Done   8 out of   8 | elapsed:    0.0s finished\n"
       ]
      },
      {
       "metadata": {},
       "output_type": "pyout",
       "prompt_number": 28,
       "text": [
        "GridSearchCV(cv=2,\n",
        "       estimator=SVC(C=1.0, cache_size=200, class_weight=None, coef0=0.0, degree=3, gamma=0.0,\n",
        "  kernel='rbf', max_iter=-1, probability=False, random_state=None,\n",
        "  shrinking=True, tol=0.001, verbose=False),\n",
        "       fit_params={}, iid=True, loss_func=None, n_jobs=-1,\n",
        "       param_grid=[{'kernel': ['linear'], 'C': [1, 10]}, {'kernel': ['rbf'], 'C': [2], 'gamma': [0.1, 0.01]}],\n",
        "       pre_dispatch='2*n_jobs', refit=True, score_func=None, scoring=None,\n",
        "       verbose=2)"
       ]
      }
     ],
     "prompt_number": 28
    },
    {
     "cell_type": "markdown",
     "metadata": {},
     "source": [
      "**TODO -** Create a Surf Plot with the accuracy values found on an hyperparameter grid using the .grid_scores_ data"
     ]
    },
    {
     "cell_type": "code",
     "collapsed": false,
     "input": [
      "for item in clf.grid_scores_:\n",
      "    print item.index\n",
      "    print item.parameters\n",
      "    print item.parameters['C']"
     ],
     "language": "python",
     "metadata": {},
     "outputs": [
      {
       "output_type": "stream",
       "stream": "stdout",
       "text": [
        "<built-in method index of _CVScoreTuple object at 0x10c38ed60>\n",
        "{'kernel': 'linear', 'C': 1}\n",
        "1\n",
        "<built-in method index of _CVScoreTuple object at 0x10ce18ba8>\n",
        "{'kernel': 'linear', 'C': 10}\n",
        "10\n",
        "<built-in method index of _CVScoreTuple object at 0x10ce18b50>\n",
        "{'kernel': 'rbf', 'C': 2, 'gamma': 0.1}\n",
        "2\n",
        "<built-in method index of _CVScoreTuple object at 0x10ce18418>\n",
        "{'kernel': 'rbf', 'C': 2, 'gamma': 0.01}\n",
        "2\n"
       ]
      }
     ],
     "prompt_number": 29
    },
    {
     "cell_type": "markdown",
     "metadata": {},
     "source": [
      "Then we can check the accuracy on the **Test Set**:"
     ]
    },
    {
     "cell_type": "code",
     "collapsed": false,
     "input": [
      "best = clf.best_estimator_\n",
      "print 'Best estimator: ', best\n",
      "scores = cross_validation.cross_val_score(best, X_test, y_test, cv=10)\n",
      "print(\"Accuracy: %0.2f (+/- %0.2f)\" % (scores.mean(), scores.std() * 2))"
     ],
     "language": "python",
     "metadata": {},
     "outputs": [
      {
       "output_type": "stream",
       "stream": "stdout",
       "text": [
        "Best estimator:  SVC(C=1, cache_size=200, class_weight=None, coef0=0.0, degree=3, gamma=0.0,\n",
        "  kernel='linear', max_iter=-1, probability=False, random_state=None,\n",
        "  shrinking=True, tol=0.001, verbose=False)\n",
        "Accuracy: 0.91 (+/- 0.22)\n"
       ]
      }
     ],
     "prompt_number": 30
    },
    {
     "cell_type": "markdown",
     "metadata": {},
     "source": [
      "Different `score` metrics can be used while doing `GridSearchCV`:"
     ]
    },
    {
     "cell_type": "code",
     "collapsed": false,
     "input": [
      "X_tr, X_test, y_tr, y_test = cross_validation.train_test_split(X, iris.target,\n",
      "                                                               test_size=0.60, random_state=0)\n",
      "scores = ['precision', 'recall']\n",
      "param_grid = [{'C': np.logspace(-3,0,4, base=2), 'kernel': ['linear']},\n",
      "              {'C': [1, 10], 'gamma': [0.1], 'kernel': ['rbf']}]\n",
      "print 'PRECISION: fraction of retrieved instances that are relevant'\n",
      "print 'RECALL:    fraction of relevant instances that are retrieved'\n",
      "for score in scores:\n",
      "    print '\\nTuning hyper-parameters for: %s' % score\n",
      "    clf = grid_search.GridSearchCV(svm.SVC(), param_grid, cv=5, scoring=score)\n",
      "    clf.fit(X_tr, y_tr)\n",
      "    print '\\nBest parameters set found on development (training) set:'\n",
      "    print clf.best_estimator_\n",
      "    print '\\nGrid Scores on development set:'\n",
      "    for item in clf.grid_scores_:\n",
      "        print item\n",
      "    print '\\nDetailed classification report (on Testing Set)'\n",
      "    y_true, y_pred = y_test, clf.predict(X_test)\n",
      "    print(metrics.classification_report(y_true, y_pred))\n",
      "    print '-----------------------------------------------------'\n",
      "        "
     ],
     "language": "python",
     "metadata": {},
     "outputs": [
      {
       "output_type": "stream",
       "stream": "stdout",
       "text": [
        "PRECISION: fraction of retrieved instances that are relevant\n",
        "RECALL:    fraction of relevant instances that are retrieved\n",
        "\n",
        "Tuning hyper-parameters for: precision\n",
        "\n",
        "Best parameters set found on development (training) set:\n",
        "SVC(C=0.5, cache_size=200, class_weight=None, coef0=0.0, degree=3, gamma=0.0,\n",
        "  kernel='linear', max_iter=-1, probability=False, random_state=None,\n",
        "  shrinking=True, tol=0.001, verbose=False)\n",
        "\n",
        "Grid Scores on development set:\n",
        "mean: 0.92000, std: 0.08354, params: {'kernel': 'linear', 'C': 0.125}\n",
        "mean: 0.95333, std: 0.06504, params: {'kernel': 'linear', 'C': 0.25}\n",
        "mean: 0.98667, std: 0.02667, params: {'kernel': 'linear', 'C': 0.5}\n",
        "mean: 0.97417, std: 0.03480, params: {'kernel': 'linear', 'C': 1.0}\n",
        "mean: 0.94083, std: 0.06132, params: {'kernel': 'rbf', 'C': 1, 'gamma': 0.1}\n",
        "mean: 0.97417, std: 0.03480, params: {'kernel': 'rbf', 'C': 10, 'gamma': 0.1}\n",
        "\n",
        "Detailed classification report (on Testing Set)\n",
        "             precision    recall  f1-score   support\n",
        "\n",
        "          0       1.00      1.00      1.00        26\n",
        "          1       0.89      1.00      0.94        33\n",
        "          2       1.00      0.87      0.93        31\n",
        "\n",
        "avg / total       0.96      0.96      0.96        90\n",
        "\n",
        "-----------------------------------------------------\n",
        "\n",
        "Tuning hyper-parameters for: recall\n",
        "\n",
        "Best parameters set found on development (training) set:"
       ]
      },
      {
       "output_type": "stream",
       "stream": "stdout",
       "text": [
        "\n",
        "SVC(C=0.5, cache_size=200, class_weight=None, coef0=0.0, degree=3, gamma=0.0,\n",
        "  kernel='linear', max_iter=-1, probability=False, random_state=None,\n",
        "  shrinking=True, tol=0.001, verbose=False)\n",
        "\n",
        "Grid Scores on development set:\n",
        "mean: 0.91667, std: 0.08287, params: {'kernel': 'linear', 'C': 0.125}\n",
        "mean: 0.95000, std: 0.06607, params: {'kernel': 'linear', 'C': 0.25}\n",
        "mean: 0.98333, std: 0.03333, params: {'kernel': 'linear', 'C': 0.5}\n",
        "mean: 0.96667, std: 0.04522, params: {'kernel': 'linear', 'C': 1.0}\n",
        "mean: 0.93333, std: 0.06338, params: {'kernel': 'rbf', 'C': 1, 'gamma': 0.1}\n",
        "mean: 0.96667, std: 0.04522, params: {'kernel': 'rbf', 'C': 10, 'gamma': 0.1}\n",
        "\n",
        "Detailed classification report (on Testing Set)\n",
        "             precision    recall  f1-score   support\n",
        "\n",
        "          0       1.00      1.00      1.00        26\n",
        "          1       0.89      1.00      0.94        33\n",
        "          2       1.00      0.87      0.93        31\n",
        "\n",
        "avg / total       0.96      0.96      0.96        90\n",
        "\n",
        "-----------------------------------------------------\n"
       ]
      }
     ],
     "prompt_number": 31
    },
    {
     "cell_type": "heading",
     "level": 3,
     "metadata": {},
     "source": [
      "5.2 Randomized Parameter Optimization"
     ]
    },
    {
     "cell_type": "markdown",
     "metadata": {},
     "source": [
      "`RandomizedSearchCV` implements a randomized search over parameters, where each setting is sampled from a distribution over possible parameter values. This has two main benefits:\n",
      "\n",
      "* A budget can be chosen independent of the number of parameters and possible values.\n",
      "* Adding parameters that do not influence the performance does not decrease efficiency.\n",
      "\n",
      "Specifying how parameters should be sampled is done using a dictionary. The number of sampling iterations, is specified using the `n_iter` parameter. For each parameter, either a distribution over possible values or a list of discrete choices (which will be sampled uniformly) can be specified. This is a little example of the many statistical distributions available in `scipy`:"
     ]
    },
    {
     "cell_type": "code",
     "collapsed": false,
     "input": [
      "import scipy.stats\n",
      "fig = plt.figure(figsize=(12, 6))\n",
      "fig.subplots_adjust(wspace=0.25, hspace=0.20, top=0.85, bottom=0.05)\n",
      "ax = fig.add_subplot(2, 2, 1)\n",
      "dist = scipy.stats.expon(scale=100) # the frozed uniform distribution\n",
      "plt.hist(dist.rvs(1e4), bins=50)\n",
      "ax = fig.add_subplot(2, 2, 2)\n",
      "dist = scipy.stats.norm(loc=40, scale=10) # the frozed uniform distribution\n",
      "plt.hist(dist.rvs(1e4), bins=50)\n",
      "ax = fig.add_subplot(2, 2, 3)\n",
      "dist = scipy.stats.uniform(loc=20, scale=100) # the frozed uniform distribution\n",
      "plt.hist(dist.rvs(1e4), bins=50)\n",
      "ax = fig.add_subplot(2, 2, 4)\n",
      "dist = scipy.stats.beta(2,2,loc=20, scale=100) # the frozed uniform distribution\n",
      "plt.hist(dist.rvs(1e4), bins=50)\n",
      "plt.show()"
     ],
     "language": "python",
     "metadata": {},
     "outputs": [
      {
       "metadata": {},
       "output_type": "display_data",
       "png": "[encoded data removed]",
       "text": [
        "<matplotlib.figure.Figure at 0x10c561b90>"
       ]
      }
     ],
     "prompt_number": 32
    },
    {
     "cell_type": "markdown",
     "metadata": {},
     "source": [
      "---\n",
      "\n",
      "Email **training [at ]add-for [dot] com** for more information and custom training programs."
     ]
    },
    {
     "cell_type": "code",
     "collapsed": false,
     "input": [],
     "language": "python",
     "metadata": {},
     "outputs": [],
     "prompt_number": 31
    }
   ],
   "metadata": {}
  }
 ]
}