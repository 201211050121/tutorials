{
 "metadata": {
  "name": "",
  "signature": "sha256:0349a307eb218be4cc95815ec7454cdb29acb587d7a58861639edd39f001d850"
 },
 "nbformat": 3,
 "nbformat_minor": 0,
 "worksheets": [
  {
   "cells": [
    {
     "cell_type": "heading",
     "level": 1,
     "metadata": {},
     "source": [
      "Sources of Open Data"
     ]
    },
    {
     "cell_type": "markdown",
     "metadata": {},
     "source": [
      "* [1 Yahoo! Finance](#1-Yahoo!-Finance)\n",
      "    * [1.1 Plotting timeseries with bokeh:](#1.1-Plotting-timeseries-with-bokeh:)\n",
      "    * [1.2 Plotting candlesticks with bokeh:](#1.2-Plotting-candlesticks-with-bokeh:)\n",
      "    * [1.3 Plotting data ranges with bokeh:](#1.3-Plotting-data-ranges-with-bokeh:)\n",
      "    * [1.4 Plotting multiple plots with matplotlib:](#1.4-Plotting-multiple-plots-with-matplotlib:)\n",
      "* [2 Google Finance](#2-Google-Finance)\n",
      "* [3 Federal Reserve Economic Data](#3-Federal-Reserve-Economic-Data)\n",
      "* [4 World Bank](#4-World-Bank)\n"
     ]
    },
    {
     "cell_type": "code",
     "collapsed": false,
     "input": [
      "import warnings\n",
      "import datetime\n",
      "import scipy.io\n",
      "import numpy as np\n",
      "import pandas as pd\n",
      "\n",
      "import pandas.io.data as web\n",
      "import matplotlib.pyplot as plt\n",
      "from bokeh.plotting import *\n",
      "from IPython.display import display\n",
      "from addutils import css_notebook\n",
      "css_notebook()\n",
      "warnings.filterwarnings(\"ignore\", category=UserWarning)"
     ],
     "language": "python",
     "metadata": {},
     "outputs": []
    },
    {
     "cell_type": "heading",
     "level": 2,
     "metadata": {},
     "source": [
      "1 Yahoo! Finance"
     ]
    },
    {
     "cell_type": "code",
     "collapsed": false,
     "input": [
      "start = datetime.datetime(2000, 1, 1)\n",
      "end = datetime.datetime(2014, 5, 14)\n",
      "AAPL_yahoo = web.DataReader(\"AAPL\", 'yahoo', start, end)\n",
      "IBM_yahoo = web.DataReader(\"IBM\", 'yahoo', start, end)"
     ],
     "language": "python",
     "metadata": {},
     "outputs": []
    },
    {
     "cell_type": "code",
     "collapsed": false,
     "input": [
      "output_notebook()"
     ],
     "language": "python",
     "metadata": {},
     "outputs": []
    },
    {
     "cell_type": "heading",
     "level": 3,
     "metadata": {},
     "source": [
      "1.1 Plotting timeseries with bokeh:"
     ]
    },
    {
     "cell_type": "code",
     "collapsed": false,
     "input": [
      "figure(x_axis_type = \"datetime\",\n",
      "       tools=\"pan,box_zoom,reset\", title = 'Closing Prices  - From Yahoo! Finance',\n",
      "       plot_width=800, plot_height=400)\n",
      "hold(True)\n",
      "line(AAPL_yahoo.index, AAPL_yahoo['Adj Close'],\n",
      "     line_width=2, color='darkred', legend='Apple')\n",
      "line(IBM_yahoo.index, IBM_yahoo['Adj Close'],\n",
      "     line_width=2, color='royalblue', legend='IBM')\n",
      "legend().orientation = \"top_left\"\n",
      "hold(False)\n",
      "show()"
     ],
     "language": "python",
     "metadata": {},
     "outputs": []
    },
    {
     "cell_type": "code",
     "collapsed": false,
     "input": [
      "df = AAPL_yahoo[-100:]\n",
      "mids = (df['High']+df['Low'])/2\n",
      "spans = df['Close']-df['Open']\n",
      "inc = df['Close']>=df['Open']\n",
      "dec = df['Close']<df['Open']\n",
      "w = 18*60*60*1000               # 2/3 of a day in ms"
     ],
     "language": "python",
     "metadata": {},
     "outputs": []
    },
    {
     "cell_type": "heading",
     "level": 3,
     "metadata": {},
     "source": [
      "1.2 Plotting candlesticks with bokeh:"
     ]
    },
    {
     "cell_type": "code",
     "collapsed": false,
     "input": [
      "figure(x_axis_type = \"datetime\",\n",
      "       tools=\"pan,box_zoom,reset\",\n",
      "       title = 'Candlesticks  - From Yahoo! Finance',\n",
      "       plot_width=800, plot_height=400)\n",
      "hold(True)\n",
      "segment(df.index, df['High'], df.index, df['Low'], color='black')\n",
      "rect(df.ix[inc].index, mids[inc], w, spans[inc],\n",
      "     fill_color=\"lawngreen\", line_color=\"black\")\n",
      "rect(df.ix[dec].index, mids[dec], w, spans[dec],\n",
      "     fill_color=\"crimson\", line_color=\"black\")\n",
      "legend().orientation = \"top_left\"\n",
      "hold(False)\n",
      "show()"
     ],
     "language": "python",
     "metadata": {},
     "outputs": []
    },
    {
     "cell_type": "heading",
     "level": 3,
     "metadata": {},
     "source": [
      "1.3 Plotting data ranges with bokeh:"
     ]
    },
    {
     "cell_type": "code",
     "collapsed": false,
     "input": [
      "x = df.index.append(df.ix[::-1].index)\n",
      "y = df['Low'].append(df['High'].ix[::-1])\n",
      "\n",
      "figure(x_axis_type = \"datetime\",\n",
      "       tools=\"pan,box_zoom,reset\",\n",
      "       title = \"Mid Trading Values with Range  - From Yahoo! Finance\",\n",
      "       plot_width=800, plot_height=400)\n",
      "hold(True)\n",
      "patch(x,y, color='darkred', alpha=0.3, line_color='violet', line_alpha=0.6)\n",
      "line(df.index, mids, line_width=2, color='darkred', legend='Apple')\n",
      "hold(False)\n",
      "show()"
     ],
     "language": "python",
     "metadata": {},
     "outputs": []
    },
    {
     "cell_type": "heading",
     "level": 3,
     "metadata": {},
     "source": [
      "1.4 Plotting multiple plots with matplotlib:"
     ]
    },
    {
     "cell_type": "code",
     "collapsed": false,
     "input": [
      "%matplotlib inline"
     ],
     "language": "python",
     "metadata": {},
     "outputs": []
    },
    {
     "cell_type": "code",
     "collapsed": false,
     "input": [
      "import matplotlib.gridspec as gridspec\n",
      "fig = plt.figure(figsize=(15,10));\n",
      "gs = gridspec.GridSpec(2, 2, height_ratios=[2,1], hspace=0.4)\n",
      "ax0 = plt.subplot(gs[0, :])\n",
      "ax1 = plt.subplot(gs[1, :])\n",
      "AAPL_yahoo.iloc[-200:,1:3].plot(ax=ax0);\n",
      "AAPL_yahoo['r_mean'] = pd.rolling_mean(AAPL_yahoo.ix[:,'High'],20)\n",
      "AAPL_yahoo.ix[-200:,['High', 'r_mean']].plot(ax=ax1);"
     ],
     "language": "python",
     "metadata": {},
     "outputs": []
    },
    {
     "cell_type": "heading",
     "level": 2,
     "metadata": {},
     "source": [
      "2 Google Finance"
     ]
    },
    {
     "cell_type": "code",
     "collapsed": false,
     "input": [
      "AAPL_google = web.DataReader(\"AAPL\", 'google', start, end)\n",
      "IBM_google = web.DataReader(\"IBM\", 'google', start, end)"
     ],
     "language": "python",
     "metadata": {},
     "outputs": []
    },
    {
     "cell_type": "code",
     "collapsed": false,
     "input": [
      "figure(x_axis_type = \"datetime\",\n",
      "       tools=\"pan,box_zoom,reset\", title = 'Closing Prices - From Google Finance',\n",
      "       plot_width=800, plot_height=400)\n",
      "hold(True)\n",
      "line(AAPL_google.index, AAPL_google['Close'],\n",
      "     line_width=2, color='darkred', legend='Apple')\n",
      "line(IBM_google.index, IBM_google['Close'],\n",
      "     line_width=2, color='royalblue', legend='IBM')\n",
      "legend().orientation = \"top_left\"\n",
      "#hold(False)\n",
      "show()"
     ],
     "language": "python",
     "metadata": {},
     "outputs": []
    },
    {
     "cell_type": "heading",
     "level": 2,
     "metadata": {},
     "source": [
      "3 Federal Reserve Economic Data"
     ]
    },
    {
     "cell_type": "markdown",
     "metadata": {},
     "source": [
      "Federal Reserve Economic Data **(FRED)** is an online database consisting of more than 148,000 economic data time series from 59 national, international, public, and private sources."
     ]
    },
    {
     "cell_type": "code",
     "collapsed": false,
     "input": [
      "start = datetime.datetime(2005, 1, 1)\n",
      "end = datetime.datetime(2014, 2, 1)\n",
      "# LMUNRLTTATM647N Registered Unemployment Level for Austria\n",
      "# LMUNRLTTDKM647N Registered Unemployment Level for Denmark\n",
      "# LMUNRLTTDEM647N Registered Unemployment Level for Germany\n",
      "# LMUNRLTTIEM647N Registered Unemployment Level for Ireland\n",
      "unemployment = web.DataReader(['LMUNRLTTATM647N', 'LMUNRLTTDKM647N', 'LMUNRLTTDEM647N',\n",
      "                            'LMUNRLTTIEM647N'], 'fred', start, end)"
     ],
     "language": "python",
     "metadata": {},
     "outputs": []
    },
    {
     "cell_type": "code",
     "collapsed": false,
     "input": [
      "figure(x_axis_type = \"datetime\",\n",
      "       tools=\"pan,box_zoom,reset\", title = 'Unemployment - Europe',\n",
      "       plot_width=900, plot_height=400)\n",
      "hold(True)\n",
      "line(unemployment.index, unemployment['LMUNRLTTATM647N'], color='#800080',\n",
      "     line_width=2, legend='Austria')\n",
      "line(unemployment.index, unemployment['LMUNRLTTDKM647N'], color='#008B8B',\n",
      "     line_width=2, legend='Denmark')\n",
      "line(unemployment.index, unemployment['LMUNRLTTDEM647N'], color='#FF0000',\n",
      "     line_width=2, legend='Germany')\n",
      "line(unemployment.index, unemployment['LMUNRLTTIEM647N'], color='#2E8B57',\n",
      "     line_width=2, legend='Ireland')\n",
      "axis().major_label_text_font_size = \"12pt\"\n",
      "yaxis().axis_label = \"Registered Unemployment Level\"\n",
      "xaxis().axis_label = \"Year\"\n",
      "legend().orientation = \"top_right\"\n",
      "hold(False)\n",
      "show()"
     ],
     "language": "python",
     "metadata": {},
     "outputs": []
    },
    {
     "cell_type": "heading",
     "level": 2,
     "metadata": {},
     "source": [
      "4 World Bank"
     ]
    },
    {
     "cell_type": "markdown",
     "metadata": {},
     "source": [
      "The [World Bank\u2019s World Development Indicators](http://data.worldbank.org/) is a huge database with thousands of panel data series. With Pandas it's possible to use the `search` function in `pandas.io.wb` to find your data:"
     ]
    },
    {
     "cell_type": "code",
     "collapsed": false,
     "input": [
      "from pandas.io import wb"
     ],
     "language": "python",
     "metadata": {},
     "outputs": []
    },
    {
     "cell_type": "markdown",
     "metadata": {},
     "source": [
      "If you wanted to compare the Gross Domestic Products per capita in constant dollars in North America:"
     ]
    },
    {
     "cell_type": "code",
     "collapsed": false,
     "input": [
      "wb.search('gdp.*capita.*const')"
     ],
     "language": "python",
     "metadata": {},
     "outputs": []
    },
    {
     "cell_type": "code",
     "collapsed": false,
     "input": [
      "dat = wb.download(indicator='NY.GDP.PCAP.KD', country=['all'], start=2005, end=2012)"
     ],
     "language": "python",
     "metadata": {},
     "outputs": []
    },
    {
     "cell_type": "code",
     "collapsed": false,
     "input": [
      "dat.head(10)"
     ],
     "language": "python",
     "metadata": {},
     "outputs": []
    },
    {
     "cell_type": "code",
     "collapsed": false,
     "input": [
      "grouped = dat['NY.GDP.PCAP.KD'].groupby(level=0).mean()\n",
      "grouped.sort(axis=0, ascending=False)\n",
      "grouped = grouped.dropna()\n",
      "sample = 5\n",
      "rich_poor = grouped.ix[:sample].append(grouped.ix[-sample:])"
     ],
     "language": "python",
     "metadata": {},
     "outputs": []
    },
    {
     "cell_type": "code",
     "collapsed": false,
     "input": [
      "%matplotlib inline"
     ],
     "language": "python",
     "metadata": {},
     "outputs": []
    },
    {
     "cell_type": "code",
     "collapsed": false,
     "input": [
      "plt.figure(figsize=(15, 8))\n",
      "rich_poor.plot(kind='bar', log=True)\n",
      "plt.title('Gross Domestic Products per capita - Rich vs Poor', fontsize=25)\n",
      "plt.show()"
     ],
     "language": "python",
     "metadata": {},
     "outputs": []
    },
    {
     "cell_type": "markdown",
     "metadata": {},
     "source": [
      "---\n",
      "\n",
      "Email **training [at ]add-for [dot] com** for more information and custom training programs."
     ]
    }
   ],
   "metadata": {}
  }
 ]
}