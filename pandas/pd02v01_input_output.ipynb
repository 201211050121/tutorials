{
 "metadata": {
  "name": "",
  "signature": "sha256:199afbea4f8c28a4572a33590ac312cd61e03aea90c3020914f87d780cee1e7c"
 },
 "nbformat": 3,
 "nbformat_minor": 0,
 "worksheets": [
  {
   "cells": [
    {
     "cell_type": "heading",
     "level": 1,
     "metadata": {},
     "source": [
      "pandas I/O tools and examples"
     ]
    },
    {
     "cell_type": "markdown",
     "metadata": {},
     "source": [
      "* [1 Matlab Variables](#1-Matlab-Variables)\n",
      "    * [1.1 Import a Matlab variable from file](#1.1-Import-a-Matlab-variable-from-file)\n",
      "* [2 Importing a compressed CSV](#2-Importing-a-compressed-CSV)\n",
      "* [3 Importing and visualizing geographical data](#3-Importing-and-visualizing-geographical-data)\n",
      "* [4 Importing JSON files](#4-Importing-JSON-files)\n",
      "* [5 Importing HTML](#5-Importing-HTML)\n",
      "* [6 Importing Excel](#6-Importing-Excel)\n",
      "* [7 Working with SQL and databases](#7-Working-with-SQL-and-databases)\n",
      "    * [7.1 Write SQL](#7.1-Write-SQL)\n",
      "    * [7.2 Import SQL](#7.2-Import-SQL)\n",
      "* [8 Working with HDF5](#8-Working-with-HDF5)\n",
      "    * [8.1 Storer format](#8.1-Storer-format)\n",
      "    * [8.2 Table format](#8.2-Table-format)\n",
      "    * [8.3 Querying a Table](#8.3-Querying-a-Table)\n"
     ]
    },
    {
     "cell_type": "heading",
     "level": 2,
     "metadata": {},
     "source": [
      "1 Matlab Variables"
     ]
    },
    {
     "cell_type": "heading",
     "level": 3,
     "metadata": {},
     "source": [
      "1.1 Import a Matlab variable from file"
     ]
    },
    {
     "cell_type": "code",
     "collapsed": false,
     "input": [
      "import re\n",
      "import os \n",
      "import scipy.io\n",
      "import numpy as np\n",
      "import pandas as pd\n",
      "import sqlite3\n",
      "from pandas.io.data import DataFrame, read_csv\n",
      "import pandas.io.sql as psql\n",
      "from time import time\n",
      "from IPython.display import display\n",
      "from addutils import css_notebook\n",
      "css_notebook()"
     ],
     "language": "python",
     "metadata": {},
     "outputs": [
      {
       "html": [
        "<style>\n",
        "    @font-face {\n",
        "        font-family: \"Computer Modern\";\n",
        "        src: url('http://mirrors.ctan.org/fonts/cm-unicode/fonts/otf/cmunss.otf');\n",
        "    }\n",
        "    div.cell{\n",
        "        width:900px;\n",
        "        margin-left:0% !important;\n",
        "        margin-right:0%;\n",
        "    }\n",
        "\n",
        "\tcode{\n",
        "\t\tfont-size:10pt\n",
        "\t}\n",
        "\n",
        "    h1 {\n",
        "        font-family: Tahoma, sans-serif;\n",
        "\t\tcolor: rgb( 10, 88, 126 );\n",
        "\t\tfont-size:28pt;\n",
        "    }\n",
        "\th2 {\n",
        "        font-family: Tahoma, sans-serif;\n",
        "\t\tcolor: rgb( 10, 88, 126 );\n",
        "\t\tfont-size:24pt;\n",
        "    }\n",
        "\th3 {\n",
        "        font-family: Tahoma, sans-serif;\n",
        "\t\tcolor: rgb( 10, 88, 126 );\n",
        "\t\tfont-size:20pt;\n",
        "    }\n",
        "    h4 {\n",
        "\t\tfont-family: Tahoma, sans-serif;\n",
        "\t\tcolor: rgb( 10, 88, 126 );\n",
        "\t\tfont-size:18pt;\n",
        "        margin-top:12px;\n",
        "        margin-bottom: 3px;\n",
        "       }\n",
        "\n",
        "\tul {\n",
        "\t\tfont-family: Tahoma, sans-serif;\n",
        "\t\tcolor: rgb( 90, 90, 90 );\n",
        "\t\tfont-size:11pt;\n",
        "\t\tline-height: 185%;\n",
        "\t\t}\n",
        "\n",
        "\tp {\n",
        "\t\tfont-family: Tahoma, sans-serif;\n",
        "\t\tcolor: rgb( 90, 90, 90 );\n",
        "\t\tfont-size:11pt;\n",
        "\t\t}\n",
        "\n",
        "\tstrong {\n",
        "\t\tfont-family: Tahoma, sans-serif;\n",
        "\t\tcolor: rgb( 30, 30, 30 );\n",
        "\t\tfont-size:11pt;\n",
        "\t\t}\n",
        "\n",
        "\ta:link {\n",
        "\t\tfont-family: Tahoma, sans-serif;\n",
        "\t\tcolor: rgb( 10, 88, 126 );\n",
        "\t\tfont-size:11pt;\n",
        "\t\t}\n",
        "\n",
        "\ta:visited {\n",
        "\t\tcolor:rgb( 10, 88, 126 );\n",
        "\t}\n",
        "\n",
        "    div.text_cell_render{\n",
        "        font-family: Helvetica, Courier, Computer Modern, \"Helvetica Neue\", Arial, Geneva, sans-serif;\n",
        "\t\tcolor: rgb( 84, 84, 84 );\n",
        "\t\tfont-size:11pt;\n",
        "        line-height: 125%;\n",
        "        font-size: 100%;\n",
        "        width:800px;\n",
        "        margin-left:auto;\n",
        "        margin-right:auto;\n",
        "    }\n",
        "    .CodeMirror{\n",
        "            font-family: Courier, \"Source Code Pro\", source-code-pro,Consolas, monospace;\n",
        "    }\n",
        "\n",
        "    .text_cell_render h5 {\n",
        "        font-weight: 300;\n",
        "        font-size: 11pt;\n",
        "        color: rgb( 48, 48, 48 );\n",
        "        font-style: italic;\n",
        "        margin-bottom: .5em;\n",
        "        margin-top: 0.5em;\n",
        "        display: block;\n",
        "    }\n",
        "\n",
        "    .warning{\n",
        "        color: rgb( 240, 20, 20 )\n",
        "        }\n",
        ".rendered_html td\n",
        "{\n",
        "text-align: right;\n",
        "}\n",
        "\n",
        "</style>\n",
        "<script>\n",
        "    MathJax.Hub.Config({\n",
        "                        TeX: {\n",
        "                           extensions: [\"AMSmath.js\"]\n",
        "                           },\n",
        "                displayAlign: 'center', // Change this to 'center' to center equations.\n",
        "                \"HTML-CSS\": {\n",
        "                    styles: {'.MathJax_Display': {\"margin\": 4}}\n",
        "                }\n",
        "        });\n",
        "</script>\n"
       ],
       "metadata": {},
       "output_type": "pyout",
       "prompt_number": 1,
       "text": [
        "<IPython.core.display.HTML at 0x11b5b978>"
       ]
      }
     ],
     "prompt_number": 1
    },
    {
     "cell_type": "markdown",
     "metadata": {},
     "source": [
      "Import from '.mat' files"
     ]
    },
    {
     "cell_type": "code",
     "collapsed": false,
     "input": [
      "matlab_var =  os.path.join(os.path.curdir, \"example_data\", \"matlab_variable.mat\")\n",
      "x = scipy.io.loadmat(matlab_var)"
     ],
     "language": "python",
     "metadata": {},
     "outputs": [],
     "prompt_number": 2
    },
    {
     "cell_type": "code",
     "collapsed": false,
     "input": [
      "pyA = x['a']\n",
      "pyA"
     ],
     "language": "python",
     "metadata": {},
     "outputs": [
      {
       "metadata": {},
       "output_type": "pyout",
       "prompt_number": 3,
       "text": [
        "array([[ 92,  99,   1,   8,  15,  67,  74,  51,  58,  40],\n",
        "       [ 98,  80,   7,  14,  16,  73,  55,  57,  64,  41],\n",
        "       [  4,  81,  88,  20,  22,  54,  56,  63,  70,  47],\n",
        "       [ 85,  87,  19,  21,   3,  60,  62,  69,  71,  28],\n",
        "       [ 86,  93,  25,   2,   9,  61,  68,  75,  52,  34],\n",
        "       [ 17,  24,  76,  83,  90,  42,  49,  26,  33,  65],\n",
        "       [ 23,   5,  82,  89,  91,  48,  30,  32,  39,  66],\n",
        "       [ 79,   6,  13,  95,  97,  29,  31,  38,  45,  72],\n",
        "       [ 10,  12,  94,  96,  78,  35,  37,  44,  46,  53],\n",
        "       [ 11,  18, 100,  77,  84,  36,  43,  50,  27,  59]], dtype=uint8)"
       ]
      }
     ],
     "prompt_number": 3
    },
    {
     "cell_type": "markdown",
     "metadata": {},
     "source": [
      "The Matlab variable is passed to a pandas DataFrame:"
     ]
    },
    {
     "cell_type": "code",
     "collapsed": false,
     "input": [
      "df = pd.DataFrame(pyA)\n",
      "df"
     ],
     "language": "python",
     "metadata": {},
     "outputs": [
      {
       "html": [
        "<div style=\"max-height:1000px;max-width:1500px;overflow:auto;\">\n",
        "<table border=\"1\" class=\"dataframe\">\n",
        "  <thead>\n",
        "    <tr style=\"text-align: right;\">\n",
        "      <th></th>\n",
        "      <th>0</th>\n",
        "      <th>1</th>\n",
        "      <th>2</th>\n",
        "      <th>3</th>\n",
        "      <th>4</th>\n",
        "      <th>5</th>\n",
        "      <th>6</th>\n",
        "      <th>7</th>\n",
        "      <th>8</th>\n",
        "      <th>9</th>\n",
        "    </tr>\n",
        "  </thead>\n",
        "  <tbody>\n",
        "    <tr>\n",
        "      <th>0</th>\n",
        "      <td> 92</td>\n",
        "      <td> 99</td>\n",
        "      <td>   1</td>\n",
        "      <td>  8</td>\n",
        "      <td> 15</td>\n",
        "      <td> 67</td>\n",
        "      <td> 74</td>\n",
        "      <td> 51</td>\n",
        "      <td> 58</td>\n",
        "      <td> 40</td>\n",
        "    </tr>\n",
        "    <tr>\n",
        "      <th>1</th>\n",
        "      <td> 98</td>\n",
        "      <td> 80</td>\n",
        "      <td>   7</td>\n",
        "      <td> 14</td>\n",
        "      <td> 16</td>\n",
        "      <td> 73</td>\n",
        "      <td> 55</td>\n",
        "      <td> 57</td>\n",
        "      <td> 64</td>\n",
        "      <td> 41</td>\n",
        "    </tr>\n",
        "    <tr>\n",
        "      <th>2</th>\n",
        "      <td>  4</td>\n",
        "      <td> 81</td>\n",
        "      <td>  88</td>\n",
        "      <td> 20</td>\n",
        "      <td> 22</td>\n",
        "      <td> 54</td>\n",
        "      <td> 56</td>\n",
        "      <td> 63</td>\n",
        "      <td> 70</td>\n",
        "      <td> 47</td>\n",
        "    </tr>\n",
        "    <tr>\n",
        "      <th>3</th>\n",
        "      <td> 85</td>\n",
        "      <td> 87</td>\n",
        "      <td>  19</td>\n",
        "      <td> 21</td>\n",
        "      <td>  3</td>\n",
        "      <td> 60</td>\n",
        "      <td> 62</td>\n",
        "      <td> 69</td>\n",
        "      <td> 71</td>\n",
        "      <td> 28</td>\n",
        "    </tr>\n",
        "    <tr>\n",
        "      <th>4</th>\n",
        "      <td> 86</td>\n",
        "      <td> 93</td>\n",
        "      <td>  25</td>\n",
        "      <td>  2</td>\n",
        "      <td>  9</td>\n",
        "      <td> 61</td>\n",
        "      <td> 68</td>\n",
        "      <td> 75</td>\n",
        "      <td> 52</td>\n",
        "      <td> 34</td>\n",
        "    </tr>\n",
        "    <tr>\n",
        "      <th>5</th>\n",
        "      <td> 17</td>\n",
        "      <td> 24</td>\n",
        "      <td>  76</td>\n",
        "      <td> 83</td>\n",
        "      <td> 90</td>\n",
        "      <td> 42</td>\n",
        "      <td> 49</td>\n",
        "      <td> 26</td>\n",
        "      <td> 33</td>\n",
        "      <td> 65</td>\n",
        "    </tr>\n",
        "    <tr>\n",
        "      <th>6</th>\n",
        "      <td> 23</td>\n",
        "      <td>  5</td>\n",
        "      <td>  82</td>\n",
        "      <td> 89</td>\n",
        "      <td> 91</td>\n",
        "      <td> 48</td>\n",
        "      <td> 30</td>\n",
        "      <td> 32</td>\n",
        "      <td> 39</td>\n",
        "      <td> 66</td>\n",
        "    </tr>\n",
        "    <tr>\n",
        "      <th>7</th>\n",
        "      <td> 79</td>\n",
        "      <td>  6</td>\n",
        "      <td>  13</td>\n",
        "      <td> 95</td>\n",
        "      <td> 97</td>\n",
        "      <td> 29</td>\n",
        "      <td> 31</td>\n",
        "      <td> 38</td>\n",
        "      <td> 45</td>\n",
        "      <td> 72</td>\n",
        "    </tr>\n",
        "    <tr>\n",
        "      <th>8</th>\n",
        "      <td> 10</td>\n",
        "      <td> 12</td>\n",
        "      <td>  94</td>\n",
        "      <td> 96</td>\n",
        "      <td> 78</td>\n",
        "      <td> 35</td>\n",
        "      <td> 37</td>\n",
        "      <td> 44</td>\n",
        "      <td> 46</td>\n",
        "      <td> 53</td>\n",
        "    </tr>\n",
        "    <tr>\n",
        "      <th>9</th>\n",
        "      <td> 11</td>\n",
        "      <td> 18</td>\n",
        "      <td> 100</td>\n",
        "      <td> 77</td>\n",
        "      <td> 84</td>\n",
        "      <td> 36</td>\n",
        "      <td> 43</td>\n",
        "      <td> 50</td>\n",
        "      <td> 27</td>\n",
        "      <td> 59</td>\n",
        "    </tr>\n",
        "  </tbody>\n",
        "</table>\n",
        "</div>"
       ],
       "metadata": {},
       "output_type": "pyout",
       "prompt_number": 4,
       "text": [
        "    0   1    2   3   4   5   6   7   8   9\n",
        "0  92  99    1   8  15  67  74  51  58  40\n",
        "1  98  80    7  14  16  73  55  57  64  41\n",
        "2   4  81   88  20  22  54  56  63  70  47\n",
        "3  85  87   19  21   3  60  62  69  71  28\n",
        "4  86  93   25   2   9  61  68  75  52  34\n",
        "5  17  24   76  83  90  42  49  26  33  65\n",
        "6  23   5   82  89  91  48  30  32  39  66\n",
        "7  79   6   13  95  97  29  31  38  45  72\n",
        "8  10  12   94  96  78  35  37  44  46  53\n",
        "9  11  18  100  77  84  36  43  50  27  59"
       ]
      }
     ],
     "prompt_number": 4
    },
    {
     "cell_type": "heading",
     "level": 2,
     "metadata": {},
     "source": [
      "2 Importing a compressed CSV"
     ]
    },
    {
     "cell_type": "markdown",
     "metadata": {},
     "source": [
      "The following example shows how to import directly a compressed csv file, in this case with multiple separators:"
     ]
    },
    {
     "cell_type": "code",
     "collapsed": false,
     "input": [
      "pd_12_peopl =  os.path.join(os.path.curdir, \"example_data\", \"pd12_peopl.csv.gz\")\n",
      "df_csv = pd.read_csv(pd_12_peopl, sep=',;.',\n",
      "                     skipinitialspace=True, compression='gzip', engine='python')\n",
      "df_csv.head()"
     ],
     "language": "python",
     "metadata": {},
     "outputs": [
      {
       "html": [
        "<div style=\"max-height:1000px;max-width:1500px;overflow:auto;\">\n",
        "<table border=\"1\" class=\"dataframe\">\n",
        "  <thead>\n",
        "    <tr style=\"text-align: right;\">\n",
        "      <th></th>\n",
        "      <th>ID</th>\n",
        "      <th>Names</th>\n",
        "      <th>Phone</th>\n",
        "      <th>Town</th>\n",
        "      <th>Description</th>\n",
        "      <th>Income</th>\n",
        "      <th>Coordinates</th>\n",
        "    </tr>\n",
        "  </thead>\n",
        "  <tbody>\n",
        "    <tr>\n",
        "      <th>0</th>\n",
        "      <td> 1</td>\n",
        "      <td>  Lydia Z. Flores</td>\n",
        "      <td>     (02) 0548 5995</td>\n",
        "      <td>       Haddington</td>\n",
        "      <td>               sed, sapien. Nunc pulvinar arcu</td>\n",
        "      <td>                   \u20ac6,223</td>\n",
        "      <td>  23.28054, -24.48755</td>\n",
        "    </tr>\n",
        "    <tr>\n",
        "      <th>1</th>\n",
        "      <td> 2</td>\n",
        "      <td>   Bell X. Guerra</td>\n",
        "      <td>     (07) 8599 9926</td>\n",
        "      <td>    Montes Claros</td>\n",
        "      <td>      consectetuer, cursus et, magna. Praesent</td>\n",
        "      <td>                  \u20ac14,967</td>\n",
        "      <td>  -77.76329, 69.22339</td>\n",
        "    </tr>\n",
        "    <tr>\n",
        "      <th>2</th>\n",
        "      <td> 3</td>\n",
        "      <td>   Kirk Q. Bowman</td>\n",
        "      <td>     (06) 4153 7501</td>\n",
        "      <td>            Cagli</td>\n",
        "      <td>            tortor. Nunc commodo auctor velit.</td>\n",
        "      <td>                  \u20ac17,399</td>\n",
        "      <td>  -58.80037, 22.50537</td>\n",
        "    </tr>\n",
        "    <tr>\n",
        "      <th>3</th>\n",
        "      <td> 4</td>\n",
        "      <td>    Karen Pickett</td>\n",
        "      <td>     (02) 3216 9708</td>\n",
        "      <td>          Cobourg</td>\n",
        "      <td>              at auctor ullamcorper, nisl arcu</td>\n",
        "      <td>                  \u20ac17,373</td>\n",
        "      <td>  75.73982, -78.01872</td>\n",
        "    </tr>\n",
        "    <tr>\n",
        "      <th>4</th>\n",
        "      <td> 5</td>\n",
        "      <td> Vance J. Johnson</td>\n",
        "      <td>     (01) 7568 6371</td>\n",
        "      <td>          Carlton</td>\n",
        "      <td>          ultricies adipiscing, enim mi tempor</td>\n",
        "      <td>                   \u20ac9,025</td>\n",
        "      <td> -86.51337, 109.46298</td>\n",
        "    </tr>\n",
        "  </tbody>\n",
        "</table>\n",
        "</div>"
       ],
       "metadata": {},
       "output_type": "pyout",
       "prompt_number": 5,
       "text": [
        "   ID             Names               Phone              Town  \\\n",
        "0   1   Lydia Z. Flores      (02) 0548 5995        Haddington   \n",
        "1   2    Bell X. Guerra      (07) 8599 9926     Montes Claros   \n",
        "2   3    Kirk Q. Bowman      (06) 4153 7501             Cagli   \n",
        "3   4     Karen Pickett      (02) 3216 9708           Cobourg   \n",
        "4   5  Vance J. Johnson      (01) 7568 6371           Carlton   \n",
        "\n",
        "                                     Description                    Income  \\\n",
        "0                sed, sapien. Nunc pulvinar arcu                    \u20ac6,223   \n",
        "1       consectetuer, cursus et, magna. Praesent                   \u20ac14,967   \n",
        "2             tortor. Nunc commodo auctor velit.                   \u20ac17,399   \n",
        "3               at auctor ullamcorper, nisl arcu                   \u20ac17,373   \n",
        "4           ultricies adipiscing, enim mi tempor                    \u20ac9,025   \n",
        "\n",
        "            Coordinates  \n",
        "0   23.28054, -24.48755  \n",
        "1   -77.76329, 69.22339  \n",
        "2   -58.80037, 22.50537  \n",
        "3   75.73982, -78.01872  \n",
        "4  -86.51337, 109.46298  "
       ]
      }
     ],
     "prompt_number": 5
    },
    {
     "cell_type": "code",
     "collapsed": false,
     "input": [
      "coor = df_csv['Coordinates']\n",
      "df_csv['lat'] = ''\n",
      "df_csv['lon'] = ''\n",
      "for j, coo in enumerate(coor):\n",
      "    spl = re.split(',', str(coo))\n",
      "    df_csv['lat'][j] = spl[0]\n",
      "    df_csv['lon'][j] = spl[1]\n",
      "df_csv.head()"
     ],
     "language": "python",
     "metadata": {},
     "outputs": [
      {
       "output_type": "stream",
       "stream": "stderr",
       "text": [
        "-c:6: SettingWithCopyWarning: \n",
        "A value is trying to be set on a copy of a slice from a DataFrame\n",
        "\n",
        "See the the caveats in the documentation: http://pandas.pydata.org/pandas-docs/stable/indexing.html#indexing-view-versus-copy\n",
        "-c:7: SettingWithCopyWarning: \n",
        "A value is trying to be set on a copy of a slice from a DataFrame\n",
        "\n",
        "See the the caveats in the documentation: http://pandas.pydata.org/pandas-docs/stable/indexing.html#indexing-view-versus-copy\n"
       ]
      },
      {
       "html": [
        "<div style=\"max-height:1000px;max-width:1500px;overflow:auto;\">\n",
        "<table border=\"1\" class=\"dataframe\">\n",
        "  <thead>\n",
        "    <tr style=\"text-align: right;\">\n",
        "      <th></th>\n",
        "      <th>ID</th>\n",
        "      <th>Names</th>\n",
        "      <th>Phone</th>\n",
        "      <th>Town</th>\n",
        "      <th>Description</th>\n",
        "      <th>Income</th>\n",
        "      <th>Coordinates</th>\n",
        "      <th>lat</th>\n",
        "      <th>lon</th>\n",
        "    </tr>\n",
        "  </thead>\n",
        "  <tbody>\n",
        "    <tr>\n",
        "      <th>0</th>\n",
        "      <td> 1</td>\n",
        "      <td>  Lydia Z. Flores</td>\n",
        "      <td>     (02) 0548 5995</td>\n",
        "      <td>       Haddington</td>\n",
        "      <td>               sed, sapien. Nunc pulvinar arcu</td>\n",
        "      <td>                   \u20ac6,223</td>\n",
        "      <td>  23.28054, -24.48755</td>\n",
        "      <td>  23.28054</td>\n",
        "      <td>  -24.48755</td>\n",
        "    </tr>\n",
        "    <tr>\n",
        "      <th>1</th>\n",
        "      <td> 2</td>\n",
        "      <td>   Bell X. Guerra</td>\n",
        "      <td>     (07) 8599 9926</td>\n",
        "      <td>    Montes Claros</td>\n",
        "      <td>      consectetuer, cursus et, magna. Praesent</td>\n",
        "      <td>                  \u20ac14,967</td>\n",
        "      <td>  -77.76329, 69.22339</td>\n",
        "      <td> -77.76329</td>\n",
        "      <td>   69.22339</td>\n",
        "    </tr>\n",
        "    <tr>\n",
        "      <th>2</th>\n",
        "      <td> 3</td>\n",
        "      <td>   Kirk Q. Bowman</td>\n",
        "      <td>     (06) 4153 7501</td>\n",
        "      <td>            Cagli</td>\n",
        "      <td>            tortor. Nunc commodo auctor velit.</td>\n",
        "      <td>                  \u20ac17,399</td>\n",
        "      <td>  -58.80037, 22.50537</td>\n",
        "      <td> -58.80037</td>\n",
        "      <td>   22.50537</td>\n",
        "    </tr>\n",
        "    <tr>\n",
        "      <th>3</th>\n",
        "      <td> 4</td>\n",
        "      <td>    Karen Pickett</td>\n",
        "      <td>     (02) 3216 9708</td>\n",
        "      <td>          Cobourg</td>\n",
        "      <td>              at auctor ullamcorper, nisl arcu</td>\n",
        "      <td>                  \u20ac17,373</td>\n",
        "      <td>  75.73982, -78.01872</td>\n",
        "      <td>  75.73982</td>\n",
        "      <td>  -78.01872</td>\n",
        "    </tr>\n",
        "    <tr>\n",
        "      <th>4</th>\n",
        "      <td> 5</td>\n",
        "      <td> Vance J. Johnson</td>\n",
        "      <td>     (01) 7568 6371</td>\n",
        "      <td>          Carlton</td>\n",
        "      <td>          ultricies adipiscing, enim mi tempor</td>\n",
        "      <td>                   \u20ac9,025</td>\n",
        "      <td> -86.51337, 109.46298</td>\n",
        "      <td> -86.51337</td>\n",
        "      <td>  109.46298</td>\n",
        "    </tr>\n",
        "  </tbody>\n",
        "</table>\n",
        "</div>"
       ],
       "metadata": {},
       "output_type": "pyout",
       "prompt_number": 6,
       "text": [
        "   ID             Names               Phone              Town  \\\n",
        "0   1   Lydia Z. Flores      (02) 0548 5995        Haddington   \n",
        "1   2    Bell X. Guerra      (07) 8599 9926     Montes Claros   \n",
        "2   3    Kirk Q. Bowman      (06) 4153 7501             Cagli   \n",
        "3   4     Karen Pickett      (02) 3216 9708           Cobourg   \n",
        "4   5  Vance J. Johnson      (01) 7568 6371           Carlton   \n",
        "\n",
        "                                     Description                    Income  \\\n",
        "0                sed, sapien. Nunc pulvinar arcu                    \u20ac6,223   \n",
        "1       consectetuer, cursus et, magna. Praesent                   \u20ac14,967   \n",
        "2             tortor. Nunc commodo auctor velit.                   \u20ac17,399   \n",
        "3               at auctor ullamcorper, nisl arcu                   \u20ac17,373   \n",
        "4           ultricies adipiscing, enim mi tempor                    \u20ac9,025   \n",
        "\n",
        "            Coordinates        lat         lon  \n",
        "0   23.28054, -24.48755   23.28054   -24.48755  \n",
        "1   -77.76329, 69.22339  -77.76329    69.22339  \n",
        "2   -58.80037, 22.50537  -58.80037    22.50537  \n",
        "3   75.73982, -78.01872   75.73982   -78.01872  \n",
        "4  -86.51337, 109.46298  -86.51337   109.46298  "
       ]
      }
     ],
     "prompt_number": 6
    },
    {
     "cell_type": "code",
     "collapsed": false,
     "input": [
      "conv_json_path =  os.path.join(os.path.curdir, \"temp\", \"converted_json.json\")\n",
      "df_csv.to_json(conv_json_path)"
     ],
     "language": "python",
     "metadata": {},
     "outputs": [],
     "prompt_number": 7
    },
    {
     "cell_type": "heading",
     "level": 2,
     "metadata": {},
     "source": [
      "3 Importing JSON files"
     ]
    },
    {
     "cell_type": "code",
     "collapsed": false,
     "input": [
      "#dfjson = pd.read_json(fg.get_example('generatedSimple.json'))\n",
      "dfjson = pd.read_json(conv_json_path)\n",
      "dfjson.head()"
     ],
     "language": "python",
     "metadata": {},
     "outputs": [
      {
       "html": [
        "<div style=\"max-height:1000px;max-width:1500px;overflow:auto;\">\n",
        "<table border=\"1\" class=\"dataframe\">\n",
        "  <thead>\n",
        "    <tr style=\"text-align: right;\">\n",
        "      <th></th>\n",
        "      <th>Coordinates</th>\n",
        "      <th>Description</th>\n",
        "      <th>ID</th>\n",
        "      <th>Income</th>\n",
        "      <th>Names</th>\n",
        "      <th>Phone</th>\n",
        "      <th>Town</th>\n",
        "      <th>lat</th>\n",
        "      <th>lon</th>\n",
        "    </tr>\n",
        "  </thead>\n",
        "  <tbody>\n",
        "    <tr>\n",
        "      <th>0 </th>\n",
        "      <td>  23.28054, -24.48755</td>\n",
        "      <td>               sed, sapien. Nunc pulvinar arcu</td>\n",
        "      <td>  1</td>\n",
        "      <td>                   \u20ac6,223</td>\n",
        "      <td>  Lydia Z. Flores</td>\n",
        "      <td>     (02) 0548 5995</td>\n",
        "      <td>          Haddington</td>\n",
        "      <td> 23.28054</td>\n",
        "      <td> -24.48755</td>\n",
        "    </tr>\n",
        "    <tr>\n",
        "      <th>1 </th>\n",
        "      <td>  -77.76329, 69.22339</td>\n",
        "      <td>      consectetuer, cursus et, magna. Praesent</td>\n",
        "      <td>  2</td>\n",
        "      <td>                  \u20ac14,967</td>\n",
        "      <td>   Bell X. Guerra</td>\n",
        "      <td>     (07) 8599 9926</td>\n",
        "      <td>       Montes Claros</td>\n",
        "      <td>-77.76329</td>\n",
        "      <td>  69.22339</td>\n",
        "    </tr>\n",
        "    <tr>\n",
        "      <th>10</th>\n",
        "      <td> -62.95199, 116.29751</td>\n",
        "      <td>                         Duis sit amet diam eu</td>\n",
        "      <td> 11</td>\n",
        "      <td>                  \u20ac15,764</td>\n",
        "      <td> Jameson H. Craig</td>\n",
        "      <td>     (07) 8640 5274</td>\n",
        "      <td>           Fairbanks</td>\n",
        "      <td>-62.95199</td>\n",
        "      <td> 116.29751</td>\n",
        "    </tr>\n",
        "    <tr>\n",
        "      <th>11</th>\n",
        "      <td> -42.26793, -92.23605</td>\n",
        "      <td>                   et netus et malesuada fames</td>\n",
        "      <td> 12</td>\n",
        "      <td>                  \u20ac18,460</td>\n",
        "      <td>  Michael Randall</td>\n",
        "      <td>     (04) 3451 8606</td>\n",
        "      <td>             Mezzana</td>\n",
        "      <td>-42.26793</td>\n",
        "      <td> -92.23605</td>\n",
        "    </tr>\n",
        "    <tr>\n",
        "      <th>12</th>\n",
        "      <td>  -20.39897, 152.4122</td>\n",
        "      <td>                     id risus quis diam luctus</td>\n",
        "      <td> 13</td>\n",
        "      <td>                   \u20ac6,175</td>\n",
        "      <td>    Sierra Rivers</td>\n",
        "      <td>     (01) 2020 4511</td>\n",
        "      <td> Lugnano in Teverina</td>\n",
        "      <td>-20.39897</td>\n",
        "      <td> 152.41220</td>\n",
        "    </tr>\n",
        "  </tbody>\n",
        "</table>\n",
        "</div>"
       ],
       "metadata": {},
       "output_type": "pyout",
       "prompt_number": 8,
       "text": [
        "             Coordinates                                    Description  ID  \\\n",
        "0    23.28054, -24.48755                sed, sapien. Nunc pulvinar arcu   1   \n",
        "1    -77.76329, 69.22339       consectetuer, cursus et, magna. Praesent   2   \n",
        "10  -62.95199, 116.29751                          Duis sit amet diam eu  11   \n",
        "11  -42.26793, -92.23605                    et netus et malesuada fames  12   \n",
        "12   -20.39897, 152.4122                      id risus quis diam luctus  13   \n",
        "\n",
        "                      Income             Names               Phone  \\\n",
        "0                     \u20ac6,223   Lydia Z. Flores      (02) 0548 5995   \n",
        "1                    \u20ac14,967    Bell X. Guerra      (07) 8599 9926   \n",
        "10                   \u20ac15,764  Jameson H. Craig      (07) 8640 5274   \n",
        "11                   \u20ac18,460   Michael Randall      (04) 3451 8606   \n",
        "12                    \u20ac6,175     Sierra Rivers      (01) 2020 4511   \n",
        "\n",
        "                   Town       lat        lon  \n",
        "0            Haddington  23.28054  -24.48755  \n",
        "1         Montes Claros -77.76329   69.22339  \n",
        "10            Fairbanks -62.95199  116.29751  \n",
        "11              Mezzana -42.26793  -92.23605  \n",
        "12  Lugnano in Teverina -20.39897  152.41220  "
       ]
      }
     ],
     "prompt_number": 8
    },
    {
     "cell_type": "markdown",
     "metadata": {},
     "source": [
      "Since the import reordered columns in alphabetical order, we can choose a preferred column order:"
     ]
    },
    {
     "cell_type": "code",
     "collapsed": false,
     "input": [
      "dfjson = dfjson.ix[:, ['ID', 'Names', 'Phone', 'Income', 'Town', 'lat', 'lon']]\n",
      "dfjson.head()"
     ],
     "language": "python",
     "metadata": {},
     "outputs": [
      {
       "html": [
        "<div style=\"max-height:1000px;max-width:1500px;overflow:auto;\">\n",
        "<table border=\"1\" class=\"dataframe\">\n",
        "  <thead>\n",
        "    <tr style=\"text-align: right;\">\n",
        "      <th></th>\n",
        "      <th>ID</th>\n",
        "      <th>Names</th>\n",
        "      <th>Phone</th>\n",
        "      <th>Income</th>\n",
        "      <th>Town</th>\n",
        "      <th>lat</th>\n",
        "      <th>lon</th>\n",
        "    </tr>\n",
        "  </thead>\n",
        "  <tbody>\n",
        "    <tr>\n",
        "      <th>0 </th>\n",
        "      <td>  1</td>\n",
        "      <td>  Lydia Z. Flores</td>\n",
        "      <td>     (02) 0548 5995</td>\n",
        "      <td>                   \u20ac6,223</td>\n",
        "      <td>          Haddington</td>\n",
        "      <td> 23.28054</td>\n",
        "      <td> -24.48755</td>\n",
        "    </tr>\n",
        "    <tr>\n",
        "      <th>1 </th>\n",
        "      <td>  2</td>\n",
        "      <td>   Bell X. Guerra</td>\n",
        "      <td>     (07) 8599 9926</td>\n",
        "      <td>                  \u20ac14,967</td>\n",
        "      <td>       Montes Claros</td>\n",
        "      <td>-77.76329</td>\n",
        "      <td>  69.22339</td>\n",
        "    </tr>\n",
        "    <tr>\n",
        "      <th>10</th>\n",
        "      <td> 11</td>\n",
        "      <td> Jameson H. Craig</td>\n",
        "      <td>     (07) 8640 5274</td>\n",
        "      <td>                  \u20ac15,764</td>\n",
        "      <td>           Fairbanks</td>\n",
        "      <td>-62.95199</td>\n",
        "      <td> 116.29751</td>\n",
        "    </tr>\n",
        "    <tr>\n",
        "      <th>11</th>\n",
        "      <td> 12</td>\n",
        "      <td>  Michael Randall</td>\n",
        "      <td>     (04) 3451 8606</td>\n",
        "      <td>                  \u20ac18,460</td>\n",
        "      <td>             Mezzana</td>\n",
        "      <td>-42.26793</td>\n",
        "      <td> -92.23605</td>\n",
        "    </tr>\n",
        "    <tr>\n",
        "      <th>12</th>\n",
        "      <td> 13</td>\n",
        "      <td>    Sierra Rivers</td>\n",
        "      <td>     (01) 2020 4511</td>\n",
        "      <td>                   \u20ac6,175</td>\n",
        "      <td> Lugnano in Teverina</td>\n",
        "      <td>-20.39897</td>\n",
        "      <td> 152.41220</td>\n",
        "    </tr>\n",
        "  </tbody>\n",
        "</table>\n",
        "</div>"
       ],
       "metadata": {},
       "output_type": "pyout",
       "prompt_number": 9,
       "text": [
        "    ID             Names               Phone                    Income  \\\n",
        "0    1   Lydia Z. Flores      (02) 0548 5995                    \u20ac6,223   \n",
        "1    2    Bell X. Guerra      (07) 8599 9926                   \u20ac14,967   \n",
        "10  11  Jameson H. Craig      (07) 8640 5274                   \u20ac15,764   \n",
        "11  12   Michael Randall      (04) 3451 8606                   \u20ac18,460   \n",
        "12  13     Sierra Rivers      (01) 2020 4511                    \u20ac6,175   \n",
        "\n",
        "                   Town       lat        lon  \n",
        "0            Haddington  23.28054  -24.48755  \n",
        "1         Montes Claros -77.76329   69.22339  \n",
        "10            Fairbanks -62.95199  116.29751  \n",
        "11              Mezzana -42.26793  -92.23605  \n",
        "12  Lugnano in Teverina -20.39897  152.41220  "
       ]
      }
     ],
     "prompt_number": 9
    },
    {
     "cell_type": "heading",
     "level": 2,
     "metadata": {},
     "source": [
      "4 Importing HTML"
     ]
    },
    {
     "cell_type": "markdown",
     "metadata": {},
     "source": [
      "Note: `read_html` returns a **list** of DataFrame objects, even if there is only a single table contained in the `HTML` content. Infer_types avoids the function trying to automatically detect numeric and date types (this generated an error with coordinates)"
     ]
    },
    {
     "cell_type": "code",
     "collapsed": false,
     "input": [
      "html_path =  os.path.join(os.path.curdir, \"example_data\", \"generated.html\")\n",
      "dfhtml = pd.read_html(html_path, header=0)\n",
      "dfhtml[0].head()"
     ],
     "language": "python",
     "metadata": {},
     "outputs": [
      {
       "html": [
        "<div style=\"max-height:1000px;max-width:1500px;overflow:auto;\">\n",
        "<table border=\"1\" class=\"dataframe\">\n",
        "  <thead>\n",
        "    <tr style=\"text-align: right;\">\n",
        "      <th></th>\n",
        "      <th>Nomi maschili</th>\n",
        "      <th>Strade</th>\n",
        "      <th>Citt\u00e0</th>\n",
        "      <th>Coordinate</th>\n",
        "      <th>Ente</th>\n",
        "      <th>mail</th>\n",
        "    </tr>\n",
        "  </thead>\n",
        "  <tbody>\n",
        "    <tr>\n",
        "      <th>0</th>\n",
        "      <td>     Drew</td>\n",
        "      <td>        5672 Accumsan Road</td>\n",
        "      <td>                Whitburn</td>\n",
        "      <td>  -54.68429, -67.21709</td>\n",
        "      <td>       Ac Consulting</td>\n",
        "      <td>                   a.aliquet.vel@vitae.co.uk</td>\n",
        "    </tr>\n",
        "    <tr>\n",
        "      <th>1</th>\n",
        "      <td>     Finn</td>\n",
        "      <td> Ap #170-4074 Interdum Rd.</td>\n",
        "      <td>                 Pelotas</td>\n",
        "      <td>   81.93087, 168.14556</td>\n",
        "      <td> Varius Incorporated</td>\n",
        "      <td>               nec.malesuada.ut@primisin.com</td>\n",
        "    </tr>\n",
        "    <tr>\n",
        "      <th>2</th>\n",
        "      <td>   Martin</td>\n",
        "      <td>    Ap #471-6260 Etiam Ave</td>\n",
        "      <td>                  Aliano</td>\n",
        "      <td>  33.99272, -148.70584</td>\n",
        "      <td>     Arcu Industries</td>\n",
        "      <td>                             lacus@risus.net</td>\n",
        "    </tr>\n",
        "    <tr>\n",
        "      <th>3</th>\n",
        "      <td> Zephania</td>\n",
        "      <td>  Ap #720-7951 Aliquam Ave</td>\n",
        "      <td>              Senneville</td>\n",
        "      <td>  -56.82569, -72.80435</td>\n",
        "      <td>        Tristique PC</td>\n",
        "      <td>                     arcu@sempereratin.co.uk</td>\n",
        "    </tr>\n",
        "    <tr>\n",
        "      <th>4</th>\n",
        "      <td>    Devin</td>\n",
        "      <td>              3538 Dui St.</td>\n",
        "      <td> Zwettl-Nieder\u00f6sterreich</td>\n",
        "      <td> -11.90874, -149.61123</td>\n",
        "      <td> Imperdiet Dictum PC</td>\n",
        "      <td> lectus.rutrum.urna@massaQuisqueporttitor.ca</td>\n",
        "    </tr>\n",
        "  </tbody>\n",
        "</table>\n",
        "</div>"
       ],
       "metadata": {},
       "output_type": "pyout",
       "prompt_number": 10,
       "text": [
        "  Nomi maschili                     Strade                    Citt\u00e0  \\\n",
        "0          Drew         5672 Accumsan Road                 Whitburn   \n",
        "1          Finn  Ap #170-4074 Interdum Rd.                  Pelotas   \n",
        "2        Martin     Ap #471-6260 Etiam Ave                   Aliano   \n",
        "3      Zephania   Ap #720-7951 Aliquam Ave               Senneville   \n",
        "4         Devin               3538 Dui St.  Zwettl-Nieder\u00f6sterreich   \n",
        "\n",
        "              Coordinate                 Ente  \\\n",
        "0   -54.68429, -67.21709        Ac Consulting   \n",
        "1    81.93087, 168.14556  Varius Incorporated   \n",
        "2   33.99272, -148.70584      Arcu Industries   \n",
        "3   -56.82569, -72.80435         Tristique PC   \n",
        "4  -11.90874, -149.61123  Imperdiet Dictum PC   \n",
        "\n",
        "                                          mail  \n",
        "0                    a.aliquet.vel@vitae.co.uk  \n",
        "1                nec.malesuada.ut@primisin.com  \n",
        "2                              lacus@risus.net  \n",
        "3                      arcu@sempereratin.co.uk  \n",
        "4  lectus.rutrum.urna@massaQuisqueporttitor.ca  "
       ]
      }
     ],
     "prompt_number": 10
    },
    {
     "cell_type": "heading",
     "level": 2,
     "metadata": {},
     "source": [
      "5 Importing Excel"
     ]
    },
    {
     "cell_type": "code",
     "collapsed": false,
     "input": [
      "generated_xls =  os.path.join(os.path.curdir, \"example_data\", \"generated2.xls\")\n",
      "dfxl = pd.read_excel(generated_xls, 'foglio')\n",
      "dfxl.head()"
     ],
     "language": "python",
     "metadata": {},
     "outputs": [
      {
       "html": [
        "<div style=\"max-height:1000px;max-width:1500px;overflow:auto;\">\n",
        "<table border=\"1\" class=\"dataframe\">\n",
        "  <thead>\n",
        "    <tr style=\"text-align: right;\">\n",
        "      <th></th>\n",
        "      <th>Names</th>\n",
        "      <th>Streets</th>\n",
        "      <th>Town</th>\n",
        "      <th>Coordinates</th>\n",
        "      <th>Corporation</th>\n",
        "      <th>mail</th>\n",
        "    </tr>\n",
        "  </thead>\n",
        "  <tbody>\n",
        "    <tr>\n",
        "      <th>0</th>\n",
        "      <td>  Stephen</td>\n",
        "      <td>     Ap #389-3365 Risus, St.</td>\n",
        "      <td>           Lelystad</td>\n",
        "      <td>  51.91783, -47.01037</td>\n",
        "      <td> Consectetuer Rhoncus Nullam Corporation</td>\n",
        "      <td> Suspendisse.sed@pedePraesenteu.org</td>\n",
        "    </tr>\n",
        "    <tr>\n",
        "      <th>1</th>\n",
        "      <td>  Kenneth</td>\n",
        "      <td>        120-6483 Ligula. Ave</td>\n",
        "      <td>          Labrecque</td>\n",
        "      <td>   -1.92625, 10.02451</td>\n",
        "      <td>                           A Corporation</td>\n",
        "      <td>          orci@egetmollislectus.com</td>\n",
        "    </tr>\n",
        "    <tr>\n",
        "      <th>2</th>\n",
        "      <td>      Leo</td>\n",
        "      <td>       Ap #727-2085 Eget Av.</td>\n",
        "      <td>  Strathcona County</td>\n",
        "      <td> -17.31839, 137.99307</td>\n",
        "      <td>                             Sed Limited</td>\n",
        "      <td>                      Etiam@vel.org</td>\n",
        "    </tr>\n",
        "    <tr>\n",
        "      <th>3</th>\n",
        "      <td>   Joshua</td>\n",
        "      <td> P.O. Box 425, 6462 Arcu Rd.</td>\n",
        "      <td> Municipal District</td>\n",
        "      <td>  -51.34642, 80.32145</td>\n",
        "      <td>              Mauris Sapien Cursus Corp.</td>\n",
        "      <td>         lorem@ornarelectusante.net</td>\n",
        "    </tr>\n",
        "    <tr>\n",
        "      <th>4</th>\n",
        "      <td> Zephania</td>\n",
        "      <td>                 655 Et, St.</td>\n",
        "      <td>           Couillet</td>\n",
        "      <td>  29.96525, 124.18391</td>\n",
        "      <td>                Odio Semper Cursus Corp.</td>\n",
        "      <td>                         metus@a.ca</td>\n",
        "    </tr>\n",
        "  </tbody>\n",
        "</table>\n",
        "</div>"
       ],
       "metadata": {},
       "output_type": "pyout",
       "prompt_number": 11,
       "text": [
        "      Names                      Streets                Town  \\\n",
        "0   Stephen      Ap #389-3365 Risus, St.            Lelystad   \n",
        "1   Kenneth         120-6483 Ligula. Ave           Labrecque   \n",
        "2       Leo        Ap #727-2085 Eget Av.   Strathcona County   \n",
        "3    Joshua  P.O. Box 425, 6462 Arcu Rd.  Municipal District   \n",
        "4  Zephania                  655 Et, St.            Couillet   \n",
        "\n",
        "            Coordinates                              Corporation  \\\n",
        "0   51.91783, -47.01037  Consectetuer Rhoncus Nullam Corporation   \n",
        "1    -1.92625, 10.02451                            A Corporation   \n",
        "2  -17.31839, 137.99307                              Sed Limited   \n",
        "3   -51.34642, 80.32145               Mauris Sapien Cursus Corp.   \n",
        "4   29.96525, 124.18391                 Odio Semper Cursus Corp.   \n",
        "\n",
        "                                 mail  \n",
        "0  Suspendisse.sed@pedePraesenteu.org  \n",
        "1           orci@egetmollislectus.com  \n",
        "2                       Etiam@vel.org  \n",
        "3          lorem@ornarelectusante.net  \n",
        "4                          metus@a.ca  "
       ]
      }
     ],
     "prompt_number": 11
    },
    {
     "cell_type": "heading",
     "level": 2,
     "metadata": {},
     "source": [
      "6 Working with SQL and databases"
     ]
    },
    {
     "cell_type": "heading",
     "level": 3,
     "metadata": {},
     "source": [
      "6.1 Write SQL"
     ]
    },
    {
     "cell_type": "markdown",
     "metadata": {},
     "source": [
      "Let's store the DataFrame opened from excel in a database. We use SQLite, a database engine library suitable for storing data in a single-file database. 'Names' is the name we chose for the database table we are creating:"
     ]
    },
    {
     "cell_type": "code",
     "collapsed": false,
     "input": [
      "con = sqlite3.connect(\"temp.sql\")\n",
      "sqlfile = dfxl.to_sql('Names', con, flavor='sqlite')"
     ],
     "language": "python",
     "metadata": {},
     "outputs": [],
     "prompt_number": 12
    },
    {
     "cell_type": "heading",
     "level": 3,
     "metadata": {},
     "source": [
      "6.2 Import SQL"
     ]
    },
    {
     "cell_type": "code",
     "collapsed": false,
     "input": [
      "con = sqlite3.connect('temp.sql')\n",
      "with con:\n",
      "    sql = \"SELECT * FROM Names;\"\n",
      "    df = psql.read_sql(sql, con)\n",
      "    print df.shape"
     ],
     "language": "python",
     "metadata": {},
     "outputs": [
      {
       "output_type": "stream",
       "stream": "stdout",
       "text": [
        "(100, 7)\n"
       ]
      }
     ],
     "prompt_number": 13
    },
    {
     "cell_type": "code",
     "collapsed": false,
     "input": [
      "df.head()"
     ],
     "language": "python",
     "metadata": {},
     "outputs": [
      {
       "html": [
        "<div style=\"max-height:1000px;max-width:1500px;overflow:auto;\">\n",
        "<table border=\"1\" class=\"dataframe\">\n",
        "  <thead>\n",
        "    <tr style=\"text-align: right;\">\n",
        "      <th></th>\n",
        "      <th>index</th>\n",
        "      <th>Names</th>\n",
        "      <th>Streets</th>\n",
        "      <th>Town</th>\n",
        "      <th>Coordinates</th>\n",
        "      <th>Corporation</th>\n",
        "      <th>mail</th>\n",
        "    </tr>\n",
        "  </thead>\n",
        "  <tbody>\n",
        "    <tr>\n",
        "      <th>0</th>\n",
        "      <td> 0</td>\n",
        "      <td>  Stephen</td>\n",
        "      <td>     Ap #389-3365 Risus, St.</td>\n",
        "      <td>           Lelystad</td>\n",
        "      <td>  51.91783, -47.01037</td>\n",
        "      <td> Consectetuer Rhoncus Nullam Corporation</td>\n",
        "      <td> Suspendisse.sed@pedePraesenteu.org</td>\n",
        "    </tr>\n",
        "    <tr>\n",
        "      <th>1</th>\n",
        "      <td> 1</td>\n",
        "      <td>  Kenneth</td>\n",
        "      <td>        120-6483 Ligula. Ave</td>\n",
        "      <td>          Labrecque</td>\n",
        "      <td>   -1.92625, 10.02451</td>\n",
        "      <td>                           A Corporation</td>\n",
        "      <td>          orci@egetmollislectus.com</td>\n",
        "    </tr>\n",
        "    <tr>\n",
        "      <th>2</th>\n",
        "      <td> 2</td>\n",
        "      <td>      Leo</td>\n",
        "      <td>       Ap #727-2085 Eget Av.</td>\n",
        "      <td>  Strathcona County</td>\n",
        "      <td> -17.31839, 137.99307</td>\n",
        "      <td>                             Sed Limited</td>\n",
        "      <td>                      Etiam@vel.org</td>\n",
        "    </tr>\n",
        "    <tr>\n",
        "      <th>3</th>\n",
        "      <td> 3</td>\n",
        "      <td>   Joshua</td>\n",
        "      <td> P.O. Box 425, 6462 Arcu Rd.</td>\n",
        "      <td> Municipal District</td>\n",
        "      <td>  -51.34642, 80.32145</td>\n",
        "      <td>              Mauris Sapien Cursus Corp.</td>\n",
        "      <td>         lorem@ornarelectusante.net</td>\n",
        "    </tr>\n",
        "    <tr>\n",
        "      <th>4</th>\n",
        "      <td> 4</td>\n",
        "      <td> Zephania</td>\n",
        "      <td>                 655 Et, St.</td>\n",
        "      <td>           Couillet</td>\n",
        "      <td>  29.96525, 124.18391</td>\n",
        "      <td>                Odio Semper Cursus Corp.</td>\n",
        "      <td>                         metus@a.ca</td>\n",
        "    </tr>\n",
        "  </tbody>\n",
        "</table>\n",
        "</div>"
       ],
       "metadata": {},
       "output_type": "pyout",
       "prompt_number": 14,
       "text": [
        "   index     Names                      Streets                Town  \\\n",
        "0      0   Stephen      Ap #389-3365 Risus, St.            Lelystad   \n",
        "1      1   Kenneth         120-6483 Ligula. Ave           Labrecque   \n",
        "2      2       Leo        Ap #727-2085 Eget Av.   Strathcona County   \n",
        "3      3    Joshua  P.O. Box 425, 6462 Arcu Rd.  Municipal District   \n",
        "4      4  Zephania                  655 Et, St.            Couillet   \n",
        "\n",
        "            Coordinates                              Corporation  \\\n",
        "0   51.91783, -47.01037  Consectetuer Rhoncus Nullam Corporation   \n",
        "1    -1.92625, 10.02451                            A Corporation   \n",
        "2  -17.31839, 137.99307                              Sed Limited   \n",
        "3   -51.34642, 80.32145               Mauris Sapien Cursus Corp.   \n",
        "4   29.96525, 124.18391                 Odio Semper Cursus Corp.   \n",
        "\n",
        "                                 mail  \n",
        "0  Suspendisse.sed@pedePraesenteu.org  \n",
        "1           orci@egetmollislectus.com  \n",
        "2                       Etiam@vel.org  \n",
        "3          lorem@ornarelectusante.net  \n",
        "4                          metus@a.ca  "
       ]
      }
     ],
     "prompt_number": 14
    },
    {
     "cell_type": "code",
     "collapsed": false,
     "input": [
      "con.close()\n",
      "os.remove(\"temp.sql\")"
     ],
     "language": "python",
     "metadata": {},
     "outputs": [],
     "prompt_number": 15
    },
    {
     "cell_type": "heading",
     "level": 2,
     "metadata": {},
     "source": [
      "7 Working with HDF5"
     ]
    },
    {
     "cell_type": "heading",
     "level": 3,
     "metadata": {},
     "source": [
      "7.1 Storer format"
     ]
    },
    {
     "cell_type": "markdown",
     "metadata": {},
     "source": [
      "**HDFStore** is a dict-like object used by pandas to store datasets as **HDF5** files using the **PyTables** library. **HDF5** is a scientific hierarchical data format suitable for storing in a file very large and multi-dimensional data arrays. The **Storer** format stores fixed arrays, which are queryiable and must be retrieved in their entirety."
     ]
    },
    {
     "cell_type": "markdown",
     "metadata": {},
     "source": [
      "Add DataFrames to the HDFStore object:"
     ]
    },
    {
     "cell_type": "code",
     "collapsed": false,
     "input": [
      "samples_01 = 3e5\n",
      "samples_02 = 1e5\n",
      "idx1 = pd.date_range('1/1/2000 12:00:00', periods=samples_01, freq='50ms', tz='dateutil/Europe/Rome')\n",
      "idx2 = pd.date_range('1/1/2000 12:05:00', periods=samples_02, freq='100ms', tz='dateutil/Europe/Rome')\n",
      "randn = np.random.randn\n",
      "df1 = pd.DataFrame(randn(samples_01, 3), index=idx1, columns=['A', 'B', 'C'])\n",
      "df2 = pd.DataFrame(randn(samples_02, 4), index=idx2, columns=['A', 'B', 'C', 'D'])"
     ],
     "language": "python",
     "metadata": {},
     "outputs": [],
     "prompt_number": 16
    },
    {
     "cell_type": "code",
     "collapsed": false,
     "input": [
      "print 'Size of the Dataset: ', (df1.values.nbytes+df1.values.nbytes)/2**20, ' MB'"
     ],
     "language": "python",
     "metadata": {},
     "outputs": [
      {
       "output_type": "stream",
       "stream": "stdout",
       "text": [
        "Size of the Dataset:  13  MB\n"
       ]
      }
     ],
     "prompt_number": 17
    },
    {
     "cell_type": "code",
     "collapsed": false,
     "input": [
      "%%timeit\n",
      "store5_path =  os.path.join(os.path.curdir, \"temp\", \"store5.h5\")\n",
      "with pd.HDFStore(store5_path) as store:\n",
      "    store.put('storer/df1', df1)\n",
      "    store.put('storer/df2', df2)\n",
      "    store.put('to_remove', df2)"
     ],
     "language": "python",
     "metadata": {},
     "outputs": [
      {
       "output_type": "stream",
       "stream": "stdout",
       "text": [
        "10 loops, best of 3: 27.1 ms per loop\n"
       ]
      }
     ],
     "prompt_number": 18
    },
    {
     "cell_type": "markdown",
     "metadata": {},
     "source": [
      "Retrieve stored objects:"
     ]
    },
    {
     "cell_type": "code",
     "collapsed": false,
     "input": [
      "store5_path =  os.path.join(os.path.curdir, \"temp\", \"store5.h5\")\n",
      "with pd.get_store(store5_path) as store:\n",
      "    print store.keys()\n",
      "    df1_retrieved = store.get('storer/df1')\n",
      "    print df1_retrieved[1:3]\n",
      "    print df1[1:3]\n",
      "    print 'Check retrieved data equal to original data: '\n",
      "    print df1_retrieved[1:3]==(df1[1:3])"
     ],
     "language": "python",
     "metadata": {},
     "outputs": [
      {
       "output_type": "stream",
       "stream": "stdout",
       "text": [
        "['/', '/to_remove', '/storer/df1', '/storer/df2', '/table/df1_appended']\n",
        "                                         A         B         C\n",
        "2000-01-01 12:00:00.050000+01:00  0.930349 -0.798206 -0.580501\n",
        "2000-01-01 12:00:00.100000+01:00 -2.104900  0.342339  0.059897\n",
        "                                         A         B         C\n",
        "2000-01-01 12:00:00.050000+01:00  0.930349 -0.798206 -0.580501\n",
        "2000-01-01 12:00:00.100000+01:00 -2.104900  0.342339  0.059897\n",
        "Check retrieved data equal to original data: \n",
        "                                     A     B     C\n",
        "2000-01-01 12:00:00.050000+01:00  True  True  True\n",
        "2000-01-01 12:00:00.100000+01:00  True  True  True\n"
       ]
      }
     ],
     "prompt_number": 19
    },
    {
     "cell_type": "markdown",
     "metadata": {},
     "source": [
      "Delete objects:"
     ]
    },
    {
     "cell_type": "code",
     "collapsed": false,
     "input": [
      "store5_path =  os.path.join(os.path.curdir, \"temp\", \"store5.h5\")\n",
      "with pd.get_store(store5_path) as store:\n",
      "    try:\n",
      "        store.remove('to_remove')\n",
      "    except:\n",
      "        pass\n",
      "    print store"
     ],
     "language": "python",
     "metadata": {},
     "outputs": [
      {
       "output_type": "stream",
       "stream": "stdout",
       "text": [
        "<class 'pandas.io.pytables.HDFStore'>\n",
        "File path: .\\temp\\store5.h5\n",
        "/storer/df1                    frame        (shape->[300000,3])                                      \n",
        "/storer/df2                    frame        (shape->[100000,4])                                      \n",
        "/table/df1_appended            frame_table  (typ->appendable,nrows->49998,ncols->3,indexers->[index])\n"
       ]
      }
     ],
     "prompt_number": 20
    },
    {
     "cell_type": "heading",
     "level": 3,
     "metadata": {},
     "source": [
      "7.2 Table format"
     ]
    },
    {
     "cell_type": "markdown",
     "metadata": {},
     "source": [
      "The table format conceptually is shaped very much like a DataFrame and may be appended to in the same or other sessions. In addition, delete & query type operations are supported."
     ]
    },
    {
     "cell_type": "code",
     "collapsed": false,
     "input": [
      "store5_path =  os.path.join(os.path.curdir, \"temp\", \"store5.h5\")\n",
      "with pd.get_store(store5_path) as store:\n",
      "    # store.append creates a table automatically:\n",
      "    store.append('table/df1_appended', df1.ix[:10000])"
     ],
     "language": "python",
     "metadata": {},
     "outputs": [],
     "prompt_number": 21
    },
    {
     "cell_type": "code",
     "collapsed": false,
     "input": [
      "store5_path =  os.path.join(os.path.curdir, \"temp\", \"store5.h5\")\n",
      "with pd.get_store(store5_path) as store:\n",
      "    store.append('table/df1_appended', df1.ix[10001:20000])\n",
      "    store.append('table/df1_appended', df1.ix[20001:50000])"
     ],
     "language": "python",
     "metadata": {},
     "outputs": [],
     "prompt_number": 22
    },
    {
     "cell_type": "heading",
     "level": 3,
     "metadata": {},
     "source": [
      "7.3 Querying a Table"
     ]
    },
    {
     "cell_type": "markdown",
     "metadata": {},
     "source": [
      "Query the table using boolean expression with in-line function evaluation:"
     ]
    },
    {
     "cell_type": "code",
     "collapsed": false,
     "input": [
      "store5_path =  os.path.join(os.path.curdir, \"temp\", \"store5.h5\")\n",
      "with pd.get_store(store5_path) as store:\n",
      "    query01 = store.select('table/df1_appended',\n",
      "                           \"index>=Timestamp('2000-01-01 12:00:00.20') \\\n",
      "                           & index<Timestamp('2000-01-01 12:00:00.40') \\\n",
      "                           & columns=['A', 'B']\")\n",
      "query01"
     ],
     "language": "python",
     "metadata": {},
     "outputs": [
      {
       "html": [
        "<div style=\"max-height:1000px;max-width:1500px;overflow:auto;\">\n",
        "<table border=\"1\" class=\"dataframe\">\n",
        "  <thead>\n",
        "    <tr style=\"text-align: right;\">\n",
        "      <th></th>\n",
        "      <th>A</th>\n",
        "      <th>B</th>\n",
        "    </tr>\n",
        "  </thead>\n",
        "  <tbody>\n",
        "  </tbody>\n",
        "</table>\n",
        "</div>"
       ],
       "metadata": {},
       "output_type": "pyout",
       "prompt_number": 23,
       "text": [
        "Empty DataFrame\n",
        "Columns: [A, B]\n",
        "Index: []"
       ]
      }
     ],
     "prompt_number": 23
    },
    {
     "cell_type": "markdown",
     "metadata": {},
     "source": [
      "---\n",
      "\n",
      "Email **training [at ]add-for [dot] com** for more information and custom training programs."
     ]
    }
   ],
   "metadata": {}
  }
 ]
}