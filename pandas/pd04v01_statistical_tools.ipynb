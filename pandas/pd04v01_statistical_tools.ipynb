{
 "metadata": {
  "name": "",
  "signature": "sha256:5e5f0d5cae6a5d896fd306322f2d3a9f93b6584470c1f68ffa1dddf88ff3a824"
 },
 "nbformat": 3,
 "nbformat_minor": 0,
 "worksheets": [
  {
   "cells": [
    {
     "cell_type": "heading",
     "level": 1,
     "metadata": {},
     "source": [
      "Statistical tools"
     ]
    },
    {
     "cell_type": "markdown",
     "metadata": {},
     "source": [
      "* [1 Percent change](#1-Percent-change)\n",
      "* [2 Covariance](#2-Covariance)\n",
      "* [3 Correlation](#3-Correlation)\n",
      "* [4 Rolling moments and Binary rolling moments](#4-Rolling-moments-and-Binary-rolling-moments)\n",
      "* [5 A pratical example: Return indexes and cumulative returns](#5-A-pratical-example:-Return-indexes-and-cumulative-returns)\n"
     ]
    },
    {
     "cell_type": "markdown",
     "metadata": {},
     "source": [
      "With this tutorial we are going to see some of the statistical and computational tools offered by `pandas`."
     ]
    },
    {
     "cell_type": "code",
     "collapsed": false,
     "input": [
      "import os\n",
      "import datetime\n",
      "import scipy.io\n",
      "import numpy as np\n",
      "import pandas as pd\n",
      "from pandas.io.data import DataReader, read_csv\n",
      "import matplotlib.pyplot as plt\n",
      "from bokeh.plotting import *\n",
      "from IPython.display import display, HTML\n",
      "from addutils import css_notebook, side_by_side2\n",
      "css_notebook()"
     ],
     "language": "python",
     "metadata": {},
     "outputs": []
    },
    {
     "cell_type": "code",
     "collapsed": false,
     "input": [
      "%matplotlib inline"
     ],
     "language": "python",
     "metadata": {},
     "outputs": []
    },
    {
     "cell_type": "heading",
     "level": 2,
     "metadata": {},
     "source": [
      "1 Percent change"
     ]
    },
    {
     "cell_type": "markdown",
     "metadata": {},
     "source": [
      "Given a `pandas.Series` the method `pct_change` returns a new `pandas.Series` object containing percent change over a given number of periods."
     ]
    },
    {
     "cell_type": "code",
     "collapsed": false,
     "input": [
      "s1 = pd.Series(range(10, 18) + np.random.randn(8) / 10)\n",
      "\n",
      "pct_ch_1d = s1.pct_change() * 100\n",
      "pct_ch_3d = s1.pct_change(periods=3) * 100\n",
      "\n",
      "HTML(side_by_side2(s1, pct_ch_1d, pct_ch_3d))"
     ],
     "language": "python",
     "metadata": {},
     "outputs": []
    },
    {
     "cell_type": "heading",
     "level": 2,
     "metadata": {},
     "source": [
      "2 Covariance"
     ]
    },
    {
     "cell_type": "markdown",
     "metadata": {},
     "source": [
      "Given two `pandas.Series` the method `cov` computes covariance between them, excluding missing values."
     ]
    },
    {
     "cell_type": "code",
     "collapsed": false,
     "input": [
      "s1 = pd.util.testing.makeTimeSeries(7)\n",
      "s2 = s1 + np.random.randn(len(s1)) / 10\n",
      "HTML(side_by_side2(s1, s2))"
     ],
     "language": "python",
     "metadata": {},
     "outputs": []
    },
    {
     "cell_type": "code",
     "collapsed": false,
     "input": [
      "s1.cov(s2)"
     ],
     "language": "python",
     "metadata": {},
     "outputs": []
    },
    {
     "cell_type": "markdown",
     "metadata": {},
     "source": [
      "It is also possibile to compute pairwise covariance of a `pandas.DataFrame` columns using `pandas.DataFrame.cov` method. Here we use the module `pandas.util.testing` in order to generate random data easily:"
     ]
    },
    {
     "cell_type": "code",
     "collapsed": false,
     "input": [
      "d1 = pd.util.testing.makeTimeDataFrame()\n",
      "print d1.head()\n",
      "print d1.cov()"
     ],
     "language": "python",
     "metadata": {},
     "outputs": []
    },
    {
     "cell_type": "heading",
     "level": 2,
     "metadata": {},
     "source": [
      "3 Correlation"
     ]
    },
    {
     "cell_type": "markdown",
     "metadata": {},
     "source": [
      "`pandas.Series.corr` allows to compute correlation between two `pandas.Series`. By the `method` paramether it's possible to choose between:\n",
      "\n",
      "* Pearson\n",
      "* Kendall\n",
      "* Spearman"
     ]
    },
    {
     "cell_type": "code",
     "collapsed": false,
     "input": [
      "s1.corr(s2, method='pearson')\n"
     ],
     "language": "python",
     "metadata": {},
     "outputs": []
    },
    {
     "cell_type": "markdown",
     "metadata": {},
     "source": [
      "Like we just seen for covariance, it is possibile to call `pandas.DataFrame.corr` to obtain pairwise correlation of columns over a `pandas.DataFrame`"
     ]
    },
    {
     "cell_type": "code",
     "collapsed": false,
     "input": [
      "d1.corr()"
     ],
     "language": "python",
     "metadata": {},
     "outputs": []
    },
    {
     "cell_type": "heading",
     "level": 2,
     "metadata": {},
     "source": [
      "4 Rolling moments and Binary rolling moments"
     ]
    },
    {
     "cell_type": "markdown",
     "metadata": {},
     "source": [
      "`pandas` provides also a lot of methods for calculating rolling moments."
     ]
    },
    {
     "cell_type": "code",
     "collapsed": false,
     "input": [
      "[n for n in dir(pd) if n.startswith('rolling')]"
     ],
     "language": "python",
     "metadata": {},
     "outputs": []
    },
    {
     "cell_type": "markdown",
     "metadata": {},
     "source": [
      "Let's see some examples:"
     ]
    },
    {
     "cell_type": "code",
     "collapsed": false,
     "input": [
      "s3 = pd.Series(np.random.randn(1000), index=pd.date_range('1/1/2000', periods=1000))\n",
      "s3 = s3.cumsum()\n",
      "s3_max = pd.rolling_max(s3, 60)\n",
      "s3_mean = pd.rolling_mean(s3, 60)\n",
      "s3_min = pd.rolling_min(s3, 60)\n",
      "data = {'cumsum':s3, 'max':s3_max, 'mean':s3_mean, 'min':s3_min}\n",
      "df = pd.DataFrame(data)\n",
      "df.tail()"
     ],
     "language": "python",
     "metadata": {},
     "outputs": []
    },
    {
     "cell_type": "code",
     "collapsed": false,
     "input": [
      "output_notebook()"
     ],
     "language": "python",
     "metadata": {},
     "outputs": []
    },
    {
     "cell_type": "code",
     "collapsed": false,
     "input": [
      "figure(x_axis_type = \"datetime\",\n",
      "       tools=\"pan,box_zoom,reset\", title = 'Rolling Moments',\n",
      "       plot_width=800, plot_height=400)\n",
      "hold(True)\n",
      "line(df.index, df['cumsum'], color='cadetblue', legend='Cumulative Sum')\n",
      "line(df.index, df['max'], color='mediumorchid', legend='Max')\n",
      "line(df.index, df['min'], color='mediumpurple', legend='Min')\n",
      "line(df.index, df['mean'], color='navy', legend='Min')\n",
      "hold(False)\n",
      "show()"
     ],
     "language": "python",
     "metadata": {},
     "outputs": []
    },
    {
     "cell_type": "markdown",
     "metadata": {},
     "source": [
      "`pandas.Series.cumsum` returns a new `pandas.Series` containing the cumulative sum of the given values."
     ]
    },
    {
     "cell_type": "code",
     "collapsed": false,
     "input": [
      "s4 = s3 + np.random.randn(len(s3))\n",
      "rollc = pd.rolling_corr(s3, s4, window=10)\n",
      "data2 = {'cumsum':s3, 'similar':s4, 'rolling correlation':rollc}\n",
      "df2 = pd.DataFrame(data2)"
     ],
     "language": "python",
     "metadata": {},
     "outputs": []
    },
    {
     "cell_type": "code",
     "collapsed": false,
     "input": [
      "figure(x_axis_type = \"datetime\", title = 'Rolling Correlation',\n",
      "       plot_width=800, plot_height=400)\n",
      "hold(True)\n",
      "line(df2.index, df2['cumsum'], color='cadetblue', legend='Cumulative Sum')\n",
      "line(df2.index, df2['similar'], color='mediumorchid', legend='Similar')\n",
      "line(df2.index, df2['rolling correlation'], color='navy', legend='Rolling Corr.')\n",
      "legend().orientation = \"bottom_right\"\n",
      "hold(False)\n",
      "show()"
     ],
     "language": "python",
     "metadata": {},
     "outputs": []
    },
    {
     "cell_type": "heading",
     "level": 2,
     "metadata": {},
     "source": [
      "5 A pratical example: Return indexes and cumulative returns"
     ]
    },
    {
     "cell_type": "code",
     "collapsed": false,
     "input": [
      "p03_AAPL_path = os.path.join(os.path.curdir, \"example_data\", \"p03_AAPL.txt\")\n",
      "AAPL = read_csv(p03_AAPL_path, index_col='Date', parse_dates=True)\n",
      "price = AAPL['Adj Close']\n",
      "display(price.tail())"
     ],
     "language": "python",
     "metadata": {},
     "outputs": []
    },
    {
     "cell_type": "markdown",
     "metadata": {},
     "source": [
      "`pandas.Series.tail` returns the last n rows of a given `pandas.Series`."
     ]
    },
    {
     "cell_type": "code",
     "collapsed": false,
     "input": [
      "price['2011-10-03'] / price['2011-3-01'] - 1\n",
      "returns = price.pct_change()\n",
      "ret_index = (1 + returns).cumprod()\n",
      "ret_index[0] = 1\n",
      "monthly_returns = ret_index.resample('BM', how='last').pct_change()"
     ],
     "language": "python",
     "metadata": {},
     "outputs": []
    },
    {
     "cell_type": "code",
     "collapsed": false,
     "input": [
      "figure(x_axis_type = 'datetime', title = 'Montly Returns', plot_width=800, plot_height=400)\n",
      "line(monthly_returns.index, monthly_returns)\n",
      "show()"
     ],
     "language": "python",
     "metadata": {},
     "outputs": []
    },
    {
     "cell_type": "markdown",
     "metadata": {},
     "source": [
      "---\n",
      "\n",
      "Email **training [at ]add-for [dot] com** for more information and custom training programs."
     ]
    }
   ],
   "metadata": {}
  }
 ]
}