{
 "metadata": {
  "name": "",
  "signature": "sha256:c018d9e189394708770ac21d2ba1451486689476e4a1252293f1d93afc839daa"
 },
 "nbformat": 3,
 "nbformat_minor": 0,
 "worksheets": [
  {
   "cells": [
    {
     "cell_type": "heading",
     "level": 1,
     "metadata": {},
     "source": [
      "Object Oriented Programming in Python"
     ]
    },
    {
     "cell_type": "markdown",
     "metadata": {},
     "source": [
      "* [1 How to define classes](#1-How-to-define-classes)\n",
      "    * [1.1 Creating a class](#1.1-Creating-a-class)\n",
      "    * [1.2 Methods](#1.2-Methods)\n",
      "    * [1.3 Bad practice](#1.3-Bad-practice)\n",
      "    * [1.4 Protect your abstraction](#1.4-Protect-your-abstraction)\n",
      "* [2 Inheritance](#2-Inheritance)\n",
      "    * [2.1 Overriding methods](#2.1-Overriding-methods)\n",
      "* [3 Encapsulation](#3-Encapsulation)\n",
      "    * [3.1 Composition](#3.1-Composition)\n",
      "    * [3.2 Dynamic Extension](#3.2-Dynamic-Extension)\n",
      "        * [3.2.1 Example](#3.2.1-Example)\n",
      "* [4 Polymorphism and DuckTyping](#4-Polymorphism-and-DuckTyping)\n",
      "* [5 Legacy style classes](#5-Legacy-style-classes)\n",
      "* [6 How long does a class has to be?](#6-How-long-does-a-class-has-to-be?)\n"
     ]
    },
    {
     "cell_type": "markdown",
     "metadata": {},
     "source": [
      "__Object Oriented (OOP)__ is a programming paradigm that allows abstraction through the concept of interacting entities.\n",
      " This is usally opposed to a more conventional model, called procedural, in which programs are organized as a sequence of commands (statements) to perform.\n",
      " We can think an object as an entity that resides in memory, has a states and it's able to perform some actions. \n",
      " \n",
      " More formally objects are entities that represent **instances** of a general abstract concept called **class**. In `Python` the variables defining an object state are called `attributes` and the possible actions are called `methods`.\n",
      "\n",
      "In Python everything is an object also classes and functions."
     ]
    },
    {
     "cell_type": "code",
     "collapsed": false,
     "input": [
      "from addutils import css_notebook\n",
      "css_notebook()"
     ],
     "language": "python",
     "metadata": {},
     "outputs": [
      {
       "html": [
        "<style>\n",
        "    @font-face {\n",
        "        font-family: \"Computer Modern\";\n",
        "        src: url('http://mirrors.ctan.org/fonts/cm-unicode/fonts/otf/cmunss.otf');\n",
        "    }\n",
        "    div.cell{\n",
        "        width:900px;\n",
        "        margin-left:0% !important;\n",
        "        margin-right:0%;\n",
        "    }\n",
        "\n",
        "\tcode{\n",
        "\t\tfont-size:10pt\n",
        "\t}\n",
        "\n",
        "    h1 {\n",
        "        font-family: Tahoma, sans-serif;\n",
        "\t\tcolor: rgb( 10, 88, 126 );\n",
        "\t\tfont-size:28pt;\n",
        "    }\n",
        "\th2 {\n",
        "        font-family: Tahoma, sans-serif;\n",
        "\t\tcolor: rgb( 10, 88, 126 );\n",
        "\t\tfont-size:24pt;\n",
        "    }\n",
        "\th3 {\n",
        "        font-family: Tahoma, sans-serif;\n",
        "\t\tcolor: rgb( 10, 88, 126 );\n",
        "\t\tfont-size:20pt;\n",
        "    }\n",
        "    h4 {\n",
        "\t\tfont-family: Tahoma, sans-serif;\n",
        "\t\tcolor: rgb( 10, 88, 126 );\n",
        "\t\tfont-size:18pt;\n",
        "        margin-top:12px;\n",
        "        margin-bottom: 3px;\n",
        "       }\n",
        "\n",
        "\tul {\n",
        "\t\tfont-family: Tahoma, sans-serif;\n",
        "\t\tcolor: rgb( 90, 90, 90 );\n",
        "\t\tfont-size:11pt;\n",
        "\t\tline-height: 185%;\n",
        "\t\t}\n",
        "\n",
        "\tp {\n",
        "\t\tfont-family: Tahoma, sans-serif;\n",
        "\t\tcolor: rgb( 90, 90, 90 );\n",
        "\t\tfont-size:11pt;\n",
        "\t\t}\n",
        "\n",
        "\tstrong {\n",
        "\t\tfont-family: Tahoma, sans-serif;\n",
        "\t\tcolor: rgb( 30, 30, 30 );\n",
        "\t\tfont-size:11pt;\n",
        "\t\t}\n",
        "\n",
        "\ta:link {\n",
        "\t\tfont-family: Tahoma, sans-serif;\n",
        "\t\tcolor: rgb( 10, 88, 126 );\n",
        "\t\tfont-size:11pt;\n",
        "\t\t}\n",
        "\n",
        "\ta:visited {\n",
        "\t\tcolor:rgb( 10, 88, 126 );\n",
        "\t}\n",
        "\n",
        "    div.text_cell_render{\n",
        "        font-family: Helvetica, Courier, Computer Modern, \"Helvetica Neue\", Arial, Geneva, sans-serif;\n",
        "\t\tcolor: rgb( 84, 84, 84 );\n",
        "\t\tfont-size:11pt;\n",
        "        line-height: 125%;\n",
        "        font-size: 100%;\n",
        "        width:800px;\n",
        "        margin-left:auto;\n",
        "        margin-right:auto;\n",
        "    }\n",
        "    .CodeMirror{\n",
        "            font-family: Courier, \"Source Code Pro\", source-code-pro,Consolas, monospace;\n",
        "    }\n",
        "\n",
        "    .text_cell_render h5 {\n",
        "        font-weight: 300;\n",
        "        font-size: 11pt;\n",
        "        color: rgb( 48, 48, 48 );\n",
        "        font-style: italic;\n",
        "        margin-bottom: .5em;\n",
        "        margin-top: 0.5em;\n",
        "        display: block;\n",
        "    }\n",
        "\n",
        "    .warning{\n",
        "        color: rgb( 240, 20, 20 )\n",
        "        }\n",
        ".rendered_html td\n",
        "{\n",
        "text-align: right;\n",
        "}\n",
        "\n",
        "</style>\n",
        "<script>\n",
        "    MathJax.Hub.Config({\n",
        "                        TeX: {\n",
        "                           extensions: [\"AMSmath.js\"]\n",
        "                           },\n",
        "                displayAlign: 'center', // Change this to 'center' to center equations.\n",
        "                \"HTML-CSS\": {\n",
        "                    styles: {'.MathJax_Display': {\"margin\": 4}}\n",
        "                }\n",
        "        });\n",
        "</script>\n"
       ],
       "metadata": {},
       "output_type": "pyout",
       "prompt_number": 1,
       "text": [
        "<IPython.core.display.HTML at 0x36162b0>"
       ]
      }
     ],
     "prompt_number": 1
    },
    {
     "cell_type": "heading",
     "level": 2,
     "metadata": {},
     "source": [
      "1 How to define classes"
     ]
    },
    {
     "cell_type": "heading",
     "level": 3,
     "metadata": {},
     "source": [
      "1.1 Creating a class"
     ]
    },
    {
     "cell_type": "markdown",
     "metadata": {},
     "source": [
      "Suppose we want to create a class, named Person, as a prototype, a sort of template for any number of 'Person' objects (instances)."
     ]
    },
    {
     "cell_type": "markdown",
     "metadata": {},
     "source": [
      "The python syntax to define a class is the following:\n",
      "\n",
      "    class ClassName(base_classes):\n",
      "        statements\n",
      "\n",
      "        "
     ]
    },
    {
     "cell_type": "markdown",
     "metadata": {},
     "source": [
      "Class names should always be uppercase (it's a naming convention)."
     ]
    },
    {
     "cell_type": "markdown",
     "metadata": {},
     "source": [
      "Say we need to model a Person as:\n",
      "\n",
      "* Name\n",
      "* Surname  \n",
      "* Age  "
     ]
    },
    {
     "cell_type": "code",
     "collapsed": false,
     "input": [
      "class Person(object):\n",
      "    pass\n",
      "\n",
      "john_doe = Person()\n",
      "john_doe.name = \"Alec\"\n",
      "john_doe.surname = \"Baldwin\"\n",
      "john_doe.year_of_birth = 1958\n",
      "\n",
      "\n",
      "print john_doe\n",
      "print \"%s %s was born in %d.\" \\\n",
      "       % (john_doe.name, john_doe.surname, john_doe.year_of_birth)\n"
     ],
     "language": "python",
     "metadata": {},
     "outputs": [
      {
       "output_type": "stream",
       "stream": "stdout",
       "text": [
        "<__main__.Person object at 0x0000000009F265F8>\n",
        "Alec Baldwin was born in 1958.\n"
       ]
      }
     ],
     "prompt_number": 2
    },
    {
     "cell_type": "markdown",
     "metadata": {},
     "source": [
      "The preceding example defines an empty class (i.e. the class doesn't have a state) called _Person_ then creates a _Person_ instance called _john_doe_ and adds three attributes to _john_doe_. We see that we can access objects attributes using the __. dot __ operator.\n",
      "\n",
      "This isn't a raccomended style because classes should describe omogeneous entities. A way to do so is the following:"
     ]
    },
    {
     "cell_type": "code",
     "collapsed": false,
     "input": [
      "class Person(object):\n",
      "    def __init__(self, name, surname, year_of_birth):\n",
      "        self.name = name\n",
      "        self.surname = surname\n",
      "        self.year_of_birth = year_of_birth"
     ],
     "language": "python",
     "metadata": {},
     "outputs": [],
     "prompt_number": 3
    },
    {
     "cell_type": "markdown",
     "metadata": {},
     "source": [
      "    __init__(self, ...)\n",
      "Is a special _Python_ method that is automatically called after an object construction, its purpose is to initialize every object state. The first argument (by convention) __self__ is automatically passed either and refers to the object itself.\n",
      "\n",
      "In the preceding example `__init__` adds three attributes to every object that is instantiated. So the class is actually describing each object's state.\n"
     ]
    },
    {
     "cell_type": "markdown",
     "metadata": {},
     "source": [
      "A class isn't something which we can directly manipulate, we need to create an instance of the class:"
     ]
    },
    {
     "cell_type": "code",
     "collapsed": false,
     "input": [
      "alec = Person(\"Alec\", \"Baldwin\", 1958)\n",
      "print alec\n",
      "print \"%s %s was born in %d.\"\\\n",
      "        % (alec.name, alec.surname, alec.year_of_birth)\n"
     ],
     "language": "python",
     "metadata": {},
     "outputs": [
      {
       "output_type": "stream",
       "stream": "stdout",
       "text": [
        "<__main__.Person object at 0x0000000009F264A8>\n",
        "Alec Baldwin was born in 1958.\n"
       ]
      }
     ],
     "prompt_number": 4
    },
    {
     "cell_type": "markdown",
     "metadata": {},
     "source": [
      "\n",
      "We have just created an instance of the Person class, bound to the variable `alec`. "
     ]
    },
    {
     "cell_type": "heading",
     "level": 3,
     "metadata": {},
     "source": [
      "1.2 Methods"
     ]
    },
    {
     "cell_type": "code",
     "collapsed": false,
     "input": [
      "class Person(object):\n",
      "    def __init__(self, name, surname, year_of_birth):\n",
      "        self.name = name\n",
      "        self.surname = surname\n",
      "        self.year_of_birth = year_of_birth\n",
      "    \n",
      "    def age(self, current_year):\n",
      "        return current_year - self.year_of_birth\n",
      "    \n",
      "    def __str__(self):\n",
      "        return \"%s %s was born in %d .\" % (self.name, self.surname, self.year_of_birth)\n",
      "    \n",
      "alec = Person(\"Alec\", \"Baldwin\", 1958)\n",
      "print alec\n",
      "print alec.age(2014)\n"
     ],
     "language": "python",
     "metadata": {},
     "outputs": [
      {
       "output_type": "stream",
       "stream": "stdout",
       "text": [
        "Alec Baldwin was born in 1958 .\n",
        "56\n"
       ]
      }
     ],
     "prompt_number": 5
    },
    {
     "cell_type": "markdown",
     "metadata": {},
     "source": [
      "We defined two more methods `age` and  `__str__`. The latter is once again a special method that is called by Python when the object has to be represented as a string (e.g. when has to be printed). If the `__str__` method isn't defined the **print** command shows the type of object and its address in memory. We can see that in order to call a method we use the same syntax for attributes (**instance_name.instance _method**)."
     ]
    },
    {
     "cell_type": "heading",
     "level": 3,
     "metadata": {},
     "source": [
      "1.3 Bad practice"
     ]
    },
    {
     "cell_type": "markdown",
     "metadata": {},
     "source": [
      "It is possible to create a class without the `__init__` method, but this isn't a raccomended style because classes should describe omogeneous entities."
     ]
    },
    {
     "cell_type": "code",
     "collapsed": false,
     "input": [
      "class Person(object):\n",
      "  \n",
      "    def set_name(self, name):\n",
      "        self.name = name\n",
      "        \n",
      "    def set_surname(self, surname):\n",
      "        self.surname = surname\n",
      "        \n",
      "    def set_year_of_birth(self, year_of_birth):\n",
      "        self.year_of_birth = year_of_birth\n",
      "        \n",
      "    def age(self, current_year):\n",
      "        return current_year - self.year_of_birth\n",
      "    \n",
      "    def __str__(self):\n",
      "        return \"%s %s was born in %d .\" \\\n",
      "                % (self.name, self.surname, self.year_of_birth)\n",
      "    "
     ],
     "language": "python",
     "metadata": {},
     "outputs": [],
     "prompt_number": 6
    },
    {
     "cell_type": "markdown",
     "metadata": {},
     "source": [
      "In this case an empty instance of the class Person is created, and no attributes have been initialized while instantiating:"
     ]
    },
    {
     "cell_type": "code",
     "collapsed": false,
     "input": [
      "president = Person()"
     ],
     "language": "python",
     "metadata": {},
     "outputs": [],
     "prompt_number": 7
    },
    {
     "cell_type": "code",
     "collapsed": false,
     "input": [
      "# This code will return an attribute error:\n",
      "print president.name"
     ],
     "language": "python",
     "metadata": {},
     "outputs": [
      {
       "ename": "AttributeError",
       "evalue": "'Person' object has no attribute 'name'",
       "output_type": "pyerr",
       "traceback": [
        "\u001b[1;31m---------------------------------------------------------------------------\u001b[0m\n\u001b[1;31mAttributeError\u001b[0m                            Traceback (most recent call last)",
        "\u001b[1;32m<ipython-input-8-8787779c5c5a>\u001b[0m in \u001b[0;36m<module>\u001b[1;34m()\u001b[0m\n\u001b[0;32m      1\u001b[0m \u001b[1;31m# This code will return an attribute error:\u001b[0m\u001b[1;33m\u001b[0m\u001b[1;33m\u001b[0m\u001b[0m\n\u001b[1;32m----> 2\u001b[1;33m \u001b[1;32mprint\u001b[0m \u001b[0mpresident\u001b[0m\u001b[1;33m.\u001b[0m\u001b[0mname\u001b[0m\u001b[1;33m\u001b[0m\u001b[0m\n\u001b[0m",
        "\u001b[1;31mAttributeError\u001b[0m: 'Person' object has no attribute 'name'"
       ]
      }
     ],
     "prompt_number": 8
    },
    {
     "cell_type": "markdown",
     "metadata": {},
     "source": [
      "This raises an Attribute Error... We need to set the attributes:"
     ]
    },
    {
     "cell_type": "code",
     "collapsed": false,
     "input": [
      "president.set_name('John')\n",
      "president.set_surname('Doe')\n",
      "president.set_year_of_birth(1940)"
     ],
     "language": "python",
     "metadata": {},
     "outputs": [],
     "prompt_number": 9
    },
    {
     "cell_type": "code",
     "collapsed": false,
     "input": [
      "print 'Mr', president.name, president.surname,\\\n",
      "       'is the president, and he is very old. He is',\\\n",
      "       president.age(2014)"
     ],
     "language": "python",
     "metadata": {},
     "outputs": [
      {
       "output_type": "stream",
       "stream": "stdout",
       "text": [
        "Mr John Doe is the president, and he is very old. He is 74\n"
       ]
      }
     ],
     "prompt_number": 10
    },
    {
     "cell_type": "heading",
     "level": 3,
     "metadata": {},
     "source": [
      "1.4 Protect your abstraction"
     ]
    },
    {
     "cell_type": "markdown",
     "metadata": {},
     "source": [
      "Since objects are a powerfull mean of abstraction they shouldn't reveal internal implementation detail, hence instance attributes shouldn't be accessible by the end user of an object.\n",
      "Python doesn't have a strict mechanism to protect objects attributes, but official guidelines suggest that a variable that has an underscore `_` prefix should be treated as private.\n",
      "Moreover prepending two underscores to a variable name makes the intepreter mangle a little the variable name."
     ]
    },
    {
     "cell_type": "code",
     "collapsed": false,
     "input": [
      "class Person(object):\n",
      "    def __init__(self, name, surname, year_of_birth):\n",
      "        self._name = name\n",
      "        self._surname = surname\n",
      "        self._year_of_birth = year_of_birth\n",
      "    \n",
      "    def age(self, current_year):\n",
      "        return current_year - self._year_of_birth\n",
      "    \n",
      "    def __str__(self):\n",
      "        return \"%s %s and was born %d.\" \\\n",
      "                % (self._name, self._surname, self._year_of_birth)\n",
      "    \n",
      "alec = Person(\"Alec\", \"Baldwin\", 1958)\n",
      "print alec\n",
      "print alec.age(2014)"
     ],
     "language": "python",
     "metadata": {},
     "outputs": [
      {
       "output_type": "stream",
       "stream": "stdout",
       "text": [
        "Alec Baldwin and was born 1958.\n",
        "56\n"
       ]
      }
     ],
     "prompt_number": 11
    },
    {
     "cell_type": "code",
     "collapsed": false,
     "input": [
      "class Person(object):\n",
      "    def __init__(self, name, surname, year_of_birth):\n",
      "        self.__name = name\n",
      "        self.__surname = surname\n",
      "        self.__year_of_birth = year_of_birth\n",
      "    \n",
      "    def age(self, current_year):\n",
      "        return current_year - self.__year_of_birth\n",
      "    \n",
      "    def __str__(self):\n",
      "        return \"%s %s and was born %d.\" \\\n",
      "                % (self.__name, self.__surname, self.__year_of_birth)\n",
      "    \n",
      "alec = Person(\"Alec\", \"Baldwin\", 1958)\n",
      "print alec.__dict__.keys()"
     ],
     "language": "python",
     "metadata": {},
     "outputs": [
      {
       "output_type": "stream",
       "stream": "stdout",
       "text": [
        "['_Person__name', '_Person__surname', '_Person__year_of_birth']\n"
       ]
      }
     ],
     "prompt_number": 12
    },
    {
     "cell_type": "markdown",
     "metadata": {},
     "source": [
      "`__dict__` is a special attribute that is a dictionary containing each attribute of an object. We can see that prepending two underscores every key has `_ClassName__` prepended."
     ]
    },
    {
     "cell_type": "heading",
     "level": 2,
     "metadata": {},
     "source": [
      "2 Inheritance"
     ]
    },
    {
     "cell_type": "markdown",
     "metadata": {},
     "source": [
      "Once a class is defined it models a concept. Often is usefull to extend a class behavior to model a less general concept. Say we need to model a Student, but we know that every student is also a Person so we shouldn't model the Person again but inherit from it instead."
     ]
    },
    {
     "cell_type": "code",
     "collapsed": false,
     "input": [
      "class Student(Person):\n",
      "    def __init__(self, student_id, *args, **kwargs):\n",
      "        super(Student, self).__init__(*args, **kwargs)\n",
      "        self._student_id = student_id\n",
      "        \n",
      "charlie = Student(01, 'Charlie', 'Brown', 2006)\n",
      "print charlie\n",
      "print type(charlie)\n",
      "print isinstance(charlie, Person)\n",
      "print isinstance(charlie, object)\n"
     ],
     "language": "python",
     "metadata": {},
     "outputs": [
      {
       "output_type": "stream",
       "stream": "stdout",
       "text": [
        "Charlie Brown and was born 2006.\n",
        "<class '__main__.Student'>\n",
        "True\n",
        "True\n"
       ]
      }
     ],
     "prompt_number": 13
    },
    {
     "cell_type": "markdown",
     "metadata": {},
     "source": [
      "Charlie now has the same behavior of a Person, but his state has also a student ID. Person is one of the base classes of Student and Student is one of the sub classes of Person. Be aware that a subclass knows about its superclasses but the converse isn't true.\n",
      "\n",
      "A sub class doesn't only inherits from its base classes, but from its base classes base classes too, forming an inheritance tree that starts from object (every class base class).\n",
      "\n",
      "    super(Class, instance)\n",
      "    \n",
      "is a function that returns a proxy-object that delegates method calls to a parent or sibling class of type.\n",
      "So we used it to access Person's `__init__`."
     ]
    },
    {
     "cell_type": "heading",
     "level": 3,
     "metadata": {},
     "source": [
      "2.1 Overriding methods"
     ]
    },
    {
     "cell_type": "markdown",
     "metadata": {},
     "source": [
      "Inheritance allows to add new methods to a subclass, but often is usefull to change the behavior of a method defined in the superclass. To override a method just define it again."
     ]
    },
    {
     "cell_type": "code",
     "collapsed": false,
     "input": [
      "class Student(Person):\n",
      "    def __init__(self, student_id, *args, **kwargs):\n",
      "        super(Student, self).__init__(*args, **kwargs)\n",
      "        self._student_id = student_id\n",
      "        \n",
      "    def __str__(self):\n",
      "        return super(Student, self).__str__() + \" And has ID: %d\" % self._student_id\n",
      "        \n",
      "charlie = Student(01, 'Charlie', 'Brown', 2006)\n",
      "print charlie\n"
     ],
     "language": "python",
     "metadata": {},
     "outputs": [
      {
       "output_type": "stream",
       "stream": "stdout",
       "text": [
        "Charlie Brown and was born 2006. And has ID: 1\n"
       ]
      }
     ],
     "prompt_number": 14
    },
    {
     "cell_type": "markdown",
     "metadata": {},
     "source": [
      "We defined `__str__` again overriding the one wrote in Person, but we wanted to extend it, so we used super to achieve our goal."
     ]
    },
    {
     "cell_type": "heading",
     "level": 2,
     "metadata": {},
     "source": [
      "3 Encapsulation"
     ]
    },
    {
     "cell_type": "markdown",
     "metadata": {},
     "source": [
      "Another powerful way to extend a class is called __encapsulation__ and consists on wrapping an object with a second one.\n",
      "There are two main reasons to use encapsulation:\n",
      "* Composition\n",
      "* Dynamic Extension\n"
     ]
    },
    {
     "cell_type": "heading",
     "level": 3,
     "metadata": {},
     "source": [
      "3.1 Composition"
     ]
    },
    {
     "cell_type": "markdown",
     "metadata": {},
     "source": [
      "The abstraction process relies on creating a simplified model that remove useless details from a concept. In order to be simplified a model should be described in terms of other simpler concepts.\n",
      "For example we can say that a car is composed by:\n",
      "* Tyres\n",
      "* Engine\n",
      "* Body\n",
      "\n",
      "And break down each one of this elements in simpler parts until we reach primitive data."
     ]
    },
    {
     "cell_type": "code",
     "collapsed": false,
     "input": [
      "class Tyres(object):\n",
      "    def __init__(self, branch, belted_bias, opt_pressure):\n",
      "        self.branch = branch\n",
      "        self.belted_bias = belted_bias\n",
      "        self.opt_pressure = opt_pressure\n",
      "        \n",
      "    def __str__(self):\n",
      "        return \"Tyres: \\n \\tBranch: \" + self.branch + \\\n",
      "               \"\\n \\tBelted-bias: \" + str(self.belted_bias) + \\\n",
      "               \"\\n \\tOptimal pressure: \" + str(self.opt_pressure)\n",
      "        \n",
      "class Engine(object):\n",
      "    def __init__(self, fuel_type, noise_level):\n",
      "        self.fuel_type = fuel_type\n",
      "        self.noise_level = noise_level\n",
      "        \n",
      "    def __str__(self):\n",
      "        return \"Engine: \\n \\tFuel type: \" + self.fuel_type \\\n",
      "             + \"\\n \\tNoise level:\" + str(self.noise_level)\n",
      "        \n",
      "class Body(object):\n",
      "    def __init__(self, size):\n",
      "        self.size = size\n",
      "        \n",
      "    def __str__(self):\n",
      "        return \"Body:\\n \\tSize: \" + self.size\n",
      "        \n",
      "class Car(object):\n",
      "    def __init__(self, tyres, engine, body):\n",
      "        self.tyres = tyres\n",
      "        self.engine = engine\n",
      "        self.body = body\n",
      "        \n",
      "    def __str__(self):\n",
      "        return str(self.tyres) + \"\\n\" + str(self.engine) + \"\\n\" + str(self.body)\n",
      "\n",
      "        \n",
      "t = Tyres('Pirelli', True, 2.0)\n",
      "e = Engine('Diesel', 3)\n",
      "b = Body('Medium')\n",
      "c = Car(t,e,b)\n",
      "print str(c)"
     ],
     "language": "python",
     "metadata": {},
     "outputs": [
      {
       "output_type": "stream",
       "stream": "stdout",
       "text": [
        "Tyres: \n",
        " \tBranch: Pirelli\n",
        " \tBelted-bias: True\n",
        " \tOptimal pressure: 2.0\n",
        "Engine: \n",
        " \tFuel type: Diesel\n",
        " \tNoise level:3\n",
        "Body:\n",
        " \tSize: Medium\n"
       ]
      }
     ],
     "prompt_number": 15
    },
    {
     "cell_type": "heading",
     "level": 3,
     "metadata": {},
     "source": [
      "3.2 Dynamic Extension"
     ]
    },
    {
     "cell_type": "markdown",
     "metadata": {},
     "source": [
      "Sometimes it's necessary to model a concept that may be a subclass of another one, but it isn't possible to know which class should be its superclass until runtime."
     ]
    },
    {
     "cell_type": "heading",
     "level": 4,
     "metadata": {},
     "source": [
      "3.2.1 Example"
     ]
    },
    {
     "cell_type": "markdown",
     "metadata": {},
     "source": [
      "Suppose we want to model a simple dog school that trains instructors too. It will be nice to re-use Person and Student but students can be dogs or peoples. So we can remodel it this way:"
     ]
    },
    {
     "cell_type": "code",
     "collapsed": false,
     "input": [
      "class Dog(object):\n",
      "    def __init__(self, name, year_of_birth, breed):\n",
      "        self._name = name\n",
      "        self._year_of_birth = year_of_birth\n",
      "        self._breed = breed\n",
      "\n",
      "    def __str__(self):\n",
      "        return \"%s is a %s born in %d.\" % (self._name, self._breed, self._year_of_birth)\n",
      "\n",
      "kudrjavka = Dog(\"Kudrjavka\", 1954, \"Laika\")\n",
      "print kudrjavka"
     ],
     "language": "python",
     "metadata": {},
     "outputs": [
      {
       "output_type": "stream",
       "stream": "stdout",
       "text": [
        "Kudrjavka is a Laika born in 1954.\n"
       ]
      }
     ],
     "prompt_number": 16
    },
    {
     "cell_type": "code",
     "collapsed": false,
     "input": [
      "class Student(object):\n",
      "    def __init__(self, anagraphic, student_id):\n",
      "        self._anagraphic = anagraphic\n",
      "        self._student_id = student_id\n",
      "    def __str__(self):\n",
      "        return str(self._anagraphic) + \" Student ID: %d\" % self._student_id\n",
      "\n",
      "\n",
      "alec_student = Student(alec, 01)\n",
      "kudrjavka_student = Student(kudrjavka, 02)\n",
      "\n",
      "print alec_student\n",
      "print kudrjavka_student\n"
     ],
     "language": "python",
     "metadata": {},
     "outputs": [
      {
       "output_type": "stream",
       "stream": "stdout",
       "text": [
        "Alec Baldwin and was born 1958. Student ID: 1\n",
        "Kudrjavka is a Laika born in 1954. Student ID: 2\n"
       ]
      }
     ],
     "prompt_number": 17
    },
    {
     "cell_type": "heading",
     "level": 2,
     "metadata": {},
     "source": [
      "4 Polymorphism and DuckTyping"
     ]
    },
    {
     "cell_type": "markdown",
     "metadata": {},
     "source": [
      "`Python` uses dynamic typing (also called duck typing). If an object implements a method you can use it, no matter what the type is. This is different from statically typed languages, where the type of a construct need to be explicitly declared. Polymorphism is the ability to use the same syntax for objects of different types:"
     ]
    },
    {
     "cell_type": "code",
     "collapsed": false,
     "input": [
      "def summer(a, b):\n",
      "    return a + b\n",
      "\n",
      "print summer(1, 1)\n",
      "print summer([\"a\", \"b\", \"c\"], [\"d\", \"e\"])\n",
      "print summer(\"abra\", \"cadabra\")\n"
     ],
     "language": "python",
     "metadata": {},
     "outputs": [
      {
       "output_type": "stream",
       "stream": "stdout",
       "text": [
        "2\n",
        "['a', 'b', 'c', 'd', 'e']\n",
        "abracadabra\n"
       ]
      }
     ],
     "prompt_number": 18
    },
    {
     "cell_type": "heading",
     "level": 2,
     "metadata": {},
     "source": [
      "5 Legacy style classes"
     ]
    },
    {
     "cell_type": "markdown",
     "metadata": {},
     "source": [
      "For historical reasons, Python provides two kinds of user-defined types (classes): \u201cold-style\u201d and \u201cnew-style\u201d. New-style classes were introduced in Python 2.2 for an internal reason, i.e. to unify classes and types. The only obvious difference is that old-style classes either have no base class, or have only old-style base classes. New-style classes always derive from a new-style class, for example, object, Python\u2019s start base class. Old-style classes have been dropped from the language from Python 3.0."
     ]
    },
    {
     "cell_type": "code",
     "collapsed": false,
     "input": [
      "class Old:\n",
      "    pass\n",
      "class New(object):\n",
      "    pass\n",
      "print type(Old)\n",
      "print type(New)\n"
     ],
     "language": "python",
     "metadata": {},
     "outputs": [
      {
       "output_type": "stream",
       "stream": "stdout",
       "text": [
        "<type 'classobj'>\n",
        "<type 'type'>\n"
       ]
      }
     ],
     "prompt_number": 19
    },
    {
     "cell_type": "heading",
     "level": 2,
     "metadata": {},
     "source": [
      "6 How long does a class should be?"
     ]
    },
    {
     "cell_type": "markdown",
     "metadata": {},
     "source": [
      "\n",
      "There is an Object Oriented Programming principle called SRP single responsability principle and it states: \"A class should have one single responsability\" or \"A class should have only one reason to change\". If you come up with a class that doesn't follow this principle you should consider to split it. You will be grateful to SRP during your software manteinance."
     ]
    },
    {
     "cell_type": "markdown",
     "metadata": {},
     "source": [
      "---\n",
      "\n",
      "Email **training [at ]add-for [dot] com** for more information and custom training programs."
     ]
    }
   ],
   "metadata": {}
  }
 ]
}