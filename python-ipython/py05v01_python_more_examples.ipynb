{
 "metadata": {
  "name": "",
  "signature": "sha256:3c49bf7a5929cf9d27b399b4bc83ca2b27aa46160668926170cfbc9a76276afc"
 },
 "nbformat": 3,
 "nbformat_minor": 0,
 "worksheets": [
  {
   "cells": [
    {
     "cell_type": "heading",
     "level": 1,
     "metadata": {},
     "source": [
      "Python More Examples"
     ]
    },
    {
     "cell_type": "markdown",
     "metadata": {},
     "source": [
      "* [1 Working with Win32Com - Excel example](#1-Working-with-Win32Com---Excel-example)\n",
      "* [2 Sending an e-mail from a gmail account](#2-Sending-an-e-mail-from-a-gmail-account)\n",
      "* [3 Automating google search](#3-Automating-google-search)\n"
     ]
    },
    {
     "cell_type": "code",
     "collapsed": false,
     "input": [
      "from addutils import css_notebook\n",
      "css_notebook()"
     ],
     "language": "python",
     "metadata": {},
     "outputs": [
      {
       "html": [
        "<style>\n",
        "    @font-face {\n",
        "        font-family: \"Computer Modern\";\n",
        "        src: url('http://mirrors.ctan.org/fonts/cm-unicode/fonts/otf/cmunss.otf');\n",
        "    }\n",
        "    div.cell{\n",
        "        width:900px;\n",
        "        margin-left:0% !important;\n",
        "        margin-right:0%;\n",
        "    }\n",
        "\n",
        "\tcode{\n",
        "\t\tfont-size:10pt\n",
        "\t}\n",
        "\n",
        "    h1 {\n",
        "        font-family: Tahoma, sans-serif;\n",
        "\t\tcolor: rgb( 10, 88, 126 );\n",
        "\t\tfont-size:28pt;\n",
        "    }\n",
        "\th2 {\n",
        "        font-family: Tahoma, sans-serif;\n",
        "\t\tcolor: rgb( 10, 88, 126 );\n",
        "\t\tfont-size:24pt;\n",
        "    }\n",
        "\th3 {\n",
        "        font-family: Tahoma, sans-serif;\n",
        "\t\tcolor: rgb( 10, 88, 126 );\n",
        "\t\tfont-size:20pt;\n",
        "    }\n",
        "    h4 {\n",
        "\t\tfont-family: Tahoma, sans-serif;\n",
        "\t\tcolor: rgb( 10, 88, 126 );\n",
        "\t\tfont-size:18pt;\n",
        "        margin-top:12px;\n",
        "        margin-bottom: 3px;\n",
        "       }\n",
        "\n",
        "\tul {\n",
        "\t\tfont-family: Tahoma, sans-serif;\n",
        "\t\tcolor: rgb( 90, 90, 90 );\n",
        "\t\tfont-size:11pt;\n",
        "\t\tline-height: 185%;\n",
        "\t\t}\n",
        "\n",
        "\tp {\n",
        "\t\tfont-family: Tahoma, sans-serif;\n",
        "\t\tcolor: rgb( 90, 90, 90 );\n",
        "\t\tfont-size:11pt;\n",
        "\t\t}\n",
        "\n",
        "\tstrong {\n",
        "\t\tfont-family: Tahoma, sans-serif;\n",
        "\t\tcolor: rgb( 30, 30, 30 );\n",
        "\t\tfont-size:11pt;\n",
        "\t\t}\n",
        "\n",
        "\ta:link {\n",
        "\t\tfont-family: Tahoma, sans-serif;\n",
        "\t\tcolor: rgb( 10, 88, 126 );\n",
        "\t\tfont-size:11pt;\n",
        "\t\t}\n",
        "\n",
        "\ta:visited {\n",
        "\t\tcolor:rgb( 10, 88, 126 );\n",
        "\t}\n",
        "\n",
        "    div.text_cell_render{\n",
        "        font-family: Helvetica, Courier, Computer Modern, \"Helvetica Neue\", Arial, Geneva, sans-serif;\n",
        "\t\tcolor: rgb( 84, 84, 84 );\n",
        "\t\tfont-size:11pt;\n",
        "        line-height: 125%;\n",
        "        font-size: 100%;\n",
        "        width:800px;\n",
        "        margin-left:auto;\n",
        "        margin-right:auto;\n",
        "    }\n",
        "    .CodeMirror{\n",
        "            font-family: Courier, \"Source Code Pro\", source-code-pro,Consolas, monospace;\n",
        "    }\n",
        "\n",
        "    .text_cell_render h5 {\n",
        "        font-weight: 300;\n",
        "        font-size: 11pt;\n",
        "        color: rgb( 48, 48, 48 );\n",
        "        font-style: italic;\n",
        "        margin-bottom: .5em;\n",
        "        margin-top: 0.5em;\n",
        "        display: block;\n",
        "    }\n",
        "\n",
        "    .warning{\n",
        "        color: rgb( 240, 20, 20 )\n",
        "        }\n",
        ".rendered_html td\n",
        "{\n",
        "text-align: right;\n",
        "}\n",
        "\n",
        "</style>\n",
        "<script>\n",
        "    MathJax.Hub.Config({\n",
        "                        TeX: {\n",
        "                           extensions: [\"AMSmath.js\"]\n",
        "                           },\n",
        "                displayAlign: 'center', // Change this to 'center' to center equations.\n",
        "                \"HTML-CSS\": {\n",
        "                    styles: {'.MathJax_Display': {\"margin\": 4}}\n",
        "                }\n",
        "        });\n",
        "</script>\n"
       ],
       "metadata": {},
       "output_type": "pyout",
       "prompt_number": 1,
       "text": [
        "<IPython.core.display.HTML at 0x36162b0>"
       ]
      }
     ],
     "prompt_number": 1
    },
    {
     "cell_type": "heading",
     "level": 2,
     "metadata": {},
     "source": [
      "1 Working with Win32Com - Excel example"
     ]
    },
    {
     "cell_type": "markdown",
     "metadata": {},
     "source": [
      "`win32com.client` allows Python to control most windows applications. In this case we automate an **Excel** application.\n",
      "NB: the following examples assume that Microsoft Excel is installed on the current PC."
     ]
    },
    {
     "cell_type": "code",
     "collapsed": false,
     "input": [
      "from win32com.client import Dispatch   # Import the 'win32com' module\n",
      "import os"
     ],
     "language": "python",
     "metadata": {},
     "outputs": [],
     "prompt_number": 2
    },
    {
     "cell_type": "code",
     "collapsed": false,
     "input": [
      "xlApp = Dispatch('Excel.Application')  # reference to an excel instance"
     ],
     "language": "python",
     "metadata": {},
     "outputs": [],
     "prompt_number": 3
    },
    {
     "cell_type": "markdown",
     "metadata": {},
     "source": [
      "Now Excel has been started but is invisible. Let's make Excel visible. Then we create a new Sheet named *'My First Try'*:"
     ]
    },
    {
     "cell_type": "code",
     "collapsed": false,
     "input": [
      "xlApp.Visible = 1                      # Make Excel visible\n",
      "xlBook = xlApp.Workbooks.Add()         # New workbook (standard three sheets)\n",
      "xlSheet = xlBook.Sheets(1)             # Handle to the first sheet (ONE BASED!)\n",
      "xlSheet.Name = 'My First Try'          # Change sheet name"
     ],
     "language": "python",
     "metadata": {},
     "outputs": [],
     "prompt_number": 4
    },
    {
     "cell_type": "markdown",
     "metadata": {},
     "source": [
      "Cells can be initialized (here we assign two text values) and formatted from code:"
     ]
    },
    {
     "cell_type": "code",
     "collapsed": false,
     "input": [
      "rng = xlSheet.Range(\"C3\",\"D3\")\n",
      "rng.Value = ('Hello', 'World!')\n",
      "rng.NumberFormat = '@'  # Assign the 'Text' cell format\n",
      "rng.Font.Bold = True\n",
      "rng.Font.Name = \"Arial\"\n",
      "rng.Font.Size = 12\n",
      "rng.Interior.ColorIndex = 8\n",
      "rng.Interior.Pattern = 2"
     ],
     "language": "python",
     "metadata": {},
     "outputs": [],
     "prompt_number": 5
    },
    {
     "cell_type": "code",
     "collapsed": false,
     "input": [
      "v = xlSheet.Cells(3,4).Value           # Read a single value from a cell\n",
      "print v, type(v)"
     ],
     "language": "python",
     "metadata": {},
     "outputs": [
      {
       "output_type": "stream",
       "stream": "stdout",
       "text": [
        "World! <type 'unicode'>\n"
       ]
      }
     ],
     "prompt_number": 6
    },
    {
     "cell_type": "markdown",
     "metadata": {},
     "source": [
      "How to assign numerical values and formulas to cells (notice that formulas are assigned as strings):"
     ]
    },
    {
     "cell_type": "code",
     "collapsed": false,
     "input": [
      "xlSheet.Cells(4,4).Value == None       # Check if the cell is empty\n",
      "xlSheet.Cells(5,4).Value = '12'\n",
      "xlSheet.Cells(6,4).Value = '15'\n",
      "xlSheet.Cells(7,4).Value = '=D5+D6'    # Formulas"
     ],
     "language": "python",
     "metadata": {},
     "outputs": [],
     "prompt_number": 7
    },
    {
     "cell_type": "markdown",
     "metadata": {},
     "source": [
      "We can write and read values to whole cell ranges as well:"
     ]
    },
    {
     "cell_type": "code",
     "collapsed": false,
     "input": [
      "rng = xlSheet.Range(xlSheet.Cells(3,3), xlSheet.Cells(7,4))\n",
      "rng.Value"
     ],
     "language": "python",
     "metadata": {},
     "outputs": [
      {
       "metadata": {},
       "output_type": "pyout",
       "prompt_number": 8,
       "text": [
        "((u'Hello', u'World!'), (None, None), (None, 12.0), (None, 15.0), (None, 27.0))"
       ]
      }
     ],
     "prompt_number": 8
    },
    {
     "cell_type": "code",
     "collapsed": false,
     "input": [
      "vals=tuple([(x,y,z) for x,y,z in zip('abcdefghijklmn',xrange(14),xrange(14))])\n",
      "xlSheet.Range(\"C8\",\"E21\").Value = vals"
     ],
     "language": "python",
     "metadata": {},
     "outputs": [],
     "prompt_number": 9
    },
    {
     "cell_type": "markdown",
     "metadata": {},
     "source": [
      "Save the workbook with a given name:"
     ]
    },
    {
     "cell_type": "code",
     "collapsed": false,
     "input": [
      "current_dir = os.path.abspath(os.path.curdir)\n",
      "file_path = os.path.join(current_dir, 'tmp', 'my_excel_file.xlsx')\n",
      "print file_path\n",
      "xlBook.SaveAs(file_path)"
     ],
     "language": "python",
     "metadata": {},
     "outputs": [
      {
       "output_type": "stream",
       "stream": "stdout",
       "text": [
        "C:\\Users\\Cristina\\Documents\\Tutorials\\python-ipython\\tmp\\my_excel_file.xlsx\n"
       ]
      }
     ],
     "prompt_number": 11
    },
    {
     "cell_type": "markdown",
     "metadata": {},
     "source": [
      "To quit the application do this:"
     ]
    },
    {
     "cell_type": "code",
     "collapsed": false,
     "input": [
      "xlBook.Close(SaveChanges=0)           # Book force closing without saving\n",
      "xlApp.Quit()                          # Quit the excel App\n",
      "del xlApp                             # Release the local reference"
     ],
     "language": "python",
     "metadata": {},
     "outputs": [],
     "prompt_number": 12
    },
    {
     "cell_type": "markdown",
     "metadata": {},
     "source": [
      "\n"
     ]
    },
    {
     "cell_type": "heading",
     "level": 2,
     "metadata": {},
     "source": [
      "2 Sending an e-mail from a gmail account"
     ]
    },
    {
     "cell_type": "markdown",
     "metadata": {},
     "source": [
      "This example is about sending mails using Python smtplib through Gmail SMTP."
     ]
    },
    {
     "cell_type": "code",
     "collapsed": false,
     "input": [
      "sender = 'MYNAME@gmail.com'\n",
      "password = 'MYPASSWORD'\n",
      "recipient = 'RECIPIENT-EMAIL'\n",
      "subject = 'A G-mail using Python'\n",
      "body = 'This is the body of the message'"
     ],
     "language": "python",
     "metadata": {},
     "outputs": [],
     "prompt_number": 13
    },
    {
     "cell_type": "markdown",
     "metadata": {},
     "source": [
      "The smtplib module defines an SMTP client session object that can be used to send mail to any Internet machine with an SMTP or ESMTP listener daemon.\n",
      "The first step is to create a SMTP connection to the server. The `smtplib.SMTP` class encapsulates an SMTP connection. If the optional host and port parameters are given, the SMTP `connect()` method is called with those parameters during initialization. An `SMTPConnectError` is raised if the specified host doesn\u2019t respond correctly. The optional timeout parameter specifies a timeout in seconds for blocking operations like the connection attempt (if not specified, the global default timeout setting will be used).\n",
      "\n",
      "Next we will identify ourself to an ESMTP server using HELO. The SMTP HELO clause is the stage of the SMTP protocol where SMTP servers get introduced each other. EHLO is just like HELO except that the server\u2019s response text provides computer-readable information about the server\u2019s abilities.\n",
      "\n",
      "Remember Google\u2019s SMTP server is \u2018smtp.gmail.com\u2019 and the port is 587."
     ]
    },
    {
     "cell_type": "code",
     "collapsed": false,
     "input": [
      "import smtplib\n",
      "session = smtplib.SMTP('smtp.gmail.com', 587)"
     ],
     "language": "python",
     "metadata": {},
     "outputs": [],
     "prompt_number": 14
    },
    {
     "cell_type": "markdown",
     "metadata": {},
     "source": [
      "Next we call `SMTP.starttls` function to put the SMTP connection in TLS (Transport Layer Security) mode. All SMTP commands that follow will be encrypted. You should then call `ehlo()` again. If keyfile and certfile are provided, these are passed to the socket module\u2019s `ssl()` function.If there has been no previous EHLO or HELO command this session, this method tries ESMTP EHLO first."
     ]
    },
    {
     "cell_type": "code",
     "collapsed": false,
     "input": [
      "session.starttls()\n",
      "session.ehlo()"
     ],
     "language": "python",
     "metadata": {},
     "outputs": [
      {
       "metadata": {},
       "output_type": "pyout",
       "prompt_number": 15,
       "text": [
        "(250,\n",
        " 'mx.google.com at your service, [93.50.182.77]\\nSIZE 35882577\\n8BITMIME\\nAUTH LOGIN PLAIN XOAUTH XOAUTH2 PLAIN-CLIENTTOKEN\\nENHANCEDSTATUSCODES\\nPIPELINING\\nCHUNKING\\nSMTPUTF8')"
       ]
      }
     ],
     "prompt_number": 15
    },
    {
     "cell_type": "markdown",
     "metadata": {},
     "source": [
      "OK, now we are safe to login to the server using SMTP.login(user, password). After successful login we use SMTP.sendmail(from_addr, to_addrs, msg[, mail_options, rcpt_options]) to send mails via Gmail."
     ]
    },
    {
     "cell_type": "code",
     "collapsed": true,
     "input": [
      "session.login(sender, password)"
     ],
     "language": "python",
     "metadata": {},
     "outputs": [
      {
       "ename": "SMTPAuthenticationError",
       "evalue": "(535, '5.7.8 Username and Password not accepted. Learn more at\\n5.7.8 http://support.google.com/mail/bin/answer.py?answer=14257 vh8sm22188705wjc.12 - gsmtp')",
       "output_type": "pyerr",
       "traceback": [
        "\u001b[1;31m---------------------------------------------------------------------------\u001b[0m\n\u001b[1;31mSMTPAuthenticationError\u001b[0m                   Traceback (most recent call last)",
        "\u001b[1;32m<ipython-input-16-fe497918e1bf>\u001b[0m in \u001b[0;36m<module>\u001b[1;34m()\u001b[0m\n\u001b[1;32m----> 1\u001b[1;33m \u001b[0msession\u001b[0m\u001b[1;33m.\u001b[0m\u001b[0mlogin\u001b[0m\u001b[1;33m(\u001b[0m\u001b[0msender\u001b[0m\u001b[1;33m,\u001b[0m \u001b[0mpassword\u001b[0m\u001b[1;33m)\u001b[0m\u001b[1;33m\u001b[0m\u001b[0m\n\u001b[0m",
        "\u001b[1;32mC:\\Users\\Cristina\\Anaconda\\lib\\smtplib.py\u001b[0m in \u001b[0;36mlogin\u001b[1;34m(self, user, password)\u001b[0m\n\u001b[0;32m    613\u001b[0m             \u001b[1;31m# 235 == 'Authentication successful'\u001b[0m\u001b[1;33m\u001b[0m\u001b[1;33m\u001b[0m\u001b[0m\n\u001b[0;32m    614\u001b[0m             \u001b[1;31m# 503 == 'Error: already authenticated'\u001b[0m\u001b[1;33m\u001b[0m\u001b[1;33m\u001b[0m\u001b[0m\n\u001b[1;32m--> 615\u001b[1;33m             \u001b[1;32mraise\u001b[0m \u001b[0mSMTPAuthenticationError\u001b[0m\u001b[1;33m(\u001b[0m\u001b[0mcode\u001b[0m\u001b[1;33m,\u001b[0m \u001b[0mresp\u001b[0m\u001b[1;33m)\u001b[0m\u001b[1;33m\u001b[0m\u001b[0m\n\u001b[0m\u001b[0;32m    616\u001b[0m         \u001b[1;32mreturn\u001b[0m \u001b[1;33m(\u001b[0m\u001b[0mcode\u001b[0m\u001b[1;33m,\u001b[0m \u001b[0mresp\u001b[0m\u001b[1;33m)\u001b[0m\u001b[1;33m\u001b[0m\u001b[0m\n\u001b[0;32m    617\u001b[0m \u001b[1;33m\u001b[0m\u001b[0m\n",
        "\u001b[1;31mSMTPAuthenticationError\u001b[0m: (535, '5.7.8 Username and Password not accepted. Learn more at\\n5.7.8 http://support.google.com/mail/bin/answer.py?answer=14257 vh8sm22188705wjc.12 - gsmtp')"
       ]
      }
     ],
     "prompt_number": 16
    },
    {
     "cell_type": "code",
     "collapsed": false,
     "input": [
      "headers = [\"from: \" + sender,\n",
      "           \"subject: \" + subject,\n",
      "           \"to: \" + recipient,\n",
      "           \"mime-version: 1.0\",\n",
      "           \"content-type: text/html\"]\n",
      "headers = \"\\r\\n\".join(headers)"
     ],
     "language": "python",
     "metadata": {},
     "outputs": [],
     "prompt_number": 17
    },
    {
     "cell_type": "code",
     "collapsed": false,
     "input": [
      "session.sendmail(sender, recipient, headers + \"\\r\\n\\r\\n\" + body)"
     ],
     "language": "python",
     "metadata": {},
     "outputs": [
      {
       "ename": "SMTPSenderRefused",
       "evalue": "(530, '5.5.1 Authentication Required. Learn more at\\n5.5.1 http://support.google.com/mail/bin/answer.py?answer=14257 vh8sm22188705wjc.12 - gsmtp', 'MYNAME@gmail.com')",
       "output_type": "pyerr",
       "traceback": [
        "\u001b[1;31m---------------------------------------------------------------------------\u001b[0m\n\u001b[1;31mSMTPSenderRefused\u001b[0m                         Traceback (most recent call last)",
        "\u001b[1;32m<ipython-input-18-aa5c06b297c2>\u001b[0m in \u001b[0;36m<module>\u001b[1;34m()\u001b[0m\n\u001b[1;32m----> 1\u001b[1;33m \u001b[0msession\u001b[0m\u001b[1;33m.\u001b[0m\u001b[0msendmail\u001b[0m\u001b[1;33m(\u001b[0m\u001b[0msender\u001b[0m\u001b[1;33m,\u001b[0m \u001b[0mrecipient\u001b[0m\u001b[1;33m,\u001b[0m \u001b[0mheaders\u001b[0m \u001b[1;33m+\u001b[0m \u001b[1;34m\"\\r\\n\\r\\n\"\u001b[0m \u001b[1;33m+\u001b[0m \u001b[0mbody\u001b[0m\u001b[1;33m)\u001b[0m\u001b[1;33m\u001b[0m\u001b[0m\n\u001b[0m",
        "\u001b[1;32mC:\\Users\\Cristina\\Anaconda\\lib\\smtplib.py\u001b[0m in \u001b[0;36msendmail\u001b[1;34m(self, from_addr, to_addrs, msg, mail_options, rcpt_options)\u001b[0m\n\u001b[0;32m    722\u001b[0m         \u001b[1;32mif\u001b[0m \u001b[0mcode\u001b[0m \u001b[1;33m!=\u001b[0m \u001b[1;36m250\u001b[0m\u001b[1;33m:\u001b[0m\u001b[1;33m\u001b[0m\u001b[0m\n\u001b[0;32m    723\u001b[0m             \u001b[0mself\u001b[0m\u001b[1;33m.\u001b[0m\u001b[0mrset\u001b[0m\u001b[1;33m(\u001b[0m\u001b[1;33m)\u001b[0m\u001b[1;33m\u001b[0m\u001b[0m\n\u001b[1;32m--> 724\u001b[1;33m             \u001b[1;32mraise\u001b[0m \u001b[0mSMTPSenderRefused\u001b[0m\u001b[1;33m(\u001b[0m\u001b[0mcode\u001b[0m\u001b[1;33m,\u001b[0m \u001b[0mresp\u001b[0m\u001b[1;33m,\u001b[0m \u001b[0mfrom_addr\u001b[0m\u001b[1;33m)\u001b[0m\u001b[1;33m\u001b[0m\u001b[0m\n\u001b[0m\u001b[0;32m    725\u001b[0m         \u001b[0msenderrs\u001b[0m \u001b[1;33m=\u001b[0m \u001b[1;33m{\u001b[0m\u001b[1;33m}\u001b[0m\u001b[1;33m\u001b[0m\u001b[0m\n\u001b[0;32m    726\u001b[0m         \u001b[1;32mif\u001b[0m \u001b[0misinstance\u001b[0m\u001b[1;33m(\u001b[0m\u001b[0mto_addrs\u001b[0m\u001b[1;33m,\u001b[0m \u001b[0mbasestring\u001b[0m\u001b[1;33m)\u001b[0m\u001b[1;33m:\u001b[0m\u001b[1;33m\u001b[0m\u001b[0m\n",
        "\u001b[1;31mSMTPSenderRefused\u001b[0m: (530, '5.5.1 Authentication Required. Learn more at\\n5.5.1 http://support.google.com/mail/bin/answer.py?answer=14257 vh8sm22188705wjc.12 - gsmtp', 'MYNAME@gmail.com')"
       ]
      }
     ],
     "prompt_number": 18
    },
    {
     "cell_type": "heading",
     "level": 2,
     "metadata": {},
     "source": [
      "3 Automating google search"
     ]
    },
    {
     "cell_type": "markdown",
     "metadata": {},
     "source": [
      "Using google webservices API is possible to query google search engine. Say we are going to search \"barack obama\""
     ]
    },
    {
     "cell_type": "code",
     "collapsed": false,
     "input": [
      "import json\n",
      "import urllib\n",
      "\n",
      "searchfor = 'barack obama'"
     ],
     "language": "python",
     "metadata": {},
     "outputs": [],
     "prompt_number": 19
    },
    {
     "cell_type": "markdown",
     "metadata": {},
     "source": [
      "To do this we need to create a specially crafted url to pass to the google api. `urllib` is a standard `python` library that allows to create and retrive URL(s).\n"
     ]
    },
    {
     "cell_type": "code",
     "collapsed": false,
     "input": [
      "query = urllib.urlencode({'q': searchfor})\n",
      "url = 'http://ajax.googleapis.com/ajax/services/search/web?v=1.0&{}'.format(query)\n",
      "search_response = urllib.urlopen(url)\n",
      "search_results = search_response.read()"
     ],
     "language": "python",
     "metadata": {},
     "outputs": [],
     "prompt_number": 20
    },
    {
     "cell_type": "markdown",
     "metadata": {},
     "source": [
      "Now we have a json encoded string containing our results, we are going to use `json.loads` in order to get what we are interested to (say Total results and top hits)."
     ]
    },
    {
     "cell_type": "code",
     "collapsed": false,
     "input": [
      "results = json.loads(search_results)\n",
      "data = results['responseData']\n",
      "print 'Total results: {}'.format(data['cursor']['estimatedResultCount'])\n",
      "hits = data['results']\n",
      "print 'Top {} hits:'.format(len(hits))\n",
      "for h in hits:\n",
      "    print ' ', h['url']\n",
      "print 'For more results, see {}'.format(data['cursor']['moreResultsUrl'])"
     ],
     "language": "python",
     "metadata": {},
     "outputs": [
      {
       "output_type": "stream",
       "stream": "stdout",
       "text": [
        "Total results: 14500000\n",
        "Top 4 hits:\n",
        "  https://www.barackobama.com/\n",
        "  http://en.wikipedia.org/wiki/Barack_Obama\n",
        "  http://www.whitehouse.gov/administration/president-obama\n",
        "  https://twitter.com/barackobama\n",
        "For more results, see http://www.google.com/search?oe=utf8&ie=utf8&source=uds&start=0&hl=en&q=barack+obama\n"
       ]
      }
     ],
     "prompt_number": 21
    },
    {
     "cell_type": "markdown",
     "metadata": {},
     "source": [
      "---\n",
      "\n",
      "Email **training [at ]add-for [dot] com** for more information and custom training programs."
     ]
    }
   ],
   "metadata": {}
  }
 ]
}