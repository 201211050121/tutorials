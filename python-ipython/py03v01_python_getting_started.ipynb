{
 "metadata": {
  "name": "",
  "signature": "sha256:f7521ebc071ffb6a915b8274d3783d579c0f1a98657749337e64cb6b74f5ef52"
 },
 "nbformat": 3,
 "nbformat_minor": 0,
 "worksheets": [
  {
   "cells": [
    {
     "cell_type": "heading",
     "level": 1,
     "metadata": {},
     "source": [
      "Python Getting Started"
     ]
    },
    {
     "cell_type": "markdown",
     "metadata": {},
     "source": [
      "* [1 Comment your code !](#1-Comment-your-code-!)\n",
      "* [2 Functions](#2-Functions)\n",
      "    * [2.1 Local Functions](#2.1-Local-Functions)\n",
      "    * [2.2 External Functions](#2.2-External-Functions)\n",
      "    * [2.3 Private Methods](#2.3-Private-Methods)\n",
      "    * [2.4 Anonymous Functions (lambda functions)](#2.4-Anonymous-Functions-(lambda-functions))\n",
      "* [3 File I/O](#3-File-I/O)\n",
      "    * [3.1 Simple I/O](#3.1-Simple-I/O)\n",
      "    * [3.2 Pickle / cPickle](#3.2-Pickle-/-cPickle)\n",
      "* [4 Operating System](#4-Operating-System)\n",
      "    * [4.1 General Info](#4.1-General-Info)\n",
      "    * [4.2 sys \u2014 System-specific parameters and functions](#4.2-sys-\u2014-System-specific-parameters-and-functions)\n",
      "    * [4.3 os \u2014 Miscellaneous operating system interfaces](#4.3-os-\u2014-Miscellaneous-operating-system-interfaces)\n",
      "    * [4.4 glob \u2014 Unix style pathname pattern expansion](#4.4-glob-\u2014-Unix-style-pathname-pattern-expansion)\n"
     ]
    },
    {
     "cell_type": "markdown",
     "metadata": {},
     "source": [
      "After learning the basic Python concepts, there are still some skills to learn to start working effectively.\n",
      "\n",
      "In this Notebook we will see how to manage functions and how to work with inport, namespaces and packages.\n",
      "Then we will see how to read and write external data and how to manage the external environment.\n",
      "Since most of our customers are working on Windows-based systems, this notebook is mainly oriented to this specific OS. Nevertheless many concepts you will find here can be applied to Mac or Linux systems."
     ]
    },
    {
     "cell_type": "code",
     "collapsed": false,
     "input": [
      "from addutils import css_notebook\n",
      "css_notebook()"
     ],
     "language": "python",
     "metadata": {},
     "outputs": [
      {
       "html": [
        "<style>\n",
        "    @font-face {\n",
        "        font-family: \"Computer Modern\";\n",
        "        src: url('http://mirrors.ctan.org/fonts/cm-unicode/fonts/otf/cmunss.otf');\n",
        "    }\n",
        "    div.cell{\n",
        "        width:900px;\n",
        "        margin-left:0% !important;\n",
        "        margin-right:0%;\n",
        "    }\n",
        "\n",
        "\tcode{\n",
        "\t\tfont-size:10pt\n",
        "\t}\n",
        "\n",
        "    h1 {\n",
        "        font-family: Tahoma, sans-serif;\n",
        "\t\tcolor: rgb( 10, 88, 126 );\n",
        "\t\tfont-size:28pt;\n",
        "    }\n",
        "\th2 {\n",
        "        font-family: Tahoma, sans-serif;\n",
        "\t\tcolor: rgb( 10, 88, 126 );\n",
        "\t\tfont-size:24pt;\n",
        "    }\n",
        "\th3 {\n",
        "        font-family: Tahoma, sans-serif;\n",
        "\t\tcolor: rgb( 10, 88, 126 );\n",
        "\t\tfont-size:20pt;\n",
        "    }\n",
        "    h4 {\n",
        "\t\tfont-family: Tahoma, sans-serif;\n",
        "\t\tcolor: rgb( 10, 88, 126 );\n",
        "\t\tfont-size:18pt;\n",
        "        margin-top:12px;\n",
        "        margin-bottom: 3px;\n",
        "       }\n",
        "\n",
        "\tul {\n",
        "\t\tfont-family: Tahoma, sans-serif;\n",
        "\t\tcolor: rgb( 90, 90, 90 );\n",
        "\t\tfont-size:11pt;\n",
        "\t\tline-height: 185%;\n",
        "\t\t}\n",
        "\n",
        "\tp {\n",
        "\t\tfont-family: Tahoma, sans-serif;\n",
        "\t\tcolor: rgb( 90, 90, 90 );\n",
        "\t\tfont-size:11pt;\n",
        "\t\t}\n",
        "\n",
        "\tstrong {\n",
        "\t\tfont-family: Tahoma, sans-serif;\n",
        "\t\tcolor: rgb( 30, 30, 30 );\n",
        "\t\tfont-size:11pt;\n",
        "\t\t}\n",
        "\n",
        "\ta:link {\n",
        "\t\tfont-family: Tahoma, sans-serif;\n",
        "\t\tcolor: rgb( 10, 88, 126 );\n",
        "\t\tfont-size:11pt;\n",
        "\t\t}\n",
        "\n",
        "\ta:visited {\n",
        "\t\tcolor:rgb( 10, 88, 126 );\n",
        "\t}\n",
        "\n",
        "    div.text_cell_render{\n",
        "        font-family: Helvetica, Courier, Computer Modern, \"Helvetica Neue\", Arial, Geneva, sans-serif;\n",
        "\t\tcolor: rgb( 84, 84, 84 );\n",
        "\t\tfont-size:11pt;\n",
        "        line-height: 125%;\n",
        "        font-size: 100%;\n",
        "        width:800px;\n",
        "        margin-left:auto;\n",
        "        margin-right:auto;\n",
        "    }\n",
        "    .CodeMirror{\n",
        "            font-family: Courier, \"Source Code Pro\", source-code-pro,Consolas, monospace;\n",
        "    }\n",
        "\n",
        "    .text_cell_render h5 {\n",
        "        font-weight: 300;\n",
        "        font-size: 11pt;\n",
        "        color: rgb( 48, 48, 48 );\n",
        "        font-style: italic;\n",
        "        margin-bottom: .5em;\n",
        "        margin-top: 0.5em;\n",
        "        display: block;\n",
        "    }\n",
        "\n",
        "    .warning{\n",
        "        color: rgb( 240, 20, 20 )\n",
        "        }\n",
        ".rendered_html td\n",
        "{\n",
        "text-align: right;\n",
        "}\n",
        "\n",
        "</style>\n",
        "<script>\n",
        "    MathJax.Hub.Config({\n",
        "                        TeX: {\n",
        "                           extensions: [\"AMSmath.js\"]\n",
        "                           },\n",
        "                displayAlign: 'center', // Change this to 'center' to center equations.\n",
        "                \"HTML-CSS\": {\n",
        "                    styles: {'.MathJax_Display': {\"margin\": 4}}\n",
        "                }\n",
        "        });\n",
        "</script>\n"
       ],
       "metadata": {},
       "output_type": "pyout",
       "prompt_number": 1,
       "text": [
        "<IPython.core.display.HTML at 0x36482b0>"
       ]
      }
     ],
     "prompt_number": 1
    },
    {
     "cell_type": "code",
     "collapsed": false,
     "input": [
      "pwd"
     ],
     "language": "python",
     "metadata": {},
     "outputs": [
      {
       "metadata": {},
       "output_type": "pyout",
       "prompt_number": 2,
       "text": [
        "u'C:\\\\Users\\\\Cristina\\\\Documents\\\\Tutorial_release\\\\python-ipython'"
       ]
      }
     ],
     "prompt_number": 2
    },
    {
     "cell_type": "heading",
     "level": 2,
     "metadata": {},
     "source": [
      "1 Comment your code !"
     ]
    },
    {
     "cell_type": "markdown",
     "metadata": {},
     "source": [
      "If there was a single thing you have to keep in mind, well, this is it: **comment your code!**\n",
      "This is particulary important when you start to have structured code involving classes and functions and when you start to collaborate with someone else.\n",
      "As you see in the following code there are two types of comments in Python:\n",
      "```python\n",
      "    # Single line comments are defined by the # sign\n",
      "    '''\n",
      "    Milti-line comments are defined using\n",
      "    three consecutive single quote signs.\n",
      "    '''\n",
      "```\n",
      "**But remember:**  \n",
      "\n",
      "\n",
      "* Comments must be used just to explain what can't be understood by reading the code\n",
      "* Bad, obvious and out-of-date comments are much worst than no-comment\n",
      "* First write clear code, then add comments to explain what isn't obvious"
     ]
    },
    {
     "cell_type": "heading",
     "level": 2,
     "metadata": {},
     "source": [
      "2 Functions"
     ]
    },
    {
     "cell_type": "heading",
     "level": 3,
     "metadata": {},
     "source": [
      "2.1 Local Functions"
     ]
    },
    {
     "cell_type": "markdown",
     "metadata": {},
     "source": [
      "Local functions are used to avoid code repetition and to give a tidy face to your code. Have a look to the code in the next cell and notice the following things:\n",
      "\n",
      "1. Always use intelligible names for variables. In this case we used `spacing_string`\n",
      "2. Function arguments can have default values. This mean that you don't have to reassign all the values every time you call a function: you will define just the values you need. *Notice: mandatory (non-default) values come always first in the function call definition*\n",
      "3. Function arguments are named: you can specify the arguments in any order when calling the function\n",
      "4. Functions can be defined anywhere in the code (better at the beginning of the code), and always before being called\n",
      "5. Arguments are passed by reference"
     ]
    },
    {
     "cell_type": "code",
     "collapsed": false,
     "input": [
      "def local(spacing_string, n=5):\n",
      "    '''Print n carriage returns\n",
      "       \"spacing_string\" must be provided\n",
      "       \"n\" can be omitted and gets the default value'''\n",
      "    # Variables defined inside functions are local\n",
      "    print spacing_string*n\n",
      "\n",
      "local('-')     # n = 5 (default value)\n",
      "local('*',n=9) # n = 9 (named argument)"
     ],
     "language": "python",
     "metadata": {},
     "outputs": [
      {
       "output_type": "stream",
       "stream": "stdout",
       "text": [
        "-----\n",
        "*********\n"
       ]
      }
     ],
     "prompt_number": 3
    },
    {
     "cell_type": "code",
     "collapsed": false,
     "input": [
      "# Since you wrote a nice description for you function\n",
      "# you can invoke help with help(local) or alternatively with local?\n",
      "local?"
     ],
     "language": "python",
     "metadata": {},
     "outputs": [],
     "prompt_number": 4
    },
    {
     "cell_type": "heading",
     "level": 3,
     "metadata": {},
     "source": [
      "2.2 External Functions"
     ]
    },
    {
     "cell_type": "markdown",
     "metadata": {},
     "source": [
      "External functions are saved in external files. As an example you will  find in this folder a file named `my_module.py`. This is the code:\n",
      "\n",
      "    # my_module.py =========================================================\n",
      "    ''' This is the documentation\n",
      "          for my example module'''\n",
      "    \n",
      "    '''Naming convenctions:\n",
      "        Function names must be lowercase separated by underscores '_'\n",
      "        An underscore '_' at the beginning of a functuin name means the function is\n",
      "        intended to be private BUT Python do NOT enforce this rule:\n",
      "        you can break the code if you want! '''\n",
      "    \n",
      "    # Variables defined here are available for ALL the functions in the module\n",
      "    # When module is imported, these variable can be accessed with:\n",
      "    #    module_name.variable_name\n",
      "    module_variable = 1\n",
      "\n",
      "    # Constants are named in uppercase\n",
      "    MODULE_CONSTANT = 1\n",
      "    \n",
      "    def my_function(name):\n",
      "        ''' This is the documentation for \"my_function\"'''\n",
      "        # Variables defined inside functions are local\n",
      "        (first, family) = name                       # Arguments bundled in a Tuple\n",
      "        return _my_private_function(first, family)\n",
      "    \n",
      "    def _my_private_function(first_name, second_name):\n",
      "        ''' This is the documentation for \"_my_private_function\"'''\n",
      "        full_name = first_name + ' [' + second_name.upper() + ']'\n",
      "        return full_name\n",
      "        \n",
      "    if __name__ == '__main__':\n",
      "        ''' This is a Unit Test: use \"run my_module\" from Python interpreter'''\n",
      "        print 'This is the testing code:'\n",
      "        print my_function(('Johnn', 'Doe'))\n",
      "    "
     ]
    },
    {
     "cell_type": "markdown",
     "metadata": {},
     "source": [
      "**my_function(name)** accepts a tuple made of two strings and calls **_my_private_function.** Functions whos name begins with '_' are meant to be private and cannot be called from outside. Lets try a call"
     ]
    },
    {
     "cell_type": "code",
     "collapsed": false,
     "input": [
      "import addutils.my_module as my\n",
      "print my.my_function(('rick', 'bayes'))"
     ],
     "language": "python",
     "metadata": {},
     "outputs": [
      {
       "output_type": "stream",
       "stream": "stdout",
       "text": [
        "rick [BAYES]\n"
       ]
      }
     ],
     "prompt_number": 5
    },
    {
     "cell_type": "markdown",
     "metadata": {},
     "source": [
      "***Try by yourself*** &nbsp;the following commands:\n",
      "\n",
      "    my.MODULE_CONSTANT\n",
      "    my.module_variable\n",
      "    my.my_function?\n",
      "    my?"
     ]
    },
    {
     "cell_type": "code",
     "collapsed": false,
     "input": [
      "my?"
     ],
     "language": "python",
     "metadata": {},
     "outputs": [],
     "prompt_number": 6
    },
    {
     "cell_type": "markdown",
     "metadata": {},
     "source": [
      "Testing your code with **if __name__ == '__main__':**\n",
      "To write reliable code, one of the most important things is to do continuous testing. In Python there is an easy way to test your code every time you modify your functions. When check **__name__ == '__main__'** is True, it means that the module has been called from the command line. You can use this check to write your Unit Testing code:\n",
      "\n",
      "    if __name__ == '__main__':\n",
      "        ''' This is a Unit Test: use \"run my_module\" from Python interpreter'''\n",
      "        print 'This is the testing code:'\n",
      "        print my_function(('John', 'Doe'))\n",
      "\n",
      "Try to call your module from the command line:"
     ]
    },
    {
     "cell_type": "code",
     "collapsed": false,
     "input": [
      "%run -m utilities.my_module"
     ],
     "language": "python",
     "metadata": {},
     "outputs": [
      {
       "output_type": "stream",
       "stream": "stdout",
       "text": [
        "This is the testing code:\n",
        "Johnn [DOE]\n"
       ]
      }
     ],
     "prompt_number": 7
    },
    {
     "cell_type": "heading",
     "level": 3,
     "metadata": {},
     "source": [
      "2.3 Private Methods"
     ]
    },
    {
     "cell_type": "markdown",
     "metadata": {},
     "source": [
      "Methods whose names start with '_' are meant to be private: this means you aren't supposed to access it. This is an example:\n",
      "\n",
      "    def _my_private_function(first_name, second_name):\n",
      "        ...\n",
      "        return full_name\n",
      "\n",
      "If you **\"import my_module as my\"** and try to type **my.[TAB]** you'll see just the public methods and variables.\n",
      "\n",
      "Actually Python allows you to call private methods anyway but we advice you to do it just when you'll be much more proficient in using this language. Try if you want:\n",
      "\n",
      "    my._my_private_function('John', 'McEnroe')"
     ]
    },
    {
     "cell_type": "markdown",
     "metadata": {},
     "source": [
      "***Try by yourself*** &nbsp;some more examples:\n",
      "    \n",
      "    # Explore other private methods with: my._ + TAB\n",
      "    import numpy as np\n",
      "    print my.__doc__\n",
      "    print my.my_function.__doc__\n",
      "    name = ('Graham', 'Chapman')\n",
      "    print my.my_function(name)\n",
      "    my?               # Module documentation: OBJECT INTROSPECTION\n",
      "    my??              # will also show the function's source code if possible\n",
      "    np.*load*?        # ? can be also used to search the namespace\n",
      "    my.my_function?   # Module function documentation\n",
      "    help(my)          # Module Help: notice private functions not listed"
     ]
    },
    {
     "cell_type": "code",
     "collapsed": false,
     "input": [],
     "language": "python",
     "metadata": {},
     "outputs": [],
     "prompt_number": 7
    },
    {
     "cell_type": "heading",
     "level": 3,
     "metadata": {},
     "source": [
      "2.4 Anonymous Functions (lambda functions)"
     ]
    },
    {
     "cell_type": "markdown",
     "metadata": {},
     "source": [
      "Python supports the creation of anonymous functions (i.e. functions that are not bound to a name) at runtime, using a construct called \"lambda\".\n",
      "\n",
      "This piece of code shows the difference between a normal function definition **f** and a lambda function **g**:\n",
      "\n",
      "    def f (x):\n",
      "        return x**2\n",
      "\n",
      "    g = lambda x: x**2\n",
      "\n",
      "    print f(4), g(4)\n",
      "\n",
      "Note that the lambda definition does not include a **'return'** statement -- it always contains an expression which is returned. Also note that you can put a lambda definition anywhere a function is expected, and you don't have to assign it to a variable at all. \n",
      "\n",
      "Check the following code to have an idea of the typical usage for lambda functions: here we sanitize a list of strings by **'mapping'** a list:"
     ]
    },
    {
     "cell_type": "code",
     "collapsed": false,
     "input": [
      "import re\n",
      "states = [' Alabama ', 'Georgia!', '  ## Georgia', ' ? georgia', 'FlOrIda']\n",
      "cleaner = lambda str: re.sub('[!#?]', '', str.strip()).title()\n",
      "print map(cleaner, states)"
     ],
     "language": "python",
     "metadata": {},
     "outputs": [
      {
       "output_type": "stream",
       "stream": "stdout",
       "text": [
        "['Alabama', 'Georgia', ' Georgia', ' Georgia', 'Florida']\n"
       ]
      }
     ],
     "prompt_number": 8
    },
    {
     "cell_type": "heading",
     "level": 2,
     "metadata": {},
     "source": [
      "3 File I/O"
     ]
    },
    {
     "cell_type": "heading",
     "level": 3,
     "metadata": {},
     "source": [
      "3.1 Simple I/O"
     ]
    },
    {
     "cell_type": "markdown",
     "metadata": {},
     "source": [
      "In Python is very easy to work with files. \n",
      "***Try by yourself*** &nbsp;this self-explaining code:"
     ]
    },
    {
     "cell_type": "code",
     "collapsed": false,
     "input": [
      "import os.path\n",
      "path = os.path.join(os.path.curdir, \"example_data\", \"my_input.txt\")\n",
      "ifile = open(path, 'r')\n",
      "for l in ifile: # ifile is an iterator\n",
      "    print l,    # ',' is for suppressing the newline '\\n'\n",
      "ifile.close()"
     ],
     "language": "python",
     "metadata": {},
     "outputs": [
      {
       "output_type": "stream",
       "stream": "stdout",
       "text": [
        "First Second\n",
        "10     0.32432\n",
        "20  1.324\n",
        "21 7.237923\n",
        "36 .83298932\n",
        "56        237.327823\n"
       ]
      }
     ],
     "prompt_number": 9
    },
    {
     "cell_type": "code",
     "collapsed": false,
     "input": [
      "# Read all the lines in a list\n",
      "ifile = open(path, 'r')\n",
      "lines = ifile.readlines()\n",
      "print lines\n",
      "ifile.close()"
     ],
     "language": "python",
     "metadata": {},
     "outputs": [
      {
       "output_type": "stream",
       "stream": "stdout",
       "text": [
        "['First Second\\n', '10     0.32432\\n', '20  1.324\\n', '21 7.237923\\n', '36 .83298932\\n', '56        237.327823\\n']\n"
       ]
      }
     ],
     "prompt_number": 10
    },
    {
     "cell_type": "markdown",
     "metadata": {},
     "source": [
      "Read a file, format and write back"
     ]
    },
    {
     "cell_type": "code",
     "collapsed": false,
     "input": [
      "ifile = open(path)         # 'read mode' is default\n",
      "path_2 = os.path.join(os.path.curdir, \"tmp\", \"my_input2.txt\")\n",
      "ofile = open(path_2, 'w')   # Open Output file in 'write mode'\n",
      "for line in ifile:                   # Read ONE line at a time\n",
      "    s = line.split()\n",
      "    try:\n",
      "        ofile.write('{:g} {:14.3e}\\n'.format(float(s[0]), float(s[1])))\n",
      "        print '{:g} {:14.3e}\\n'.format(float(s[0]), float(s[1]))\n",
      "    except:\n",
      "        ofile.write('{0} {1}\\n'.format(s[0], s[1]))\n",
      "        print '{0} {1}\\n'.format(s[0], s[1])\n",
      "# Notice: 'print' automatically adds a newline at the of the string\n",
      "\n",
      "ifile.close()\n",
      "ofile.close()\n"
     ],
     "language": "python",
     "metadata": {},
     "outputs": [
      {
       "output_type": "stream",
       "stream": "stdout",
       "text": [
        "First Second\n",
        "\n",
        "10      3.243e-01\n",
        "\n",
        "20      1.324e+00\n",
        "\n",
        "21      7.238e+00\n",
        "\n",
        "36      8.330e-01\n",
        "\n",
        "56      2.373e+02\n",
        "\n"
       ]
      }
     ],
     "prompt_number": 11
    },
    {
     "cell_type": "markdown",
     "metadata": {},
     "source": [
      "When it's possible **use the \"with\" syntax**, this will close the file automatically in case of an exception preventing the program flow to reach the **'close'** statements. This is also considered a ***\"more pythonic\"*** style."
     ]
    },
    {
     "cell_type": "code",
     "collapsed": false,
     "input": [
      "with open(path) as fid:\n",
      "    for line in fid:\n",
      "        s = line.split()\n",
      "        try:\n",
      "            print '{:.5g}\\t{:8.3f}'.format(float(s[0]), float(s[1]))\n",
      "        except:\n",
      "            print '{0}\\t {1}'.format(s[0], s[1])"
     ],
     "language": "python",
     "metadata": {},
     "outputs": [
      {
       "output_type": "stream",
       "stream": "stdout",
       "text": [
        "First\t Second\n",
        "10\t   0.324\n",
        "20\t   1.324\n",
        "21\t   7.238\n",
        "36\t   0.833\n",
        "56\t 237.328\n"
       ]
      }
     ],
     "prompt_number": 12
    },
    {
     "cell_type": "heading",
     "level": 3,
     "metadata": {},
     "source": [
      "3.2 Pickle / cPickle"
     ]
    },
    {
     "cell_type": "markdown",
     "metadata": {},
     "source": [
      "This is the most common way to serialize and save to disk any type of Python object. Mind that if you need to save complex and structured data and share it, cPickle is not the preferred method: consider instead of using a specific file format like [hdf5](http://en.wikipedia.org/wiki/Hierarchical_Data_Format)"
     ]
    },
    {
     "cell_type": "code",
     "collapsed": false,
     "input": [
      "import cPickle                          # cPickle is like Pickle but faster\n",
      "ls = ['one', 'two', 'three']\n",
      "with file('out_ascii.pkl', 'w') as f:   # Can choose an arbitrary extension\n",
      "    cPickle.dump(ls, f, 0)              # dump with protocol '0': readable ASCII\n",
      "with file('out_compb.pkl', 'w') as f:   # Can choose an arbitrary extension\n",
      "    cPickle.dump(ls, f, 2)              # dump with protocol '2': compressed bin\n",
      "\n",
      "with open('out_compb.pkl') as f:\n",
      "    d2 = cPickle.load(f)                # Protocol is automatically detected\n",
      "print d2"
     ],
     "language": "python",
     "metadata": {},
     "outputs": [
      {
       "output_type": "stream",
       "stream": "stdout",
       "text": [
        "['one', 'two', 'three']\n"
       ]
      }
     ],
     "prompt_number": 13
    },
    {
     "cell_type": "heading",
     "level": 2,
     "metadata": {},
     "source": [
      "4 Operating System"
     ]
    },
    {
     "cell_type": "heading",
     "level": 3,
     "metadata": {},
     "source": [
      "4.1 General Info"
     ]
    },
    {
     "cell_type": "markdown",
     "metadata": {},
     "source": [
      "Python gives you extensive possibilities to access you PC operating system. There are three modules in the Python Standard Library that you must be aware of:\n",
      "\n",
      "* [sys \u2014 System-specific parameters and functions](http://docs.python.org/library/sys.html)\n",
      "* [os \u2014 Miscellaneous operating system interfaces](http://docs.python.org/library/os.html)\n",
      "* [glob \u2014 Unix style pathname pattern expansion](http://docs.python.org/library/glob.html)"
     ]
    },
    {
     "cell_type": "heading",
     "level": 3,
     "metadata": {},
     "source": [
      "4.2 sys \u2014 System-specific parameters and functions"
     ]
    },
    {
     "cell_type": "markdown",
     "metadata": {},
     "source": [
      "Try some example commands by running the following cells"
     ]
    },
    {
     "cell_type": "code",
     "collapsed": false,
     "input": [
      "import sys \n",
      "# Platform identifier\n",
      "sys.platform"
     ],
     "language": "python",
     "metadata": {},
     "outputs": [
      {
       "metadata": {},
       "output_type": "pyout",
       "prompt_number": 14,
       "text": [
        "'win32'"
       ]
      }
     ],
     "prompt_number": 14
    },
    {
     "cell_type": "code",
     "collapsed": false,
     "input": [
      "# Version number of the Python interpreter\n",
      "sys.version"
     ],
     "language": "python",
     "metadata": {},
     "outputs": [
      {
       "metadata": {},
       "output_type": "pyout",
       "prompt_number": 15,
       "text": [
        "'2.7.6 |Anaconda 2.1.0 (64-bit)| (default, Nov 11 2013, 10:49:15) [MSC v.1500 64 bit (AMD64)]'"
       ]
      }
     ],
     "prompt_number": 15
    },
    {
     "cell_type": "code",
     "collapsed": false,
     "input": [
      "# PYTHONPATH: Folders in which looking for modules\n",
      "for p in sys.path:\n",
      "    print p.strip()"
     ],
     "language": "python",
     "metadata": {},
     "outputs": [
      {
       "output_type": "stream",
       "stream": "stdout",
       "text": [
        "\n",
        "C:\\Users\\Cristina\\Anaconda\\python27.zip\n",
        "C:\\Users\\Cristina\\Anaconda\\DLLs\n",
        "C:\\Users\\Cristina\\Anaconda\\lib\n",
        "C:\\Users\\Cristina\\Anaconda\\lib\\plat-win\n",
        "C:\\Users\\Cristina\\Anaconda\\lib\\lib-tk\n",
        "C:\\Users\\Cristina\\Anaconda\n",
        "c:\\users\\cristina\\anaconda\\lib\\site-packages\\runipy-0.1.1-py2.7.egg\n",
        "c:\\users\\cristina\\anaconda\\lib\\site-packages\\setuptools-11.3.1-py2.7.egg\n",
        "C:\\Users\\Cristina\\Anaconda\\lib\\site-packages\n",
        "C:\\Users\\Cristina\\Anaconda\\lib\\site-packages\\PIL\n",
        "C:\\Users\\Cristina\\Anaconda\\lib\\site-packages\\Sphinx-1.2.3-py2.7.egg\n",
        "C:\\Users\\Cristina\\Anaconda\\lib\\site-packages\\win32\n",
        "C:\\Users\\Cristina\\Anaconda\\lib\\site-packages\\win32\\lib\n",
        "C:\\Users\\Cristina\\Anaconda\\lib\\site-packages\\Pythonwin\n",
        "C:\\Users\\Cristina\\Anaconda\\lib\\site-packages\\IPython\\extensions\n"
       ]
      }
     ],
     "prompt_number": 16
    },
    {
     "cell_type": "code",
     "collapsed": false,
     "input": [
      "# Shows where the Python files are installed\n",
      "print sys.exec_prefix"
     ],
     "language": "python",
     "metadata": {},
     "outputs": [
      {
       "output_type": "stream",
       "stream": "stdout",
       "text": [
        "C:\\Users\\Cristina\\Anaconda\n"
       ]
      }
     ],
     "prompt_number": 17
    },
    {
     "cell_type": "code",
     "collapsed": false,
     "input": [
      "# Information about the float DataType\n",
      "sys.float_info"
     ],
     "language": "python",
     "metadata": {},
     "outputs": [
      {
       "metadata": {},
       "output_type": "pyout",
       "prompt_number": 18,
       "text": [
        "sys.float_info(max=1.7976931348623157e+308, max_exp=1024, max_10_exp=308, min=2.2250738585072014e-308, min_exp=-1021, min_10_exp=-307, dig=15, mant_dig=53, epsilon=2.220446049250313e-16, radix=2, rounds=1)"
       ]
      }
     ],
     "prompt_number": 18
    },
    {
     "cell_type": "code",
     "collapsed": false,
     "input": [
      "# Largest (simple) positive integer supported\n",
      "sys.maxint"
     ],
     "language": "python",
     "metadata": {},
     "outputs": [
      {
       "metadata": {},
       "output_type": "pyout",
       "prompt_number": 19,
       "text": [
        "2147483647"
       ]
      }
     ],
     "prompt_number": 19
    },
    {
     "cell_type": "code",
     "collapsed": false,
     "input": [
      "# Maximum size lists, strings, dicts can have\n",
      "sys.maxsize"
     ],
     "language": "python",
     "metadata": {},
     "outputs": [
      {
       "metadata": {},
       "output_type": "pyout",
       "prompt_number": 20,
       "text": [
        "9223372036854775807L"
       ]
      }
     ],
     "prompt_number": 20
    },
    {
     "cell_type": "heading",
     "level": 3,
     "metadata": {},
     "source": [
      "4.3 os \u2014 Miscellaneous operating system interfaces"
     ]
    },
    {
     "cell_type": "markdown",
     "metadata": {},
     "source": [
      "Try some example commands by running the following cells"
     ]
    },
    {
     "cell_type": "code",
     "collapsed": false,
     "input": [
      "import os\n",
      "for counter, osvariable in enumerate(os.environ):\n",
      "    if counter >= 5:\n",
      "        print 'AND MORE ...'\n",
      "        break\n",
      "    print '{0:>25}: {1}'.format(osvariable,os.environ[osvariable])\n",
      "else:\n",
      "    print '============ No more OS Variables ============'"
     ],
     "language": "python",
     "metadata": {},
     "outputs": [
      {
       "output_type": "stream",
       "stream": "stdout",
       "text": [
        "                      TMP: C:\\Users\\Cristina\\AppData\\Local\\Temp\n",
        "             COMPUTERNAME: ADDFORW8\n",
        "                   ILMDIR: C:\\Program Files (x86)\\Common Files\\Autodesk Shared\\Materials\\\n",
        "           VS110COMNTOOLS: C:\\Program Files (x86)\\Microsoft Visual Studio 11.0\\Common7\\Tools\\\n",
        "               USERDOMAIN: ADDFORW8\n",
        "AND MORE ...\n"
       ]
      }
     ],
     "prompt_number": 21
    },
    {
     "cell_type": "code",
     "collapsed": false,
     "input": [
      "# How to check a system variable:\n",
      "if 'NUMBER_OF_PROCESSORS' in os.environ:\n",
      "    print \"Number of processors in this machine:\", os.environ['NUMBER_OF_PROCESSORS']"
     ],
     "language": "python",
     "metadata": {},
     "outputs": [
      {
       "output_type": "stream",
       "stream": "stdout",
       "text": [
        "Number of processors in this machine: 8\n"
       ]
      }
     ],
     "prompt_number": 22
    },
    {
     "cell_type": "code",
     "collapsed": false,
     "input": [
      "# Working directory\n",
      "print os.getcwd()"
     ],
     "language": "python",
     "metadata": {},
     "outputs": [
      {
       "output_type": "stream",
       "stream": "stdout",
       "text": [
        "C:\\Users\\Cristina\\Documents\\Tutorial_release\\python-ipython\n"
       ]
      }
     ],
     "prompt_number": 23
    },
    {
     "cell_type": "code",
     "collapsed": false,
     "input": [
      "# List the files in the current directory\n",
      "print sorted(os.listdir(os.getcwd())) "
     ],
     "language": "python",
     "metadata": {},
     "outputs": [
      {
       "output_type": "stream",
       "stream": "stdout",
       "text": [
        "['.ipynb_checkpoints', 'example_data', 'index.ipynb', 'out_ascii.pkl', 'out_compb.pkl', 'py01v01_ipython_notebook_introduction.ipynb', 'py02v01_python_basics.ipynb', 'py03v01_python_getting_started.ipynb', 'py04v01_python_style_guide.ipynb', 'py05v01_python_more_examples.ipynb', 'py06v03_python_object_oriented.ipynb', 'py07v01_python_speed-up_with_C.ipynb', 'py08v01_Unicode.ipynb', 'py09v01_python_regular_expressions.ipynb', 'tmp', 'utilities']\n"
       ]
      }
     ],
     "prompt_number": 24
    },
    {
     "cell_type": "markdown",
     "metadata": {},
     "source": [
      "Difference between **os.name** and **sys.platform**: sys.platform will distinguish between linux, other unixes, and OS X  while os.name is \"posix\" for all of them"
     ]
    },
    {
     "cell_type": "code",
     "collapsed": false,
     "input": [
      "os.name"
     ],
     "language": "python",
     "metadata": {},
     "outputs": [
      {
       "metadata": {},
       "output_type": "pyout",
       "prompt_number": 25,
       "text": [
        "'nt'"
       ]
      }
     ],
     "prompt_number": 25
    },
    {
     "cell_type": "code",
     "collapsed": false,
     "input": [
      "# Correctly handle paths, and filenames\n",
      "# os.name can be 'posix', 'nt', 'mac', 'os2', 'ce', 'java', 'riscos'\n",
      "if os.name == 'posix':\n",
      "    full_path = \"/Users/dani/myfile.py\"\n",
      "elif os.name == 'nt':\n",
      "    full_path = 'C:\\\\myfile.py'\n",
      "\n",
      "print os.path.splitdrive(full_path)\n",
      "print os.path.split(full_path)"
     ],
     "language": "python",
     "metadata": {},
     "outputs": [
      {
       "output_type": "stream",
       "stream": "stdout",
       "text": [
        "('C:', '\\\\myfile.py')\n",
        "('C:\\\\', 'myfile.py')\n"
       ]
      }
     ],
     "prompt_number": 26
    },
    {
     "cell_type": "code",
     "collapsed": false,
     "input": [
      "if os.name == 'posix':\n",
      "    os.system('ls')\n",
      "else:\n",
      "    os.system('dir')"
     ],
     "language": "python",
     "metadata": {},
     "outputs": [],
     "prompt_number": 27
    },
    {
     "cell_type": "heading",
     "level": 3,
     "metadata": {},
     "source": [
      "4.4 glob \u2014 Unix style pathname pattern expansion"
     ]
    },
    {
     "cell_type": "markdown",
     "metadata": {},
     "source": [
      "Try some example commands by running the following cells"
     ]
    },
    {
     "cell_type": "code",
     "collapsed": false,
     "input": [
      "import glob\n",
      "print glob.glob(\"*.txt\")"
     ],
     "language": "python",
     "metadata": {},
     "outputs": [
      {
       "output_type": "stream",
       "stream": "stdout",
       "text": [
        "[]\n"
       ]
      }
     ],
     "prompt_number": 28
    },
    {
     "cell_type": "markdown",
     "metadata": {},
     "source": [
      "---\n",
      "\n",
      "Email **training [at ]add-for [dot] com** for more information and custom training programs."
     ]
    }
   ],
   "metadata": {}
  }
 ]
}