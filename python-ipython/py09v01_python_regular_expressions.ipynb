{
 "metadata": {
  "name": "",
  "signature": "sha256:865f448cf12465c7dfdc1234880d505147e676eff8118eec9560e9a91372fba0"
 },
 "nbformat": 3,
 "nbformat_minor": 0,
 "worksheets": [
  {
   "cells": [
    {
     "cell_type": "heading",
     "level": 1,
     "metadata": {},
     "source": [
      "Regular Expressions"
     ]
    },
    {
     "cell_type": "markdown",
     "metadata": {},
     "source": [
      "* [1 Finding wanted words and pieces of information (in a text complexity)](#1-Finding-wanted-words-and-pieces-of-information-(in-a-text-complexity))\n",
      "* [2 Python easy solutions for simple problems](#2-Python-easy-solutions-for-simple-problems)\n",
      "    * [2.1 Some of the built-in python string functions may solve some of the easiest tasks:](#2.1-Some-of-the-built-in-python-string-functions-may-solve-some-of-the-easiest-tasks:)\n",
      "        * [2.1.1 find](#2.1.1-find)\n",
      "        * [2.1.2 strip, lstrip, rstrip](#2.1.2-strip,-lstrip,-rstrip)\n",
      "        * [2.1.3 replace](#2.1.3-replace)\n",
      "        * [2.1.4 functions for identifying the type of character](#2.1.4-functions-for-identifying-the-type-of-character)\n",
      "        * [2.1.5 a slightly more complex example](#2.1.5-a-slightly-more-complex-example)\n",
      "    * [2.2 The Power of Regular Expressions](#2.2-The-Power-of-Regular-Expressions)\n",
      "    * [2.3 Python re module](#2.3-Python-re-module)\n"
     ]
    },
    {
     "cell_type": "code",
     "collapsed": false,
     "input": [
      "from addutils import css_notebook\n",
      "css_notebook()"
     ],
     "language": "python",
     "metadata": {},
     "outputs": [
      {
       "html": [
        "<style>\n",
        "    @font-face {\n",
        "        font-family: \"Computer Modern\";\n",
        "        src: url('http://mirrors.ctan.org/fonts/cm-unicode/fonts/otf/cmunss.otf');\n",
        "    }\n",
        "    div.cell{\n",
        "        width:900px;\n",
        "        margin-left:0% !important;\n",
        "        margin-right:0%;\n",
        "    }\n",
        "\n",
        "\tcode{\n",
        "\t\tfont-size:10pt\n",
        "\t}\n",
        "\n",
        "    h1 {\n",
        "        font-family: Tahoma, sans-serif;\n",
        "\t\tcolor: rgb( 10, 88, 126 );\n",
        "\t\tfont-size:28pt;\n",
        "    }\n",
        "\th2 {\n",
        "        font-family: Tahoma, sans-serif;\n",
        "\t\tcolor: rgb( 10, 88, 126 );\n",
        "\t\tfont-size:24pt;\n",
        "    }\n",
        "\th3 {\n",
        "        font-family: Tahoma, sans-serif;\n",
        "\t\tcolor: rgb( 10, 88, 126 );\n",
        "\t\tfont-size:20pt;\n",
        "    }\n",
        "    h4 {\n",
        "\t\tfont-family: Tahoma, sans-serif;\n",
        "\t\tcolor: rgb( 10, 88, 126 );\n",
        "\t\tfont-size:18pt;\n",
        "        margin-top:12px;\n",
        "        margin-bottom: 3px;\n",
        "       }\n",
        "\n",
        "\tul {\n",
        "\t\tfont-family: Tahoma, sans-serif;\n",
        "\t\tcolor: rgb( 90, 90, 90 );\n",
        "\t\tfont-size:11pt;\n",
        "\t\tline-height: 185%;\n",
        "\t\t}\n",
        "\n",
        "\tp {\n",
        "\t\tfont-family: Tahoma, sans-serif;\n",
        "\t\tcolor: rgb( 90, 90, 90 );\n",
        "\t\tfont-size:11pt;\n",
        "\t\t}\n",
        "\n",
        "\tstrong {\n",
        "\t\tfont-family: Tahoma, sans-serif;\n",
        "\t\tcolor: rgb( 30, 30, 30 );\n",
        "\t\tfont-size:11pt;\n",
        "\t\t}\n",
        "\n",
        "\ta:link {\n",
        "\t\tfont-family: Tahoma, sans-serif;\n",
        "\t\tcolor: rgb( 10, 88, 126 );\n",
        "\t\tfont-size:11pt;\n",
        "\t\t}\n",
        "\n",
        "\ta:visited {\n",
        "\t\tcolor:rgb( 10, 88, 126 );\n",
        "\t}\n",
        "\n",
        "    div.text_cell_render{\n",
        "        font-family: Helvetica, Courier, Computer Modern, \"Helvetica Neue\", Arial, Geneva, sans-serif;\n",
        "\t\tcolor: rgb( 84, 84, 84 );\n",
        "\t\tfont-size:11pt;\n",
        "        line-height: 125%;\n",
        "        font-size: 100%;\n",
        "        width:800px;\n",
        "        margin-left:auto;\n",
        "        margin-right:auto;\n",
        "    }\n",
        "    .CodeMirror{\n",
        "            font-family: Courier, \"Source Code Pro\", source-code-pro,Consolas, monospace;\n",
        "    }\n",
        "\n",
        "    .text_cell_render h5 {\n",
        "        font-weight: 300;\n",
        "        font-size: 11pt;\n",
        "        color: rgb( 48, 48, 48 );\n",
        "        font-style: italic;\n",
        "        margin-bottom: .5em;\n",
        "        margin-top: 0.5em;\n",
        "        display: block;\n",
        "    }\n",
        "\n",
        "    .warning{\n",
        "        color: rgb( 240, 20, 20 )\n",
        "        }\n",
        ".rendered_html td\n",
        "{\n",
        "text-align: right;\n",
        "}\n",
        "\n",
        "</style>\n",
        "<script>\n",
        "    MathJax.Hub.Config({\n",
        "                        TeX: {\n",
        "                           extensions: [\"AMSmath.js\"]\n",
        "                           },\n",
        "                displayAlign: 'center', // Change this to 'center' to center equations.\n",
        "                \"HTML-CSS\": {\n",
        "                    styles: {'.MathJax_Display': {\"margin\": 4}}\n",
        "                }\n",
        "        });\n",
        "</script>\n"
       ],
       "metadata": {},
       "output_type": "pyout",
       "prompt_number": 1,
       "text": [
        "<IPython.core.display.HTML at 0x369d208>"
       ]
      }
     ],
     "prompt_number": 1
    },
    {
     "cell_type": "heading",
     "level": 2,
     "metadata": {},
     "source": [
      "1 Finding wanted words and pieces of information (in a text complexity)"
     ]
    },
    {
     "cell_type": "markdown",
     "metadata": {},
     "source": [
      "This notebook is about the task of searching and managing substrings (matches) of a string. This is useful to extract piece of information from a text, for example when parsing dates, urls, e-mails, data lists, configuration files or programing scripts. Python offers some string methods for managing the simplest requirements, but the most powerful solution is offered by a language-free pattern matching standard: [regular expressions](http://en.wikipedia.org/wiki/Regular_expression).  \n",
      "Regular expressions are a sort of very specialized programming language made of special text strings (meta-characters) designed for describing a search pattern. Python has also some packages suitable for managing regular expression, such as python re, the regular expression module contained in the python standard distribution, or pyregex, a new external package under development (not treated in this notebook).  \n",
      "  \n",
      "  "
     ]
    },
    {
     "cell_type": "heading",
     "level": 2,
     "metadata": {},
     "source": [
      "2 Python easy solutions for simple problems"
     ]
    },
    {
     "cell_type": "heading",
     "level": 3,
     "metadata": {},
     "source": [
      "2.1 Some of the built-in python string functions may solve some of the easiest tasks:"
     ]
    },
    {
     "cell_type": "heading",
     "level": 4,
     "metadata": {},
     "source": [
      "2.1.1 find"
     ]
    },
    {
     "cell_type": "markdown",
     "metadata": {},
     "source": [
      "One of the most common requirements is to find a given word, or set of characters/numbers from a text. The find functions returns the positional index of the first character we were looking for, if a match is found; it returns -1 if not found."
     ]
    },
    {
     "cell_type": "code",
     "collapsed": false,
     "input": [
      "string = \"this is string example....wow!!!\"\n",
      "\n",
      "part = \"wow!!!\"\n",
      "part2 = \"strong\"\n",
      "print string.find(part)\n",
      "print string.find(part2)"
     ],
     "language": "python",
     "metadata": {},
     "outputs": [
      {
       "output_type": "stream",
       "stream": "stdout",
       "text": [
        "26\n",
        "-1\n"
       ]
      }
     ],
     "prompt_number": 2
    },
    {
     "cell_type": "heading",
     "level": 4,
     "metadata": {},
     "source": [
      "2.1.2 strip, lstrip, rstrip"
     ]
    },
    {
     "cell_type": "markdown",
     "metadata": {},
     "source": [
      "Other functions help to clean and extract only useful information "
     ]
    },
    {
     "cell_type": "code",
     "collapsed": false,
     "input": [
      "string = \"0000000this is string example....wow!!!0000000\"\n",
      "\n",
      "print string.strip('0')\n",
      "print string.lstrip('0')\n",
      "print string.rstrip('0')"
     ],
     "language": "python",
     "metadata": {},
     "outputs": [
      {
       "output_type": "stream",
       "stream": "stdout",
       "text": [
        "this is string example....wow!!!\n",
        "this is string example....wow!!!0000000\n",
        "0000000this is string example....wow!!!\n"
       ]
      }
     ],
     "prompt_number": 3
    },
    {
     "cell_type": "heading",
     "level": 4,
     "metadata": {},
     "source": [
      "2.1.3 replace"
     ]
    },
    {
     "cell_type": "code",
     "collapsed": false,
     "input": [
      "string = \"this is string example....wow!!!\"\n",
      "\n",
      "spl = string.replace('string', 'good')\n",
      "spl"
     ],
     "language": "python",
     "metadata": {},
     "outputs": [
      {
       "metadata": {},
       "output_type": "pyout",
       "prompt_number": 4,
       "text": [
        "'this is good example....wow!!!'"
       ]
      }
     ],
     "prompt_number": 4
    },
    {
     "cell_type": "heading",
     "level": 4,
     "metadata": {},
     "source": [
      "2.1.4 functions for identifying the type of character"
     ]
    },
    {
     "cell_type": "markdown",
     "metadata": {},
     "source": [
      "a series of methods, and even simple idiomatic expressions using basic operators, returning True or False, such as **isalnum** (checking for alphanumeric), **isalpha** (only alphabetic), **isdigit** (numbers), **isspace** (whitespace), **islower** (lowercase), **isupper** (uppercase), **istitle** (titlecase, if all words in a string starts with uppercase), **startswith**, **endswith**. "
     ]
    },
    {
     "cell_type": "code",
     "collapsed": false,
     "input": [
      "\"a\" in 'xyxxyabcxyzzy'"
     ],
     "language": "python",
     "metadata": {},
     "outputs": [
      {
       "metadata": {},
       "output_type": "pyout",
       "prompt_number": 5,
       "text": [
        "True"
       ]
      }
     ],
     "prompt_number": 5
    },
    {
     "cell_type": "code",
     "collapsed": false,
     "input": [
      "string = \"this is string example....wow!!!\"\n",
      "\n",
      "print string.startswith('this')\n",
      "print string.startswith('is')\n",
      "print string.startswith('string', 8)   # start index at the matching boundary"
     ],
     "language": "python",
     "metadata": {},
     "outputs": [
      {
       "output_type": "stream",
       "stream": "stdout",
       "text": [
        "True\n",
        "False\n",
        "True\n"
       ]
      }
     ],
     "prompt_number": 6
    },
    {
     "cell_type": "code",
     "collapsed": false,
     "input": [
      "string = 'this'\n",
      "\n",
      "string.isalpha()"
     ],
     "language": "python",
     "metadata": {},
     "outputs": [
      {
       "metadata": {},
       "output_type": "pyout",
       "prompt_number": 7,
       "text": [
        "True"
       ]
      }
     ],
     "prompt_number": 7
    },
    {
     "cell_type": "code",
     "collapsed": false,
     "input": [
      "string = 'this '  # whitespace is not alphabetic!\n",
      "\n",
      "print string.isalpha()"
     ],
     "language": "python",
     "metadata": {},
     "outputs": [
      {
       "output_type": "stream",
       "stream": "stdout",
       "text": [
        "False\n"
       ]
      }
     ],
     "prompt_number": 8
    },
    {
     "cell_type": "markdown",
     "metadata": {},
     "source": [
      "***Try by yourself*** &nbsp;the other methods:\n",
      "\n",
      "    string = 'this'\n",
      "    print string.isupper()\n",
      "    print string.islower()\n",
      "    print string.istitle()\n",
      "    print string.isalnum()\n",
      "    print string.isspace()\n",
      "    print string.isdigit()\n",
      "\n",
      "Try also by modifying the string:   \n",
      "\n",
      "    mod = string.upper()\n",
      "    mod = string.title()\n",
      "    print mod.isupper()"
     ]
    },
    {
     "cell_type": "code",
     "collapsed": false,
     "input": [],
     "language": "python",
     "metadata": {},
     "outputs": [],
     "prompt_number": 8
    },
    {
     "cell_type": "heading",
     "level": 4,
     "metadata": {},
     "source": [
      "2.1.5 a slightly more complex example"
     ]
    },
    {
     "cell_type": "markdown",
     "metadata": {},
     "source": [
      "Let see how we could clean a string with some unuseful elements, using python built-in methods:"
     ]
    },
    {
     "cell_type": "code",
     "collapsed": false,
     "input": [
      "string = \"this 44444is a99999 dirty 678435 string xxxxxxexample....wow000000!!!\"\n",
      "\n",
      "spl = string.split()\n",
      "print spl"
     ],
     "language": "python",
     "metadata": {},
     "outputs": [
      {
       "output_type": "stream",
       "stream": "stdout",
       "text": [
        "['this', '44444is', 'a99999', 'dirty', '678435', 'string', 'xxxxxxexample....wow000000!!!']\n"
       ]
      }
     ],
     "prompt_number": 9
    },
    {
     "cell_type": "code",
     "collapsed": false,
     "input": [
      "ls = []\n",
      "for i, item in enumerate(spl):\n",
      "    if item.find('xxx') != -1:\n",
      "        item = item.lstrip('x')\n",
      "    result = ''.join([e for e in item if not e.isdigit()])\n",
      "    if result:                                             # needed to exclude empty strings\n",
      "        ls.append(result)\n",
      "print 'The temporary cleaned list looks like this: ', ls\n"
     ],
     "language": "python",
     "metadata": {},
     "outputs": [
      {
       "output_type": "stream",
       "stream": "stdout",
       "text": [
        "The temporary cleaned list looks like this:  ['this', 'is', 'a', 'dirty', 'string', 'example....wow!!!']\n"
       ]
      }
     ],
     "prompt_number": 10
    },
    {
     "cell_type": "markdown",
     "metadata": {},
     "source": [
      "Get back to string again, after complete cleaning and slight modifying:"
     ]
    },
    {
     "cell_type": "code",
     "collapsed": false,
     "input": [
      "string = ' '.join(ls)\n",
      "final = string.replace('....', ', ')\n",
      "final = string.replace('dirty', 'clean')\n",
      "print final"
     ],
     "language": "python",
     "metadata": {},
     "outputs": [
      {
       "output_type": "stream",
       "stream": "stdout",
       "text": [
        "this is a clean string example....wow!!!\n"
       ]
      }
     ],
     "prompt_number": 11
    },
    {
     "cell_type": "markdown",
     "metadata": {},
     "source": [
      "> For simple string management python built-in methods are enough,\n",
      "> but when we are dealing to more complex tasks,\n",
      "> regular expressions are the best solution for dealing with pattern matching. "
     ]
    },
    {
     "cell_type": "heading",
     "level": 2,
     "metadata": {},
     "source": [
      "2.2 The Power of Regular Expressions"
     ]
    },
    {
     "cell_type": "markdown",
     "metadata": {},
     "source": [
      "A regular expression (regex or regexp for short) is a special text string for describing a search pattern. Regular expressions may be used for retrieving parts of longer strings matching some desired criteria. Dealing with regular expressions may seem complex at the beginning, since they are made of both regular and special characters concatenated in a sequence, hard to be understood at a first sight. But once they are fully assimilated, they become a powerful helper while parsing any kind of text. \n",
      "The most basic regular expressions are single literal characters, for example \"a\" will look for all \"a\" occurrence in a text. But there are some special characters, also called meta-characters, which combined with regular characters and concatenated build the regular expression search patterns.\n",
      "The meta-characters used by regular expressions are: \n",
      "  \n",
      "\n",
      "<center>. ^  $  *  +  ?  {  [  ]  \\  |  (  )</center>\n",
      "  \n",
      "\n",
      "The following link refers to a list of regular expressions, and the description of their use:"
     ]
    },
    {
     "cell_type": "code",
     "collapsed": false,
     "input": [
      "from IPython.display import HTML\n",
      "HTML('<iframe src=https://help.libreoffice.org/Common/List_of_Regular_Expressions width=700 height=250>')"
     ],
     "language": "python",
     "metadata": {},
     "outputs": [
      {
       "html": [
        "<iframe src=https://help.libreoffice.org/Common/List_of_Regular_Expressions width=700 height=250>"
       ],
       "metadata": {},
       "output_type": "pyout",
       "prompt_number": 12,
       "text": [
        "<IPython.core.display.HTML at 0x9f5b320>"
       ]
      }
     ],
     "prompt_number": 12
    },
    {
     "cell_type": "markdown",
     "metadata": {},
     "source": [
      "Online there are many tools suitable for testing the effectiveness of a regular expression, such as:"
     ]
    },
    {
     "cell_type": "code",
     "collapsed": false,
     "input": [
      "HTML('<iframe src=http://www.pythonregex.com/ width=700 height=250>')"
     ],
     "language": "python",
     "metadata": {},
     "outputs": [
      {
       "html": [
        "<iframe src=http://www.pythonregex.com/ width=700 height=250>"
       ],
       "metadata": {},
       "output_type": "pyout",
       "prompt_number": 13,
       "text": [
        "<IPython.core.display.HTML at 0x9f5b208>"
       ]
      }
     ],
     "prompt_number": 13
    },
    {
     "cell_type": "heading",
     "level": 2,
     "metadata": {},
     "source": [
      "2.3 Python re module"
     ]
    },
    {
     "cell_type": "markdown",
     "metadata": {},
     "source": [
      "Python [re module](http://docs.python.org/2/library/re.html) is the python standard distribution module for the regular expressions ). It offers some methods for compiling regular expressions to RegexObjects, used to search, manage and return the expected matches."
     ]
    },
    {
     "cell_type": "code",
     "collapsed": false,
     "input": [
      "import re"
     ],
     "language": "python",
     "metadata": {},
     "outputs": [],
     "prompt_number": 14
    },
    {
     "cell_type": "markdown",
     "metadata": {},
     "source": [
      "re.match() is suitable to find a match at the beginning of a string."
     ]
    },
    {
     "cell_type": "code",
     "collapsed": false,
     "input": [
      "line = \"Cats are smarter than dogs\";\n",
      "\n",
      "matchObj = re.match( r'(.*) are (.*?) .*', line, re.M|re.I)\n",
      "if matchObj:\n",
      "   print \"matchObj.group() : \", matchObj.group()\n",
      "   print \"matchObj.group(1) : \", matchObj.group(1)\n",
      "   print \"matchObj.group(2) : \", matchObj.group(2)\n",
      "else:\n",
      "   print \"No match!!\""
     ],
     "language": "python",
     "metadata": {},
     "outputs": [
      {
       "output_type": "stream",
       "stream": "stdout",
       "text": [
        "matchObj.group() :  Cats are smarter than dogs\n",
        "matchObj.group(1) :  Cats\n",
        "matchObj.group(2) :  smarter\n"
       ]
      }
     ],
     "prompt_number": 15
    },
    {
     "cell_type": "markdown",
     "metadata": {},
     "source": [
      "re.search() is similar finds a match anywhere inside a text."
     ]
    },
    {
     "cell_type": "code",
     "collapsed": false,
     "input": [
      "string = 'purple alice-b@google.com monkey dishwasher'\n",
      "\n",
      "match = re.search(r'@[\\w.]+', string)\n",
      "if match:\n",
      "    print match.group()  ## 'b@google'"
     ],
     "language": "python",
     "metadata": {},
     "outputs": [
      {
       "output_type": "stream",
       "stream": "stdout",
       "text": [
        "@google.com\n"
       ]
      }
     ],
     "prompt_number": 16
    },
    {
     "cell_type": "code",
     "collapsed": false,
     "input": [
      "match = re.search(r'[\\w.-]+@[\\w.-]+', string)\n",
      "if match:\n",
      "    print match.group()  ## 'alice-b@google.com'"
     ],
     "language": "python",
     "metadata": {},
     "outputs": [
      {
       "output_type": "stream",
       "stream": "stdout",
       "text": [
        "alice-b@google.com\n"
       ]
      }
     ],
     "prompt_number": 17
    },
    {
     "cell_type": "code",
     "collapsed": false,
     "input": [
      "string = 'purple alice-b@google.com monkey dishwasher'\n",
      "\n",
      "match = re.search('([\\w.-]+)@([\\w.-]+)', string)\n",
      "if match:\n",
      "    print match.group()   ## 'alice-b@google.com' (the whole match)\n",
      "    print match.group(1)  ## 'alice-b' (the username, group 1)\n",
      "    print match.group(2)  ## 'google.com' (the host, group 2)"
     ],
     "language": "python",
     "metadata": {},
     "outputs": [
      {
       "output_type": "stream",
       "stream": "stdout",
       "text": [
        "alice-b@google.com\n",
        "alice-b\n",
        "google.com\n"
       ]
      }
     ],
     "prompt_number": 18
    },
    {
     "cell_type": "markdown",
     "metadata": {},
     "source": [
      "re.findall() finds all the matches for a given regular expression."
     ]
    },
    {
     "cell_type": "code",
     "collapsed": false,
     "input": [
      "## Suppose we have a text with many email addresses\n",
      "string = 'purple alice@google.com, blah monkey bob@abc.com blah dishwasher'\n",
      "\n",
      "## Here re.findall() returns a list of all the found email strings\n",
      "emails = re.findall(r'[\\w\\.-]+@[\\w\\.-]+', string) ## ['alice@google.com', 'bob@abc.com']\n",
      "for email in emails:\n",
      "    # do something with each found email string\n",
      "    print email"
     ],
     "language": "python",
     "metadata": {},
     "outputs": [
      {
       "output_type": "stream",
       "stream": "stdout",
       "text": [
        "alice@google.com\n",
        "bob@abc.com\n"
       ]
      }
     ],
     "prompt_number": 19
    },
    {
     "cell_type": "code",
     "collapsed": false,
     "input": [
      "string = 'purple alice@google.com, blah monkey bob@abc.com blah dishwasher'\n",
      "\n",
      "tuples = re.findall(r'([\\w\\.-]+)@([\\w\\.-]+)', string)\n",
      "print tuples  ## [('alice', 'google.com'), ('bob', 'abc.com')]\n",
      "for tup in tuples:\n",
      "    print tup[0]  ## username\n",
      "    print tup[1]  ## host"
     ],
     "language": "python",
     "metadata": {},
     "outputs": [
      {
       "output_type": "stream",
       "stream": "stdout",
       "text": [
        "[('alice', 'google.com'), ('bob', 'abc.com')]\n",
        "alice\n",
        "google.com\n",
        "bob\n",
        "abc.com\n"
       ]
      }
     ],
     "prompt_number": 20
    },
    {
     "cell_type": "markdown",
     "metadata": {},
     "source": [
      "re.sub() is suitable for replacing occurences ot the regex pattern with a given substitute."
     ]
    },
    {
     "cell_type": "code",
     "collapsed": false,
     "input": [
      "phone = \"2004-959-559 # This is Phone Number\"\n",
      "\n",
      "# Delete Python-style comments\n",
      "num = re.sub(r'#.*$', \"\", phone)\n",
      "print \"Phone Num : \", num\n",
      "\n",
      "# Remove anything other than digits\n",
      "num = re.sub(r'\\D', \"\", phone)    \n",
      "print \"Phone Num : \", num"
     ],
     "language": "python",
     "metadata": {},
     "outputs": [
      {
       "output_type": "stream",
       "stream": "stdout",
       "text": [
        "Phone Num :  2004-959-559 \n",
        "Phone Num :  2004959559\n"
       ]
      }
     ],
     "prompt_number": 21
    },
    {
     "cell_type": "markdown",
     "metadata": {},
     "source": [
      "Opening and looking for matches in a .txt file, in this case finding all words preceeded or followed by a - symbol."
     ]
    },
    {
     "cell_type": "code",
     "collapsed": false,
     "input": [
      "# Open file\n",
      "import os.path\n",
      "path = os.path.join(os.path.curdir, \"example_data\", \"small_is_beautiful.txt\")\n",
      "f = open(path, 'r')\n",
      "# Feed the file text into findall(); it returns a list of all the found strings\n",
      "text = f.read()\n",
      "strings = re.findall(r'(\\w*-\\w*)', text)\n",
      "print \"Matches are: \", strings\n",
      "# Follows the text parsed by the findall method:\n",
      "print 'text is: \\n', text\n",
      "f.close()"
     ],
     "language": "python",
     "metadata": {},
     "outputs": [
      {
       "output_type": "stream",
       "stream": "stdout",
       "text": [
        "Matches are:  ['so-called', 'is-', '-or', 'been-', '-the', 'laissez-faire', 'self-evident']\n",
        "text is: \n",
        "No system or machinery or economic doctrine or theory stands on its own feet: it is invariably built on a metaphysical foundation, that is to say, upon man's basic outlook on life, its meaning and its purpose. I have talked about the religion of economics, the idol worship of material possessions, of consumption and the so-called standard of living, and the fateful propensity that rejoices in the fact that 'what were luxuries to our fathers have become necessities for us.'\n",
        "Systems are never more no less than incarnations of man's most basic attitudes. . . . General evidence of material progress would suggest that the modern private enterprise system is--or has been--the most perfect instrument for the pursuit of personal enrichment. The modern private enterprise system ingeniously employs the human urges of greed and envy as its motive power, but manages to overcome the most blatant deficiencies of laissez-faire by means of Keynesian economic management, a bit of redistributive taxation, and the 'countervailing power' of the trade unions.\n",
        "Can such a system conceivably deal with the problems we are now having to face? The answer is self-evident: greed and envy demand continuous and limitless economic growth of a material kind, without proper regard for conservation, and this type of growth cannot possibly fit into a finite environment. We must therefore study the essential nature of the private enterprise system and the possibilities of evolving an alternative system which might fit the new situation.\n",
        "\n"
       ]
      }
     ],
     "prompt_number": 22
    },
    {
     "cell_type": "markdown",
     "metadata": {},
     "source": [
      "---\n",
      "\n",
      "Email **training [at ]add-for [dot] com** for more information and custom training programs."
     ]
    }
   ],
   "metadata": {}
  }
 ]
}