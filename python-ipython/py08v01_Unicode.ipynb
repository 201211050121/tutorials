{
 "metadata": {
  "name": "",
  "signature": "sha256:6f65bab0180daea0d2f8e242399de42edbc2f42f0dd082a0ff8fd4d950c33492"
 },
 "nbformat": 3,
 "nbformat_minor": 0,
 "worksheets": [
  {
   "cells": [
    {
     "cell_type": "heading",
     "level": 1,
     "metadata": {},
     "source": [
      "Unicode"
     ]
    },
    {
     "cell_type": "markdown",
     "metadata": {},
     "source": [
      "* [1 The World and Unicode](#1-The-World-and-Unicode)\n",
      "* [2 Encoding and decoding in Python 2.x](#2-Encoding-and-decoding-in-Python-2.x)\n",
      "* [3 Implicit conversion in Python 2.x](#3-Implicit-conversion-in-Python-2.x)\n",
      "* [4 Bytes Outside, Unicode Inside](#4-Bytes-Outside,-Unicode-Inside)\n"
     ]
    },
    {
     "cell_type": "code",
     "collapsed": false,
     "input": [
      "from addutils import css_notebook\n",
      "css_notebook()"
     ],
     "language": "python",
     "metadata": {},
     "outputs": [
      {
       "html": [
        "<style>\n",
        "    @font-face {\n",
        "        font-family: \"Computer Modern\";\n",
        "        src: url('http://mirrors.ctan.org/fonts/cm-unicode/fonts/otf/cmunss.otf');\n",
        "    }\n",
        "    div.cell{\n",
        "        width:900px;\n",
        "        margin-left:0% !important;\n",
        "        margin-right:0%;\n",
        "    }\n",
        "\n",
        "\tcode{\n",
        "\t\tfont-size:10pt\n",
        "\t}\n",
        "\n",
        "    h1 {\n",
        "        font-family: Tahoma, sans-serif;\n",
        "\t\tcolor: rgb( 10, 88, 126 );\n",
        "\t\tfont-size:28pt;\n",
        "    }\n",
        "\th2 {\n",
        "        font-family: Tahoma, sans-serif;\n",
        "\t\tcolor: rgb( 10, 88, 126 );\n",
        "\t\tfont-size:24pt;\n",
        "    }\n",
        "\th3 {\n",
        "        font-family: Tahoma, sans-serif;\n",
        "\t\tcolor: rgb( 10, 88, 126 );\n",
        "\t\tfont-size:20pt;\n",
        "    }\n",
        "    h4 {\n",
        "\t\tfont-family: Tahoma, sans-serif;\n",
        "\t\tcolor: rgb( 10, 88, 126 );\n",
        "\t\tfont-size:18pt;\n",
        "        margin-top:12px;\n",
        "        margin-bottom: 3px;\n",
        "       }\n",
        "\n",
        "\tul {\n",
        "\t\tfont-family: Tahoma, sans-serif;\n",
        "\t\tcolor: rgb( 90, 90, 90 );\n",
        "\t\tfont-size:11pt;\n",
        "\t\tline-height: 185%;\n",
        "\t\t}\n",
        "\n",
        "\tp {\n",
        "\t\tfont-family: Tahoma, sans-serif;\n",
        "\t\tcolor: rgb( 90, 90, 90 );\n",
        "\t\tfont-size:11pt;\n",
        "\t\t}\n",
        "\n",
        "\tstrong {\n",
        "\t\tfont-family: Tahoma, sans-serif;\n",
        "\t\tcolor: rgb( 30, 30, 30 );\n",
        "\t\tfont-size:11pt;\n",
        "\t\t}\n",
        "\n",
        "\ta:link {\n",
        "\t\tfont-family: Tahoma, sans-serif;\n",
        "\t\tcolor: rgb( 10, 88, 126 );\n",
        "\t\tfont-size:11pt;\n",
        "\t\t}\n",
        "\n",
        "\ta:visited {\n",
        "\t\tcolor:rgb( 10, 88, 126 );\n",
        "\t}\n",
        "\n",
        "    div.text_cell_render{\n",
        "        font-family: Helvetica, Courier, Computer Modern, \"Helvetica Neue\", Arial, Geneva, sans-serif;\n",
        "\t\tcolor: rgb( 84, 84, 84 );\n",
        "\t\tfont-size:11pt;\n",
        "        line-height: 125%;\n",
        "        font-size: 100%;\n",
        "        width:800px;\n",
        "        margin-left:auto;\n",
        "        margin-right:auto;\n",
        "    }\n",
        "    .CodeMirror{\n",
        "            font-family: Courier, \"Source Code Pro\", source-code-pro,Consolas, monospace;\n",
        "    }\n",
        "\n",
        "    .text_cell_render h5 {\n",
        "        font-weight: 300;\n",
        "        font-size: 11pt;\n",
        "        color: rgb( 48, 48, 48 );\n",
        "        font-style: italic;\n",
        "        margin-bottom: .5em;\n",
        "        margin-top: 0.5em;\n",
        "        display: block;\n",
        "    }\n",
        "\n",
        "    .warning{\n",
        "        color: rgb( 240, 20, 20 )\n",
        "        }\n",
        ".rendered_html td\n",
        "{\n",
        "text-align: right;\n",
        "}\n",
        "\n",
        "</style>\n",
        "<script>\n",
        "    MathJax.Hub.Config({\n",
        "                        TeX: {\n",
        "                           extensions: [\"AMSmath.js\"]\n",
        "                           },\n",
        "                displayAlign: 'center', // Change this to 'center' to center equations.\n",
        "                \"HTML-CSS\": {\n",
        "                    styles: {'.MathJax_Display': {\"margin\": 4}}\n",
        "                }\n",
        "        });\n",
        "</script>\n"
       ],
       "metadata": {},
       "output_type": "pyout",
       "prompt_number": 1,
       "text": [
        "<IPython.core.display.HTML at 0x36a62b0>"
       ]
      }
     ],
     "prompt_number": 1
    },
    {
     "cell_type": "heading",
     "level": 2,
     "metadata": {},
     "source": [
      "1 The World and Unicode"
     ]
    },
    {
     "cell_type": "markdown",
     "metadata": {},
     "source": [
      "There are five unavoidable facts to take in consideration:\n",
      "\n",
      "**Computers are built on Bytes**\n",
      "\n",
      "It's not possible to send Unicode to someone: the only thing possible is to send bytes. You don't send text: you send bytes.\n",
      "\n",
      "To send text to people what we decided to do, because bytes are meaningless, is to assign meaning to bytes. The most known convenction id the *ASCII* code that takes 95 graphic symbols and maps it to bytes values. Other codings assigned more values: *ISO 8859-1= added 96 more characters and *Windows-1252* added 27 more characters.\n",
      "\n",
      "**256 Symbols are not enough for the world to communicate text**\n",
      "\n",
      "There a lot of languages in the world and it's not possible to ask everyone to speak English!\n",
      "\n",
      "To deal with more than 256 symbols the first idea was to make new single-bytes codes. Thea was infeasible because many different codes where made at the same time, not to mention alphabets with more than 256 symbols. Next idea was dealing with two-bytes codes but this generated problems anyway.\n",
      "\n",
      "We end-up by making *Unicode*. Unicode is foundamentally a giant catalogue of symbols assigned to integers. The structure of Unicode allows 1.1M characters of which 110K has been assigned so far, so we used nearly 10% of the available space and we covered all the world languages.\n",
      "\n",
      "What we have to do is to figure out how to map this 1.1M integers in bytes. This is done by encodings: encodings are ways to map integer to bytes and vice-versa.\n",
      "\n",
      "There is a number of different encodings (UTF-8, UTF-16, UTF-32, UCS-2, UCS-4) but the king of all the encodings is *UTF-8*.\n",
      "\n",
      "**UTF-8** is the most important encoding you must know about: is variable lenght (from one to four bytes) and ASCII character are still represented by one byte. This means that ASCII strings are valid UTF-8 strings."
     ]
    },
    {
     "cell_type": "heading",
     "level": 2,
     "metadata": {},
     "source": [
      "2 Encoding and decoding in Python 2.x"
     ]
    },
    {
     "cell_type": "markdown",
     "metadata": {},
     "source": [
      "In Python 2.x there are two distinct datatypes: one for storing *bytes* which is called `str` and one for storing *Unicode code points*, called `unicode`"
     ]
    },
    {
     "cell_type": "code",
     "collapsed": false,
     "input": [
      "my_string = 'Hello World!'\n",
      "print type(my_string)"
     ],
     "language": "python",
     "metadata": {},
     "outputs": [
      {
       "output_type": "stream",
       "stream": "stdout",
       "text": [
        "<type 'str'>\n"
       ]
      }
     ],
     "prompt_number": 2
    },
    {
     "cell_type": "code",
     "collapsed": false,
     "input": [
      "my_unicode_codepoints = u'\u1e72\u03b7\u0457cod\u20ac \u2020\u212f\u2716t'\n",
      "print type(my_unicode_codepoints)\n",
      "print repr(my_unicode_codepoints)\n",
      "print my_unicode_codepoints"
     ],
     "language": "python",
     "metadata": {},
     "outputs": [
      {
       "output_type": "stream",
       "stream": "stdout",
       "text": [
        "<type 'unicode'>\n",
        "u'\\u1e72\\u03b7\\u0457cod\\u20ac \\u2020\\u212f\\u2716t'\n",
        "\u1e72\u03b7\u0457cod\u20ac \u2020\u212f\u2716t\n"
       ]
      }
     ],
     "prompt_number": 3
    },
    {
     "cell_type": "markdown",
     "metadata": {},
     "source": [
      "A *Unicode* string has an `encode` method who turns codepoints into bytes and byte strings hade a `decode` method who turn bytes in code points\n",
      "\n",
      "* **decode()** BYTES -> CODEPOINTS\n",
      "* **encode()** CODEPOINTS -> BYTES\n"
     ]
    },
    {
     "cell_type": "code",
     "collapsed": false,
     "input": [
      "my_utf8_bytes = my_unicode_codepoints.encode('utf-8') # bytes\n",
      "print repr(my_utf8_bytes)"
     ],
     "language": "python",
     "metadata": {},
     "outputs": [
      {
       "output_type": "stream",
       "stream": "stdout",
       "text": [
        "'\\xe1\\xb9\\xb2\\xce\\xb7\\xd1\\x97cod\\xe2\\x82\\xac \\xe2\\x80\\xa0\\xe2\\x84\\xaf\\xe2\\x9c\\x96t'\n"
       ]
      }
     ],
     "prompt_number": 4
    },
    {
     "cell_type": "code",
     "collapsed": false,
     "input": [
      "print repr(my_utf8_bytes.decode('utf-8')) # Codepoints\n",
      "print my_utf8_bytes.decode('utf-8')"
     ],
     "language": "python",
     "metadata": {},
     "outputs": [
      {
       "output_type": "stream",
       "stream": "stdout",
       "text": [
        "u'\\u1e72\\u03b7\\u0457cod\\u20ac \\u2020\\u212f\\u2716t'\n",
        "\u1e72\u03b7\u0457cod\u20ac \u2020\u212f\u2716t\n"
       ]
      }
     ],
     "prompt_number": 5
    },
    {
     "cell_type": "markdown",
     "metadata": {},
     "source": [
      "Most errors are generated because the encoder can't convert properly. In this case the ASCII decoder finds that some characters are not in the 0-127 range"
     ]
    },
    {
     "cell_type": "code",
     "collapsed": false,
     "input": [
      "my_unicode_codepoints.encode('ASCII')"
     ],
     "language": "python",
     "metadata": {},
     "outputs": [
      {
       "ename": "UnicodeEncodeError",
       "evalue": "'ascii' codec can't encode characters in position 0-2: ordinal not in range(128)",
       "output_type": "pyerr",
       "traceback": [
        "\u001b[1;31m---------------------------------------------------------------------------\u001b[0m\n\u001b[1;31mUnicodeEncodeError\u001b[0m                        Traceback (most recent call last)",
        "\u001b[1;32m<ipython-input-6-7044850a5c1f>\u001b[0m in \u001b[0;36m<module>\u001b[1;34m()\u001b[0m\n\u001b[1;32m----> 1\u001b[1;33m \u001b[0mmy_unicode_codepoints\u001b[0m\u001b[1;33m.\u001b[0m\u001b[0mencode\u001b[0m\u001b[1;33m(\u001b[0m\u001b[1;34m'ASCII'\u001b[0m\u001b[1;33m)\u001b[0m\u001b[1;33m\u001b[0m\u001b[0m\n\u001b[0m",
        "\u001b[1;31mUnicodeEncodeError\u001b[0m: 'ascii' codec can't encode characters in position 0-2: ordinal not in range(128)"
       ]
      }
     ],
     "prompt_number": 6
    },
    {
     "cell_type": "markdown",
     "metadata": {},
     "source": [
      "An usual work-around is to tell the decoder to replace, ignore or convert the unrecognized characters in xml"
     ]
    },
    {
     "cell_type": "code",
     "collapsed": false,
     "input": [
      "print my_unicode_codepoints.encode('ASCII', 'replace')\n",
      "print my_unicode_codepoints.encode('ASCII', 'ignore')\n",
      "print my_unicode_codepoints.encode('ASCII', 'xmlcharrefreplace')"
     ],
     "language": "python",
     "metadata": {},
     "outputs": [
      {
       "output_type": "stream",
       "stream": "stdout",
       "text": [
        "???cod? ???t\n",
        "cod t\n",
        "&#7794;&#951;&#1111;cod&#8364; &#8224;&#8495;&#10006;t\n"
       ]
      }
     ],
     "prompt_number": 7
    },
    {
     "cell_type": "markdown",
     "metadata": {},
     "source": [
      "Same for decoding"
     ]
    },
    {
     "cell_type": "code",
     "collapsed": false,
     "input": [
      "print my_utf8_bytes.decode('ASCII', 'replace')"
     ],
     "language": "python",
     "metadata": {},
     "outputs": [
      {
       "output_type": "stream",
       "stream": "stdout",
       "text": [
        "\ufffd\ufffd\ufffd\ufffd\ufffd\ufffd\ufffdcod\ufffd\ufffd\ufffd \ufffd\ufffd\ufffd\ufffd\ufffd\ufffd\ufffd\ufffd\ufffdt\n"
       ]
      }
     ],
     "prompt_number": 8
    },
    {
     "cell_type": "heading",
     "level": 2,
     "metadata": {},
     "source": [
      "3 Implicit conversion in Python 2.x"
     ]
    },
    {
     "cell_type": "markdown",
     "metadata": {},
     "source": [
      "Python 2.x implicitly decodes strings while mixing bytes and unicode togheter. So for example if we add an Unicode string with a byte string, the byte string is decoded using the dafault that in this case is ASCII"
     ]
    },
    {
     "cell_type": "code",
     "collapsed": false,
     "input": [
      "import sys\n",
      "print sys.getdefaultencoding()\n",
      "u'Hello ' + 'World!'"
     ],
     "language": "python",
     "metadata": {},
     "outputs": [
      {
       "output_type": "stream",
       "stream": "stdout",
       "text": [
        "ascii\n"
       ]
      },
      {
       "metadata": {},
       "output_type": "pyout",
       "prompt_number": 9,
       "text": [
        "u'Hello World!'"
       ]
      }
     ],
     "prompt_number": 9
    },
    {
     "cell_type": "markdown",
     "metadata": {},
     "source": [
      "This is equivalent to:"
     ]
    },
    {
     "cell_type": "code",
     "collapsed": false,
     "input": [
      "u'Hello ' + ('World!'.decode('ascii'))"
     ],
     "language": "python",
     "metadata": {},
     "outputs": [
      {
       "metadata": {},
       "output_type": "pyout",
       "prompt_number": 10,
       "text": [
        "u'Hello World!'"
       ]
      }
     ],
     "prompt_number": 10
    },
    {
     "cell_type": "markdown",
     "metadata": {},
     "source": [
      "This automatic decoding works well just when everything is encoded as system default (usually ASCII). In all the other cases you're in trouble in very tricky ways. In this case the codepoints are correctly encoded to bytes but then `print` triggers an automatic decoding using the `ASCII` encoder:"
     ]
    },
    {
     "cell_type": "code",
     "collapsed": false,
     "input": [
      "my_unicode_codepoints = u'\u1e72\u03b7\u0457cod\u20ac \u2020\u212f\u2716t'\n",
      "print my_unicode_codepoints                # Unicode (codepoints) print correctly\n",
      "my_utf8_bytes = my_unicode_codepoints.encode('utf-8')\n",
      "print my_utf8_bytes                        # Bytes DO NOT print correctly\n",
      "print my_utf8_bytes.decode('utf-8')        # Force the right decoding"
     ],
     "language": "python",
     "metadata": {},
     "outputs": [
      {
       "output_type": "stream",
       "stream": "stdout",
       "text": [
        "\u1e72\u03b7\u0457cod\u20ac \u2020\u212f\u2716t\n",
        "\u1e72\u03b7\u0457cod\u20ac \u2020\u212f\u2716t\n",
        "\u1e72\u03b7\u0457cod\u20ac \u2020\u212f\u2716t\n"
       ]
      }
     ],
     "prompt_number": 11
    },
    {
     "cell_type": "heading",
     "level": 2,
     "metadata": {},
     "source": [
      "4 Bytes Outside, Unicode Inside"
     ]
    },
    {
     "cell_type": "markdown",
     "metadata": {},
     "source": [
      "The most important thing we have to remember to deal with unicode is to convert to Unicode as soon as possible (when we get the raw data) and to convert to bytes just before sending the data out of our program. In other words:\n",
      "\n",
      "* **do a decode()** bytes -> codepoints **as soon as possible**\n",
      "* **do a encode()** codepoints -> bytes **as late as possible**\n",
      "\n",
      "*But remember: you can't infer encoding from bytes: someone has to tell you the encoding*\n",
      "\n",
      "*TEST with text generators:* the best way to check if your code works well is to feed it with unicode strings and not just with ASCII strings. If you want to find a Text Generator just type *\"fancy text generators\"* on Google."
     ]
    },
    {
     "cell_type": "markdown",
     "metadata": {},
     "source": [
      "If you want to have an idea of what's inside Unicode, just use the Python `unichr()` command. Have fun!"
     ]
    },
    {
     "cell_type": "code",
     "collapsed": false,
     "input": [
      "start = 10000\n",
      "for i in xrange(start, start+500):\n",
      "    print unichr(i),"
     ],
     "language": "python",
     "metadata": {},
     "outputs": [
      {
       "output_type": "stream",
       "stream": "stdout",
       "text": [
        "\u2710 \u2711 \u2712 \u2713 \u2714 \u2715 \u2716 \u2717 \u2718 \u2719 \u271a \u271b \u271c \u271d \u271e \u271f \u2720 \u2721 \u2722 \u2723 \u2724 \u2725 \u2726 \u2727 \u2728 \u2729 \u272a \u272b \u272c \u272d \u272e \u272f \u2730 \u2731 \u2732 \u2733 \u2734 \u2735 \u2736 \u2737 \u2738 \u2739 \u273a \u273b \u273c \u273d \u273e \u273f \u2740 \u2741 \u2742 \u2743 \u2744 \u2745 \u2746 \u2747 \u2748 \u2749 \u274a \u274b \u274c \u274d \u274e \u274f \u2750 \u2751 \u2752 \u2753 \u2754 \u2755 \u2756 \u2757 \u2758 \u2759 \u275a \u275b \u275c \u275d \u275e \u275f \u2760 \u2761 \u2762 \u2763 \u2764 \u2765 \u2766 \u2767 \u2768 \u2769 \u276a \u276b \u276c \u276d \u276e \u276f \u2770 \u2771 \u2772 \u2773 \u2774 \u2775 \u2776 \u2777 \u2778 \u2779 \u277a \u277b \u277c \u277d \u277e \u277f \u2780 \u2781 \u2782 \u2783 \u2784 \u2785 \u2786 \u2787 \u2788 \u2789 \u278a \u278b \u278c \u278d \u278e \u278f \u2790 \u2791 \u2792 \u2793 \u2794 \u2795 \u2796 \u2797 \u2798 \u2799 \u279a \u279b \u279c \u279d \u279e \u279f \u27a0 \u27a1 \u27a2 \u27a3 \u27a4 \u27a5 \u27a6 \u27a7 \u27a8 \u27a9 \u27aa \u27ab \u27ac \u27ad \u27ae \u27af \u27b0 \u27b1 \u27b2 \u27b3 \u27b4 \u27b5 \u27b6 \u27b7 \u27b8 \u27b9 \u27ba \u27bb \u27bc \u27bd \u27be \u27bf \u27c0 \u27c1 \u27c2 \u27c3 \u27c4 \u27c5 \u27c6 \u27c7 \u27c8 \u27c9 \u27ca \u27cb \u27cc \u27cd \u27ce \u27cf \u27d0 \u27d1 \u27d2 \u27d3 \u27d4 \u27d5 \u27d6 \u27d7 \u27d8 \u27d9 \u27da \u27db \u27dc \u27dd \u27de \u27df \u27e0 \u27e1 \u27e2 \u27e3 \u27e4 \u27e5 \u27e6 \u27e7 \u27e8 \u27e9 \u27ea \u27eb \u27ec \u27ed \u27ee \u27ef \u27f0 \u27f1 \u27f2 \u27f3 \u27f4 \u27f5 \u27f6 \u27f7 \u27f8 \u27f9 \u27fa \u27fb \u27fc \u27fd \u27fe \u27ff \u2800 \u2801 \u2802 \u2803 \u2804 \u2805 \u2806 \u2807 \u2808 \u2809 \u280a \u280b \u280c \u280d \u280e \u280f \u2810 \u2811 \u2812 \u2813 \u2814 \u2815 \u2816 \u2817 \u2818 \u2819 \u281a \u281b \u281c \u281d \u281e \u281f \u2820 \u2821 \u2822 \u2823 \u2824 \u2825 \u2826 \u2827 \u2828 \u2829 \u282a \u282b \u282c \u282d \u282e \u282f \u2830 \u2831 \u2832 \u2833 \u2834 \u2835 \u2836 \u2837 \u2838 \u2839 \u283a \u283b \u283c \u283d \u283e \u283f \u2840 \u2841 \u2842 \u2843 \u2844 \u2845 \u2846 \u2847 \u2848 \u2849 \u284a \u284b \u284c \u284d \u284e \u284f \u2850 \u2851 \u2852 \u2853 \u2854 \u2855 \u2856 \u2857 \u2858 \u2859 \u285a \u285b \u285c \u285d \u285e \u285f \u2860 \u2861 \u2862 \u2863 \u2864 \u2865 \u2866 \u2867 \u2868 \u2869 \u286a \u286b \u286c \u286d \u286e \u286f \u2870 \u2871 \u2872 \u2873 \u2874 \u2875 \u2876 \u2877 \u2878 \u2879 \u287a \u287b \u287c \u287d \u287e \u287f \u2880 \u2881 \u2882 \u2883 \u2884 \u2885 \u2886 \u2887 \u2888 \u2889 \u288a \u288b \u288c \u288d \u288e \u288f \u2890 \u2891 \u2892 \u2893 \u2894 \u2895 \u2896 \u2897 \u2898 \u2899 \u289a \u289b \u289c \u289d \u289e \u289f \u28a0 \u28a1 \u28a2 \u28a3 \u28a4 \u28a5 \u28a6 \u28a7 \u28a8 \u28a9 \u28aa \u28ab \u28ac \u28ad \u28ae \u28af \u28b0 \u28b1 \u28b2 \u28b3 \u28b4 \u28b5 \u28b6 \u28b7 \u28b8 \u28b9 \u28ba \u28bb \u28bc \u28bd \u28be \u28bf \u28c0 \u28c1 \u28c2 \u28c3 \u28c4 \u28c5 \u28c6 \u28c7 \u28c8 \u28c9 \u28ca \u28cb \u28cc \u28cd \u28ce \u28cf \u28d0 \u28d1 \u28d2 \u28d3 \u28d4 \u28d5 \u28d6 \u28d7 \u28d8 \u28d9 \u28da \u28db \u28dc \u28dd \u28de \u28df \u28e0 \u28e1 \u28e2 \u28e3 \u28e4 \u28e5 \u28e6 \u28e7 \u28e8 \u28e9 \u28ea \u28eb \u28ec \u28ed \u28ee \u28ef \u28f0 \u28f1 \u28f2 \u28f3 \u28f4 \u28f5 \u28f6 \u28f7 \u28f8 \u28f9 \u28fa \u28fb \u28fc \u28fd \u28fe \u28ff \u2900 \u2901 \u2902 \u2903\n"
       ]
      }
     ],
     "prompt_number": 12
    },
    {
     "cell_type": "markdown",
     "metadata": {},
     "source": [
      "For more information check this video from PyCon2012:"
     ]
    },
    {
     "cell_type": "code",
     "collapsed": false,
     "input": [
      "# Video credit: Ned Batchelder\n",
      "from IPython.display import YouTubeVideo\n",
      "YouTubeVideo('sgHbC6udIqc', width=640, height=480)"
     ],
     "language": "python",
     "metadata": {},
     "outputs": [
      {
       "html": [
        "\n",
        "        <iframe\n",
        "            width=\"640\"\n",
        "            height=480\"\n",
        "            src=\"https://www.youtube.com/embed/sgHbC6udIqc\"\n",
        "            frameborder=\"0\"\n",
        "            allowfullscreen\n",
        "        ></iframe>\n",
        "        "
       ],
       "metadata": {},
       "output_type": "pyout",
       "prompt_number": 13,
       "text": [
        "<IPython.lib.display.YouTubeVideo at 0x9ff8da0>"
       ]
      }
     ],
     "prompt_number": 13
    },
    {
     "cell_type": "markdown",
     "metadata": {},
     "source": [
      "---\n",
      "\n",
      "Email **training [at ]add-for [dot] com** for more information and custom training programs."
     ]
    }
   ],
   "metadata": {}
  }
 ]
}